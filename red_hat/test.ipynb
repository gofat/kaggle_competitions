{
 "cells": [
  {
   "cell_type": "code",
   "execution_count": 1,
   "metadata": {
    "collapsed": true
   },
   "outputs": [],
   "source": [
    "import pandas as pd\n",
    "import numpy as np\n",
    "import matplotlib.pyplot as plt\n",
    "import seaborn as sns\n",
    "%matplotlib inline"
   ]
  },
  {
   "cell_type": "code",
   "execution_count": 2,
   "metadata": {
    "collapsed": false
   },
   "outputs": [],
   "source": [
    "train = pd.read_csv('act_train.csv', parse_dates = ['date'])\n",
    "test = pd.read_csv('act_test.csv', parse_dates = ['date'])\n",
    "people = pd.read_csv('people.csv', parse_dates = ['date'])"
   ]
  },
  {
   "cell_type": "code",
   "execution_count": 3,
   "metadata": {
    "collapsed": false
   },
   "outputs": [
    {
     "data": {
      "text/html": [
       "<div>\n",
       "<table border=\"1\" class=\"dataframe\">\n",
       "  <thead>\n",
       "    <tr style=\"text-align: right;\">\n",
       "      <th></th>\n",
       "      <th>people_id</th>\n",
       "      <th>activity_id</th>\n",
       "      <th>date</th>\n",
       "      <th>activity_category</th>\n",
       "      <th>char_1</th>\n",
       "      <th>char_2</th>\n",
       "      <th>char_3</th>\n",
       "      <th>char_4</th>\n",
       "      <th>char_5</th>\n",
       "      <th>char_6</th>\n",
       "      <th>char_7</th>\n",
       "      <th>char_8</th>\n",
       "      <th>char_9</th>\n",
       "      <th>char_10</th>\n",
       "      <th>outcome</th>\n",
       "    </tr>\n",
       "  </thead>\n",
       "  <tbody>\n",
       "    <tr>\n",
       "      <th>0</th>\n",
       "      <td>ppl_100</td>\n",
       "      <td>act2_1734928</td>\n",
       "      <td>2023-08-26</td>\n",
       "      <td>type 4</td>\n",
       "      <td>NaN</td>\n",
       "      <td>NaN</td>\n",
       "      <td>NaN</td>\n",
       "      <td>NaN</td>\n",
       "      <td>NaN</td>\n",
       "      <td>NaN</td>\n",
       "      <td>NaN</td>\n",
       "      <td>NaN</td>\n",
       "      <td>NaN</td>\n",
       "      <td>type 76</td>\n",
       "      <td>0</td>\n",
       "    </tr>\n",
       "    <tr>\n",
       "      <th>1</th>\n",
       "      <td>ppl_100</td>\n",
       "      <td>act2_2434093</td>\n",
       "      <td>2022-09-27</td>\n",
       "      <td>type 2</td>\n",
       "      <td>NaN</td>\n",
       "      <td>NaN</td>\n",
       "      <td>NaN</td>\n",
       "      <td>NaN</td>\n",
       "      <td>NaN</td>\n",
       "      <td>NaN</td>\n",
       "      <td>NaN</td>\n",
       "      <td>NaN</td>\n",
       "      <td>NaN</td>\n",
       "      <td>type 1</td>\n",
       "      <td>0</td>\n",
       "    </tr>\n",
       "  </tbody>\n",
       "</table>\n",
       "</div>"
      ],
      "text/plain": [
       "  people_id   activity_id       date activity_category char_1 char_2 char_3  \\\n",
       "0   ppl_100  act2_1734928 2023-08-26            type 4    NaN    NaN    NaN   \n",
       "1   ppl_100  act2_2434093 2022-09-27            type 2    NaN    NaN    NaN   \n",
       "\n",
       "  char_4 char_5 char_6 char_7 char_8 char_9  char_10  outcome  \n",
       "0    NaN    NaN    NaN    NaN    NaN    NaN  type 76        0  \n",
       "1    NaN    NaN    NaN    NaN    NaN    NaN   type 1        0  "
      ]
     },
     "execution_count": 3,
     "metadata": {},
     "output_type": "execute_result"
    }
   ],
   "source": [
    "train.head(2)"
   ]
  },
  {
   "cell_type": "code",
   "execution_count": 4,
   "metadata": {
    "collapsed": false
   },
   "outputs": [
    {
     "data": {
      "text/html": [
       "<div>\n",
       "<table border=\"1\" class=\"dataframe\">\n",
       "  <thead>\n",
       "    <tr style=\"text-align: right;\">\n",
       "      <th></th>\n",
       "      <th>people_id</th>\n",
       "      <th>activity_id</th>\n",
       "      <th>date</th>\n",
       "      <th>activity_category</th>\n",
       "      <th>char_1</th>\n",
       "      <th>char_2</th>\n",
       "      <th>char_3</th>\n",
       "      <th>char_4</th>\n",
       "      <th>char_5</th>\n",
       "      <th>char_6</th>\n",
       "      <th>char_7</th>\n",
       "      <th>char_8</th>\n",
       "      <th>char_9</th>\n",
       "      <th>char_10</th>\n",
       "    </tr>\n",
       "  </thead>\n",
       "  <tbody>\n",
       "    <tr>\n",
       "      <th>0</th>\n",
       "      <td>ppl_100004</td>\n",
       "      <td>act1_249281</td>\n",
       "      <td>2022-07-20</td>\n",
       "      <td>type 1</td>\n",
       "      <td>type 5</td>\n",
       "      <td>type 10</td>\n",
       "      <td>type 5</td>\n",
       "      <td>type 1</td>\n",
       "      <td>type 6</td>\n",
       "      <td>type 1</td>\n",
       "      <td>type 1</td>\n",
       "      <td>type 7</td>\n",
       "      <td>type 4</td>\n",
       "      <td>NaN</td>\n",
       "    </tr>\n",
       "    <tr>\n",
       "      <th>1</th>\n",
       "      <td>ppl_100004</td>\n",
       "      <td>act2_230855</td>\n",
       "      <td>2022-07-20</td>\n",
       "      <td>type 5</td>\n",
       "      <td>NaN</td>\n",
       "      <td>NaN</td>\n",
       "      <td>NaN</td>\n",
       "      <td>NaN</td>\n",
       "      <td>NaN</td>\n",
       "      <td>NaN</td>\n",
       "      <td>NaN</td>\n",
       "      <td>NaN</td>\n",
       "      <td>NaN</td>\n",
       "      <td>type 682</td>\n",
       "    </tr>\n",
       "  </tbody>\n",
       "</table>\n",
       "</div>"
      ],
      "text/plain": [
       "    people_id  activity_id       date activity_category  char_1   char_2  \\\n",
       "0  ppl_100004  act1_249281 2022-07-20            type 1  type 5  type 10   \n",
       "1  ppl_100004  act2_230855 2022-07-20            type 5     NaN      NaN   \n",
       "\n",
       "   char_3  char_4  char_5  char_6  char_7  char_8  char_9   char_10  \n",
       "0  type 5  type 1  type 6  type 1  type 1  type 7  type 4       NaN  \n",
       "1     NaN     NaN     NaN     NaN     NaN     NaN     NaN  type 682  "
      ]
     },
     "execution_count": 4,
     "metadata": {},
     "output_type": "execute_result"
    }
   ],
   "source": [
    "test.head(2)"
   ]
  },
  {
   "cell_type": "code",
   "execution_count": 5,
   "metadata": {
    "collapsed": false
   },
   "outputs": [
    {
     "data": {
      "text/html": [
       "<div>\n",
       "<table border=\"1\" class=\"dataframe\">\n",
       "  <thead>\n",
       "    <tr style=\"text-align: right;\">\n",
       "      <th></th>\n",
       "      <th>people_id</th>\n",
       "      <th>char_1</th>\n",
       "      <th>group_1</th>\n",
       "      <th>char_2</th>\n",
       "      <th>date</th>\n",
       "      <th>char_3</th>\n",
       "      <th>char_4</th>\n",
       "      <th>char_5</th>\n",
       "      <th>char_6</th>\n",
       "      <th>char_7</th>\n",
       "      <th>...</th>\n",
       "      <th>char_29</th>\n",
       "      <th>char_30</th>\n",
       "      <th>char_31</th>\n",
       "      <th>char_32</th>\n",
       "      <th>char_33</th>\n",
       "      <th>char_34</th>\n",
       "      <th>char_35</th>\n",
       "      <th>char_36</th>\n",
       "      <th>char_37</th>\n",
       "      <th>char_38</th>\n",
       "    </tr>\n",
       "  </thead>\n",
       "  <tbody>\n",
       "    <tr>\n",
       "      <th>0</th>\n",
       "      <td>ppl_100</td>\n",
       "      <td>type 2</td>\n",
       "      <td>group 17304</td>\n",
       "      <td>type 2</td>\n",
       "      <td>2021-06-29</td>\n",
       "      <td>type 5</td>\n",
       "      <td>type 5</td>\n",
       "      <td>type 5</td>\n",
       "      <td>type 3</td>\n",
       "      <td>type 11</td>\n",
       "      <td>...</td>\n",
       "      <td>False</td>\n",
       "      <td>True</td>\n",
       "      <td>True</td>\n",
       "      <td>False</td>\n",
       "      <td>False</td>\n",
       "      <td>True</td>\n",
       "      <td>True</td>\n",
       "      <td>True</td>\n",
       "      <td>False</td>\n",
       "      <td>36</td>\n",
       "    </tr>\n",
       "    <tr>\n",
       "      <th>1</th>\n",
       "      <td>ppl_100002</td>\n",
       "      <td>type 2</td>\n",
       "      <td>group 8688</td>\n",
       "      <td>type 3</td>\n",
       "      <td>2021-01-06</td>\n",
       "      <td>type 28</td>\n",
       "      <td>type 9</td>\n",
       "      <td>type 5</td>\n",
       "      <td>type 3</td>\n",
       "      <td>type 11</td>\n",
       "      <td>...</td>\n",
       "      <td>False</td>\n",
       "      <td>True</td>\n",
       "      <td>True</td>\n",
       "      <td>True</td>\n",
       "      <td>True</td>\n",
       "      <td>True</td>\n",
       "      <td>True</td>\n",
       "      <td>True</td>\n",
       "      <td>False</td>\n",
       "      <td>76</td>\n",
       "    </tr>\n",
       "  </tbody>\n",
       "</table>\n",
       "<p>2 rows × 41 columns</p>\n",
       "</div>"
      ],
      "text/plain": [
       "    people_id  char_1      group_1  char_2       date   char_3  char_4  \\\n",
       "0     ppl_100  type 2  group 17304  type 2 2021-06-29   type 5  type 5   \n",
       "1  ppl_100002  type 2   group 8688  type 3 2021-01-06  type 28  type 9   \n",
       "\n",
       "   char_5  char_6   char_7   ...   char_29 char_30 char_31 char_32 char_33  \\\n",
       "0  type 5  type 3  type 11   ...     False    True    True   False   False   \n",
       "1  type 5  type 3  type 11   ...     False    True    True    True    True   \n",
       "\n",
       "  char_34 char_35 char_36 char_37 char_38  \n",
       "0    True    True    True   False      36  \n",
       "1    True    True    True   False      76  \n",
       "\n",
       "[2 rows x 41 columns]"
      ]
     },
     "execution_count": 5,
     "metadata": {},
     "output_type": "execute_result"
    }
   ],
   "source": [
    "people.head(2)"
   ]
  },
  {
   "cell_type": "code",
   "execution_count": 6,
   "metadata": {
    "collapsed": true
   },
   "outputs": [],
   "source": [
    "# Save the test IDs for Kaggle submission\n",
    "test_ids = test['activity_id']\n",
    "\n",
    "def preprocess_acts(data, train_set=True):\n",
    "    \n",
    "    # Getting rid of data feature for now\n",
    "    data = data.drop(['date', 'activity_id'], axis=1)\n",
    "    if(train_set):\n",
    "        data = data.drop(['outcome'], axis=1)\n",
    "    \n",
    "    ## Split off _ from people_id\n",
    "    data['people_id'] = data['people_id'].apply(lambda x: x.split('_')[1])\n",
    "    data['people_id'] = pd.to_numeric(data['people_id']).astype(int)\n",
    "    \n",
    "    columns = list(data.columns)\n",
    "    \n",
    "    # Convert strings to ints\n",
    "    for col in columns[1:]:\n",
    "        data[col] = data[col].fillna('type -999')\n",
    "        data[col] = data[col].apply(lambda x: x.split(' ')[1])\n",
    "        data[col] = pd.to_numeric(data[col]).astype(int)\n",
    "    return data\n",
    "\n",
    "def preprocess_people(data):\n",
    "    \n",
    "    # TODO refactor this duplication\n",
    "    data = data.drop(['date'], axis=1)\n",
    "    data['people_id'] = data['people_id'].apply(lambda x: x.split('_')[1])\n",
    "    data['people_id'] = pd.to_numeric(data['people_id']).astype(int)\n",
    "    \n",
    "    #  Values in the people df is Booleans and Strings    \n",
    "    columns = list(data.columns)\n",
    "    bools = columns[11:]\n",
    "    strings = columns[1:11]\n",
    "    \n",
    "    for col in bools:\n",
    "        data[col] = pd.to_numeric(data[col]).astype(int)        \n",
    "    for col in strings:\n",
    "        data[col] = data[col].fillna('type -999')\n",
    "        data[col] = data[col].apply(lambda x: x.split(' ')[1])\n",
    "        data[col] = pd.to_numeric(data[col]).astype(int)\n",
    "    return data"
   ]
  },
  {
   "cell_type": "code",
   "execution_count": 7,
   "metadata": {
    "collapsed": false
   },
   "outputs": [],
   "source": [
    "# Preprocess each df\n",
    "peeps = preprocess_people(people)\n",
    "actions_train = preprocess_acts(train)\n",
    "actions_test = preprocess_acts(test, train_set=False)"
   ]
  },
  {
   "cell_type": "code",
   "execution_count": 8,
   "metadata": {
    "collapsed": false
   },
   "outputs": [
    {
     "data": {
      "text/html": [
       "<div>\n",
       "<table border=\"1\" class=\"dataframe\">\n",
       "  <thead>\n",
       "    <tr style=\"text-align: right;\">\n",
       "      <th></th>\n",
       "      <th>people_id</th>\n",
       "      <th>activity_category</th>\n",
       "      <th>char_1_x</th>\n",
       "      <th>char_2_x</th>\n",
       "      <th>char_3_x</th>\n",
       "      <th>char_4_x</th>\n",
       "      <th>char_5_x</th>\n",
       "      <th>char_6_x</th>\n",
       "      <th>char_7_x</th>\n",
       "      <th>char_8_x</th>\n",
       "      <th>...</th>\n",
       "      <th>char_29</th>\n",
       "      <th>char_30</th>\n",
       "      <th>char_31</th>\n",
       "      <th>char_32</th>\n",
       "      <th>char_33</th>\n",
       "      <th>char_34</th>\n",
       "      <th>char_35</th>\n",
       "      <th>char_36</th>\n",
       "      <th>char_37</th>\n",
       "      <th>char_38</th>\n",
       "    </tr>\n",
       "  </thead>\n",
       "  <tbody>\n",
       "    <tr>\n",
       "      <th>867017</th>\n",
       "      <td>247268</td>\n",
       "      <td>2</td>\n",
       "      <td>-999</td>\n",
       "      <td>-999</td>\n",
       "      <td>-999</td>\n",
       "      <td>-999</td>\n",
       "      <td>-999</td>\n",
       "      <td>-999</td>\n",
       "      <td>-999</td>\n",
       "      <td>-999</td>\n",
       "      <td>...</td>\n",
       "      <td>0</td>\n",
       "      <td>0</td>\n",
       "      <td>0</td>\n",
       "      <td>0</td>\n",
       "      <td>0</td>\n",
       "      <td>0</td>\n",
       "      <td>0</td>\n",
       "      <td>0</td>\n",
       "      <td>0</td>\n",
       "      <td>76</td>\n",
       "    </tr>\n",
       "    <tr>\n",
       "      <th>1459583</th>\n",
       "      <td>342471</td>\n",
       "      <td>2</td>\n",
       "      <td>-999</td>\n",
       "      <td>-999</td>\n",
       "      <td>-999</td>\n",
       "      <td>-999</td>\n",
       "      <td>-999</td>\n",
       "      <td>-999</td>\n",
       "      <td>-999</td>\n",
       "      <td>-999</td>\n",
       "      <td>...</td>\n",
       "      <td>0</td>\n",
       "      <td>0</td>\n",
       "      <td>0</td>\n",
       "      <td>0</td>\n",
       "      <td>0</td>\n",
       "      <td>0</td>\n",
       "      <td>0</td>\n",
       "      <td>0</td>\n",
       "      <td>0</td>\n",
       "      <td>69</td>\n",
       "    </tr>\n",
       "    <tr>\n",
       "      <th>1832793</th>\n",
       "      <td>39806</td>\n",
       "      <td>5</td>\n",
       "      <td>-999</td>\n",
       "      <td>-999</td>\n",
       "      <td>-999</td>\n",
       "      <td>-999</td>\n",
       "      <td>-999</td>\n",
       "      <td>-999</td>\n",
       "      <td>-999</td>\n",
       "      <td>-999</td>\n",
       "      <td>...</td>\n",
       "      <td>0</td>\n",
       "      <td>0</td>\n",
       "      <td>1</td>\n",
       "      <td>0</td>\n",
       "      <td>1</td>\n",
       "      <td>0</td>\n",
       "      <td>0</td>\n",
       "      <td>0</td>\n",
       "      <td>0</td>\n",
       "      <td>90</td>\n",
       "    </tr>\n",
       "    <tr>\n",
       "      <th>94187</th>\n",
       "      <td>108295</td>\n",
       "      <td>5</td>\n",
       "      <td>-999</td>\n",
       "      <td>-999</td>\n",
       "      <td>-999</td>\n",
       "      <td>-999</td>\n",
       "      <td>-999</td>\n",
       "      <td>-999</td>\n",
       "      <td>-999</td>\n",
       "      <td>-999</td>\n",
       "      <td>...</td>\n",
       "      <td>0</td>\n",
       "      <td>0</td>\n",
       "      <td>0</td>\n",
       "      <td>0</td>\n",
       "      <td>0</td>\n",
       "      <td>0</td>\n",
       "      <td>0</td>\n",
       "      <td>0</td>\n",
       "      <td>0</td>\n",
       "      <td>84</td>\n",
       "    </tr>\n",
       "    <tr>\n",
       "      <th>1456021</th>\n",
       "      <td>341775</td>\n",
       "      <td>4</td>\n",
       "      <td>-999</td>\n",
       "      <td>-999</td>\n",
       "      <td>-999</td>\n",
       "      <td>-999</td>\n",
       "      <td>-999</td>\n",
       "      <td>-999</td>\n",
       "      <td>-999</td>\n",
       "      <td>-999</td>\n",
       "      <td>...</td>\n",
       "      <td>0</td>\n",
       "      <td>0</td>\n",
       "      <td>0</td>\n",
       "      <td>0</td>\n",
       "      <td>0</td>\n",
       "      <td>1</td>\n",
       "      <td>0</td>\n",
       "      <td>0</td>\n",
       "      <td>0</td>\n",
       "      <td>85</td>\n",
       "    </tr>\n",
       "  </tbody>\n",
       "</table>\n",
       "<p>5 rows × 51 columns</p>\n",
       "</div>"
      ],
      "text/plain": [
       "         people_id  activity_category  char_1_x  char_2_x  char_3_x  char_4_x  \\\n",
       "867017      247268                  2      -999      -999      -999      -999   \n",
       "1459583     342471                  2      -999      -999      -999      -999   \n",
       "1832793      39806                  5      -999      -999      -999      -999   \n",
       "94187       108295                  5      -999      -999      -999      -999   \n",
       "1456021     341775                  4      -999      -999      -999      -999   \n",
       "\n",
       "         char_5_x  char_6_x  char_7_x  char_8_x   ...     char_29  char_30  \\\n",
       "867017       -999      -999      -999      -999   ...           0        0   \n",
       "1459583      -999      -999      -999      -999   ...           0        0   \n",
       "1832793      -999      -999      -999      -999   ...           0        0   \n",
       "94187        -999      -999      -999      -999   ...           0        0   \n",
       "1456021      -999      -999      -999      -999   ...           0        0   \n",
       "\n",
       "         char_31  char_32  char_33  char_34  char_35  char_36  char_37  \\\n",
       "867017         0        0        0        0        0        0        0   \n",
       "1459583        0        0        0        0        0        0        0   \n",
       "1832793        1        0        1        0        0        0        0   \n",
       "94187          0        0        0        0        0        0        0   \n",
       "1456021        0        0        0        1        0        0        0   \n",
       "\n",
       "         char_38  \n",
       "867017        76  \n",
       "1459583       69  \n",
       "1832793       90  \n",
       "94187         84  \n",
       "1456021       85  \n",
       "\n",
       "[5 rows x 51 columns]"
      ]
     },
     "execution_count": 8,
     "metadata": {},
     "output_type": "execute_result"
    }
   ],
   "source": [
    "# Merege into a unified table\n",
    "\n",
    "# Training \n",
    "features = actions_train.merge(peeps, how='left', on='people_id')\n",
    "labels = train['outcome']\n",
    "\n",
    "# Testing\n",
    "df_test = actions_test.merge(peeps, how='left', on='people_id')\n",
    "\n",
    "# Check it out...\n",
    "features.sample(5)"
   ]
  },
  {
   "cell_type": "code",
   "execution_count": 9,
   "metadata": {
    "collapsed": false
   },
   "outputs": [
    {
     "data": {
      "text/plain": [
       "<matplotlib.axes._subplots.AxesSubplot at 0x7fec6d7e6f10>"
      ]
     },
     "execution_count": 9,
     "metadata": {},
     "output_type": "execute_result"
    },
    {
     "data": {
      "image/png": "[encoded data removed]",
      "text/plain": [
       "<matplotlib.figure.Figure at 0x7fec6d7e6990>"
      ]
     },
     "metadata": {},
     "output_type": "display_data"
    }
   ],
   "source": [
    "df_test.char_38.hist()"
   ]
  },
  {
   "cell_type": "code",
   "execution_count": 10,
   "metadata": {
    "collapsed": false
   },
   "outputs": [
    {
     "data": {
      "text/plain": [
       "<matplotlib.axes._subplots.AxesSubplot at 0x7fec6bad8f90>"
      ]
     },
     "execution_count": 10,
     "metadata": {},
     "output_type": "execute_result"
    },
    {
     "data": {
      "image/png": "[encoded data removed]",
      "text/plain": [
       "<matplotlib.figure.Figure at 0x7fec6bad7110>"
      ]
     },
     "metadata": {},
     "output_type": "display_data"
    }
   ],
   "source": [
    "features.char_38.hist()"
   ]
  },
  {
   "cell_type": "code",
   "execution_count": 11,
   "metadata": {
    "collapsed": true
   },
   "outputs": [],
   "source": [
    "from sklearn.cross_validation import cross_val_score\n",
    "from sklearn.ensemble import GradientBoostingClassifier\n",
    "from sklearn.linear_model import LogisticRegression\n",
    "from sklearn.ensemble import RandomForestClassifier"
   ]
  },
  {
   "cell_type": "code",
   "execution_count": 12,
   "metadata": {
    "collapsed": true
   },
   "outputs": [],
   "source": [
    "from sklearn.preprocessing import StandardScaler"
   ]
  },
  {
   "cell_type": "code",
   "execution_count": 13,
   "metadata": {
    "collapsed": false
   },
   "outputs": [],
   "source": [
    "scale = StandardScaler()"
   ]
  },
  {
   "cell_type": "code",
   "execution_count": 14,
   "metadata": {
    "collapsed": true
   },
   "outputs": [],
   "source": [
    "from sklearn.cross_validation import StratifiedKFold\n",
    "from sklearn.metrics import roc_auc_score"
   ]
  },
  {
   "cell_type": "code",
   "execution_count": 15,
   "metadata": {
    "collapsed": true
   },
   "outputs": [],
   "source": [
    "# label kfold on people_id works bad :(\n",
    "# and statified kfold too"
   ]
  },
  {
   "cell_type": "code",
   "execution_count": 17,
   "metadata": {
    "collapsed": false
   },
   "outputs": [],
   "source": [
    "features = features[['char_38','group_1']]"
   ]
  },
  {
   "cell_type": "code",
   "execution_count": 18,
   "metadata": {
    "collapsed": true
   },
   "outputs": [],
   "source": [
    "f = features.copy()"
   ]
  },
  {
   "cell_type": "code",
   "execution_count": 19,
   "metadata": {
    "collapsed": false
   },
   "outputs": [],
   "source": [
    "f['quadr_38'] = f['char_38']**2\n",
    "#f['quadr_gr_1'] = f['group_1']**2\n",
    "f['ln_38'] = f['char_38'].apply(lambda x: np.log(x+0.01))\n",
    "f['ln_gr_1'] = f['group_1'].apply(lambda x: np.log(x+0.01))"
   ]
  },
  {
   "cell_type": "code",
   "execution_count": 65,
   "metadata": {
    "collapsed": false
   },
   "outputs": [],
   "source": [
    "#f[f['ln_38']==-np.inf] = -100000"
   ]
  },
  {
   "cell_type": "code",
   "execution_count": 24,
   "metadata": {
    "collapsed": false
   },
   "outputs": [
    {
     "name": "stdout",
     "output_type": "stream",
     "text": [
      "№  1  fold for value : 2\n",
      "      Iter       Train Loss   Remaining Time \n",
      "         1           1.2695            1.16m\n",
      "         2           1.1839            1.17m\n",
      "         3           1.1126            1.18m\n",
      "         4           1.0527            1.16m\n",
      "         5           1.0016            1.15m\n",
      "         6           0.9581            1.13m\n",
      "         7           0.9210            1.12m\n",
      "         8           0.8886            1.10m\n",
      "         9           0.8609            1.09m\n",
      "        10           0.8366            1.07m\n",
      "        20           0.7107           54.56s\n",
      "        30           0.6667           44.98s\n",
      "        40           0.6485           35.91s\n",
      "        50           0.6390           26.69s\n",
      "        60           0.6312           17.48s\n",
      "        70           0.6250            8.26s\n",
      "№  2  fold for value : 2\n",
      "      Iter       Train Loss   Remaining Time \n",
      "         1           1.2702            1.29m\n",
      "         2           1.1848            1.26m\n",
      "         3           1.1138            1.23m\n",
      "         4           1.0541            1.22m\n",
      "         5           1.0035            1.20m\n",
      "         6           0.9603            1.17m\n",
      "         7           0.9233            1.16m\n",
      "         8           0.8913            1.14m\n",
      "         9           0.8637            1.11m\n",
      "        10           0.8398            1.10m\n",
      "        20           0.7132           56.20s\n",
      "        30           0.6697           46.46s\n",
      "        40           0.6490           37.12s\n",
      "        50           0.6395           27.60s\n",
      "        60           0.6308           18.13s\n",
      "        70           0.6239            8.59s\n",
      "№  3  fold for value : 2\n",
      "      Iter       Train Loss   Remaining Time \n",
      "         1           1.2685            1.18m\n",
      "         2           1.1828            1.16m\n",
      "         3           1.1114            1.16m\n",
      "         4           1.0513            1.16m\n",
      "         5           1.0004            1.15m\n",
      "         6           0.9570            1.13m\n",
      "         7           0.9198            1.12m\n",
      "         8           0.8877            1.11m\n",
      "         9           0.8600            1.09m\n",
      "        10           0.8358            1.07m\n",
      "        20           0.7078           54.96s\n",
      "        30           0.6673           45.62s\n",
      "        40           0.6488           36.51s\n",
      "        50           0.6388           27.24s\n",
      "        60           0.6327           17.87s\n",
      "        70           0.6274            8.46s\n",
      "(2, 0.85417421449834707)\n",
      "№  1  fold for value : 3\n",
      "      Iter       Train Loss   Remaining Time \n",
      "         1           1.2695            1.22m\n",
      "         2           1.1839            1.22m\n",
      "         3           1.1126            1.20m\n",
      "         4           1.0527            1.19m\n",
      "         5           1.0016            1.17m\n",
      "         6           0.9581            1.15m\n",
      "         7           0.9210            1.15m\n",
      "         8           0.8886            1.13m\n",
      "         9           0.8609            1.11m\n",
      "        10           0.8366            1.10m\n",
      "        20           0.7107           55.93s\n",
      "        30           0.6667           46.19s\n",
      "        40           0.6485           36.94s\n",
      "        50           0.6390           27.43s\n",
      "        60           0.6312           17.97s\n",
      "        70           0.6250            8.49s\n",
      "№  2  fold for value : 3\n",
      "      Iter       Train Loss   Remaining Time \n",
      "         1           1.2702            1.23m\n",
      "         2           1.1848            1.22m\n",
      "         3           1.1138            1.20m\n",
      "         4           1.0541            1.19m\n",
      "         5           1.0035            1.18m\n",
      "         6           0.9603            1.16m\n",
      "         7           0.9233            1.14m\n",
      "         8           0.8913            1.13m\n",
      "         9           0.8637            1.11m\n",
      "        10           0.8398            1.10m\n",
      "        20           0.7132           56.37s\n",
      "        30           0.6697           46.69s\n",
      "        40           0.6490           37.22s\n",
      "        50           0.6395           27.68s\n",
      "        60           0.6308           18.15s\n",
      "        70           0.6239            8.60s\n",
      "№  3  fold for value : 3\n",
      "      Iter       Train Loss   Remaining Time \n",
      "         1           1.2685            1.15m\n",
      "         2           1.1828            1.15m\n",
      "         3           1.1114            1.18m\n",
      "         4           1.0513            1.17m\n",
      "         5           1.0004            1.15m\n",
      "         6           0.9570            1.16m\n",
      "         7           0.9198            1.14m\n",
      "         8           0.8877            1.12m\n",
      "         9           0.8600            1.11m\n",
      "        10           0.8358            1.09m\n",
      "        20           0.7078           55.64s\n",
      "        30           0.6673           46.07s\n",
      "        40           0.6488           36.96s\n",
      "        50           0.6388           27.51s\n",
      "        60           0.6327           18.02s\n",
      "        70           0.6274            8.51s\n",
      "(3, 0.85417421449834707)\n",
      "№  1  fold for value : 4\n",
      "      Iter       Train Loss   Remaining Time \n",
      "         1           1.2695            1.19m\n",
      "         2           1.1839            1.19m\n",
      "         3           1.1126            1.18m\n",
      "         4           1.0527            1.17m\n",
      "         5           1.0016            1.15m\n",
      "         6           0.9581            1.14m\n",
      "         7           0.9210            1.12m\n",
      "         8           0.8886            1.11m\n",
      "         9           0.8609            1.10m\n",
      "        10           0.8366            1.08m\n",
      "        20           0.7107           55.27s\n",
      "        30           0.6667           45.75s\n",
      "        40           0.6485           36.67s\n",
      "        50           0.6390           27.29s\n",
      "        60           0.6312           17.89s\n",
      "        70           0.6250            8.46s\n",
      "№  2  fold for value : 4\n",
      "      Iter       Train Loss   Remaining Time \n",
      "         1           1.2702            1.23m\n",
      "         2           1.1848            1.21m\n",
      "         3           1.1138            1.21m\n",
      "         4           1.0541            1.19m\n",
      "         5           1.0035            1.17m\n",
      "         6           0.9603            1.15m\n",
      "         7           0.9233            1.14m\n",
      "         8           0.8913            1.12m\n",
      "         9           0.8637            1.10m\n",
      "        10           0.8398            1.09m\n",
      "        20           0.7132           56.12s\n",
      "        30           0.6697           46.71s\n",
      "        40           0.6490           37.31s\n",
      "        50           0.6395           27.76s\n",
      "        60           0.6308           18.22s\n",
      "        70           0.6239            8.62s\n",
      "№  3  fold for value : 4\n",
      "      Iter       Train Loss   Remaining Time \n",
      "         1           1.2685            1.14m\n",
      "         2           1.1828            1.15m\n",
      "         3           1.1114            1.15m\n",
      "         4           1.0513            1.15m\n",
      "         5           1.0004            1.14m\n",
      "         6           0.9570            1.13m\n",
      "         7           0.9198            1.11m\n",
      "         8           0.8877            1.10m\n",
      "         9           0.8600            1.09m\n",
      "        10           0.8358            1.07m\n",
      "        20           0.7078           55.45s\n",
      "        30           0.6673           46.09s\n",
      "        40           0.6488           36.81s\n",
      "        50           0.6388           27.40s\n",
      "        60           0.6327           17.95s\n",
      "        70           0.6274            8.49s\n",
      "(4, 0.85417626737948471)\n",
      "№  1  fold for value : 5\n",
      "      Iter       Train Loss   Remaining Time \n",
      "         1           1.2695            1.20m\n",
      "         2           1.1839            1.18m\n",
      "         3           1.1126            1.17m\n",
      "         4           1.0527            1.14m\n",
      "         5           1.0016            1.13m\n",
      "         6           0.9581            1.12m\n",
      "         7           0.9210            1.10m\n",
      "         8           0.8886            1.09m\n",
      "         9           0.8609            1.08m\n",
      "        10           0.8366            1.06m\n",
      "        20           0.7107           54.32s\n",
      "        30           0.6667           44.85s\n",
      "        40           0.6485           36.02s\n",
      "        50           0.6390           26.73s\n",
      "        60           0.6312           17.49s\n",
      "        70           0.6250            8.26s\n",
      "№  2  fold for value : 5\n",
      "      Iter       Train Loss   Remaining Time \n",
      "         1           1.2702            1.23m\n",
      "         2           1.1848            1.22m\n",
      "         3           1.1138            1.19m\n",
      "         4           1.0541            1.18m\n",
      "         5           1.0035            1.16m\n",
      "         6           0.9603            1.14m\n",
      "         7           0.9233            1.12m\n",
      "         8           0.8913            1.11m\n",
      "         9           0.8637            1.09m\n",
      "        10           0.8398            1.07m\n",
      "        20           0.7132           54.85s\n",
      "        30           0.6697           45.54s\n",
      "        40           0.6490           36.38s\n",
      "        50           0.6395           27.03s\n",
      "        60           0.6308           17.72s\n",
      "        70           0.6239            8.39s\n",
      "№  3  fold for value : 5\n",
      "      Iter       Train Loss   Remaining Time \n",
      "         1           1.2685            1.17m\n",
      "         2           1.1828            1.17m\n",
      "         3           1.1114            1.17m\n",
      "         4           1.0513            1.17m\n",
      "         5           1.0004            1.16m\n",
      "         6           0.9570            1.16m\n",
      "         7           0.9198            1.14m\n",
      "         8           0.8877            1.13m\n",
      "         9           0.8600            1.12m\n",
      "        10           0.8358            1.10m\n",
      "        20           0.7078           56.39s\n",
      "        30           0.6673           46.52s\n",
      "        40           0.6488           37.09s\n",
      "        50           0.6388           27.50s\n",
      "        60           0.6327           17.99s\n",
      "        70           0.6274            8.50s\n",
      "(5, 0.85417462218669693)\n",
      "№  1  fold for value : 6\n",
      "      Iter       Train Loss   Remaining Time \n",
      "         1           1.2695            1.18m\n",
      "         2           1.1839            1.18m\n",
      "         3           1.1126            1.17m\n",
      "         4           1.0527            1.16m\n",
      "         5           1.0016            1.16m\n",
      "         6           0.9581            1.14m\n",
      "         7           0.9210            1.13m\n",
      "         8           0.8886            1.12m\n",
      "         9           0.8609            1.10m\n",
      "        10           0.8366            1.09m\n",
      "        20           0.7107           55.48s\n",
      "        30           0.6667           45.92s\n",
      "        40           0.6485           36.61s\n",
      "        50           0.6390           27.18s\n",
      "        60           0.6312           17.79s\n",
      "        70           0.6250            8.41s\n",
      "№  2  fold for value : 6\n",
      "      Iter       Train Loss   Remaining Time \n",
      "         1           1.2702            1.23m\n",
      "         2           1.1848            1.22m\n",
      "         3           1.1138            1.20m\n",
      "         4           1.0541            1.18m\n",
      "         5           1.0035            1.17m\n",
      "         6           0.9603            1.15m\n",
      "         7           0.9233            1.14m\n",
      "         8           0.8913            1.12m\n",
      "         9           0.8637            1.10m\n",
      "        10           0.8398            1.09m\n",
      "        20           0.7132           55.74s\n",
      "        30           0.6697           46.38s\n",
      "        40           0.6490           37.02s\n",
      "        50           0.6395           27.55s\n",
      "        60           0.6308           18.09s\n",
      "        70           0.6239            8.58s\n",
      "№  3  fold for value : 6\n",
      "      Iter       Train Loss   Remaining Time \n",
      "         1           1.2685            1.16m\n",
      "         2           1.1828            1.14m\n",
      "         3           1.1114            1.15m\n",
      "         4           1.0513            1.14m\n",
      "         5           1.0004            1.13m\n",
      "         6           0.9570            1.11m\n",
      "         7           0.9198            1.09m\n",
      "         8           0.8877            1.08m\n",
      "         9           0.8600            1.06m\n",
      "        10           0.8358            1.05m\n",
      "        20           0.7078           54.59s\n",
      "        30           0.6673           45.14s\n",
      "        40           0.6488           36.09s\n",
      "        50           0.6388           26.93s\n",
      "        60           0.6327           17.64s\n",
      "        70           0.6274            8.35s\n",
      "(6, 0.85417421449834707)\n",
      "№  1  fold for value : 7\n",
      "      Iter       Train Loss   Remaining Time \n",
      "         1           1.2695            1.27m\n",
      "         2           1.1839            1.26m\n",
      "         3           1.1126            1.23m\n",
      "         4           1.0527            1.21m\n",
      "         5           1.0016            1.20m\n",
      "         6           0.9581            1.18m\n",
      "         7           0.9210            1.16m\n",
      "         8           0.8886            1.14m\n",
      "         9           0.8609            1.13m\n",
      "        10           0.8366            1.11m\n",
      "        20           0.7107           56.72s\n",
      "        30           0.6667           46.80s\n",
      "        40           0.6485           37.40s\n",
      "        50           0.6390           27.79s\n",
      "        60           0.6312           18.20s\n",
      "        70           0.6250            8.61s\n",
      "№  2  fold for value : 7\n",
      "      Iter       Train Loss   Remaining Time \n",
      "         1           1.2702            1.25m\n",
      "         2           1.1848            1.22m\n",
      "         3           1.1138            1.22m\n",
      "         4           1.0541            1.21m\n",
      "         5           1.0035            1.19m\n",
      "         6           0.9603            1.17m\n",
      "         7           0.9233            1.15m\n",
      "         8           0.8913            1.14m\n",
      "         9           0.8637            1.11m\n",
      "        10           0.8398            1.10m\n",
      "        20           0.7132           56.13s\n",
      "        30           0.6697           46.50s\n",
      "        40           0.6490           37.11s\n",
      "        50           0.6395           27.57s\n",
      "        60           0.6308           18.08s\n",
      "        70           0.6239            8.54s\n",
      "№  3  fold for value : 7\n",
      "      Iter       Train Loss   Remaining Time \n",
      "         1           1.2685            1.21m\n",
      "         2           1.1828            1.19m\n",
      "         3           1.1114            1.20m\n",
      "         4           1.0513            1.20m\n",
      "         5           1.0004            1.18m\n",
      "         6           0.9570            1.17m\n",
      "         7           0.9198            1.16m\n",
      "         8           0.8877            1.14m\n",
      "         9           0.8600            1.13m\n",
      "        10           0.8358            1.11m\n",
      "        20           0.7078           57.54s\n",
      "        30           0.6673           47.76s\n",
      "        40           0.6488           38.31s\n"
     ]
    },
    {
     "ename": "KeyboardInterrupt",
     "evalue": "",
     "output_type": "error",
     "traceback": [
      "\u001b[0;31m\u001b[0m",
      "\u001b[0;31mKeyboardInterrupt\u001b[0mTraceback (most recent call last)",
      "\u001b[0;32m<ipython-input-24-8c71d5118385>\u001b[0m in \u001b[0;36m<module>\u001b[0;34m()\u001b[0m\n\u001b[1;32m     14\u001b[0m         \u001b[0mgb\u001b[0m \u001b[0;34m=\u001b[0m \u001b[0mGradientBoostingClassifier\u001b[0m\u001b[0;34m(\u001b[0m\u001b[0mn_estimators\u001b[0m\u001b[0;34m=\u001b[0m\u001b[0;36m79\u001b[0m\u001b[0;34m,\u001b[0m \u001b[0mmax_depth\u001b[0m\u001b[0;34m=\u001b[0m\u001b[0;36m4\u001b[0m\u001b[0;34m,\u001b[0m \u001b[0mverbose\u001b[0m\u001b[0;34m=\u001b[0m\u001b[0;36m1\u001b[0m\u001b[0;34m,\u001b[0m \u001b[0mmin_samples_split\u001b[0m\u001b[0;34m=\u001b[0m\u001b[0mi\u001b[0m\u001b[0;34m)\u001b[0m\u001b[0;34m\u001b[0m\u001b[0m\n\u001b[1;32m     15\u001b[0m         \u001b[0;31m#lr.fit(train_feat, train_labels)\u001b[0m\u001b[0;34m\u001b[0m\u001b[0;34m\u001b[0m\u001b[0m\n\u001b[0;32m---> 16\u001b[0;31m         \u001b[0mgb\u001b[0m\u001b[0;34m.\u001b[0m\u001b[0mfit\u001b[0m\u001b[0;34m(\u001b[0m\u001b[0mtrain_data\u001b[0m\u001b[0;34m,\u001b[0m \u001b[0mtrain_labels\u001b[0m\u001b[0;34m)\u001b[0m\u001b[0;34m\u001b[0m\u001b[0m\n\u001b[0m\u001b[1;32m     17\u001b[0m         \u001b[0;31m#pred = lr.predict(check_feat)\u001b[0m\u001b[0;34m\u001b[0m\u001b[0;34m\u001b[0m\u001b[0m\n\u001b[1;32m     18\u001b[0m         \u001b[0mpred\u001b[0m \u001b[0;34m=\u001b[0m \u001b[0mgb\u001b[0m\u001b[0;34m.\u001b[0m\u001b[0mpredict\u001b[0m\u001b[0;34m(\u001b[0m\u001b[0mcheck_data\u001b[0m\u001b[0;34m)\u001b[0m\u001b[0;34m\u001b[0m\u001b[0m\n",
      "\u001b[0;32m/home/ubuntu/anaconda/lib/python2.7/site-packages/sklearn/ensemble/gradient_boosting.pyc\u001b[0m in \u001b[0;36mfit\u001b[0;34m(self, X, y, sample_weight, monitor)\u001b[0m\n\u001b[1;32m   1023\u001b[0m         \u001b[0;31m# fit the boosting stages\u001b[0m\u001b[0;34m\u001b[0m\u001b[0;34m\u001b[0m\u001b[0m\n\u001b[1;32m   1024\u001b[0m         n_stages = self._fit_stages(X, y, y_pred, sample_weight, random_state,\n\u001b[0;32m-> 1025\u001b[0;31m                                     begin_at_stage, monitor, X_idx_sorted)\n\u001b[0m\u001b[1;32m   1026\u001b[0m         \u001b[0;31m# change shape of arrays after fit (early-stopping or additional ests)\u001b[0m\u001b[0;34m\u001b[0m\u001b[0;34m\u001b[0m\u001b[0m\n\u001b[1;32m   1027\u001b[0m         \u001b[0;32mif\u001b[0m \u001b[0mn_stages\u001b[0m \u001b[0;34m!=\u001b[0m \u001b[0mself\u001b[0m\u001b[0;34m.\u001b[0m\u001b[0mestimators_\u001b[0m\u001b[0;34m.\u001b[0m\u001b[0mshape\u001b[0m\u001b[0;34m[\u001b[0m\u001b[0;36m0\u001b[0m\u001b[0;34m]\u001b[0m\u001b[0;34m:\u001b[0m\u001b[0;34m\u001b[0m\u001b[0m\n",
      "\u001b[0;32m/home/ubuntu/anaconda/lib/python2.7/site-packages/sklearn/ensemble/gradient_boosting.pyc\u001b[0m in \u001b[0;36m_fit_stages\u001b[0;34m(self, X, y, y_pred, sample_weight, random_state, begin_at_stage, monitor, X_idx_sorted)\u001b[0m\n\u001b[1;32m   1078\u001b[0m             y_pred = self._fit_stage(i, X, y, y_pred, sample_weight,\n\u001b[1;32m   1079\u001b[0m                                      \u001b[0msample_mask\u001b[0m\u001b[0;34m,\u001b[0m \u001b[0mrandom_state\u001b[0m\u001b[0;34m,\u001b[0m \u001b[0mX_idx_sorted\u001b[0m\u001b[0;34m,\u001b[0m\u001b[0;34m\u001b[0m\u001b[0m\n\u001b[0;32m-> 1080\u001b[0;31m                                      X_csc, X_csr)\n\u001b[0m\u001b[1;32m   1081\u001b[0m \u001b[0;34m\u001b[0m\u001b[0m\n\u001b[1;32m   1082\u001b[0m             \u001b[0;31m# track deviance (= loss)\u001b[0m\u001b[0;34m\u001b[0m\u001b[0;34m\u001b[0m\u001b[0m\n",
      "\u001b[0;32m/home/ubuntu/anaconda/lib/python2.7/site-packages/sklearn/ensemble/gradient_boosting.pyc\u001b[0m in \u001b[0;36m_fit_stage\u001b[0;34m(self, i, X, y, y_pred, sample_weight, sample_mask, random_state, X_idx_sorted, X_csc, X_csr)\u001b[0m\n\u001b[1;32m    782\u001b[0m             \u001b[0;32melse\u001b[0m\u001b[0;34m:\u001b[0m\u001b[0;34m\u001b[0m\u001b[0m\n\u001b[1;32m    783\u001b[0m                 tree.fit(X, residual, sample_weight=sample_weight,\n\u001b[0;32m--> 784\u001b[0;31m                          check_input=False, X_idx_sorted=X_idx_sorted)\n\u001b[0m\u001b[1;32m    785\u001b[0m \u001b[0;34m\u001b[0m\u001b[0m\n\u001b[1;32m    786\u001b[0m             \u001b[0;31m# update tree leaves\u001b[0m\u001b[0;34m\u001b[0m\u001b[0;34m\u001b[0m\u001b[0m\n",
      "\u001b[0;32m/home/ubuntu/anaconda/lib/python2.7/site-packages/sklearn/tree/tree.pyc\u001b[0m in \u001b[0;36mfit\u001b[0;34m(self, X, y, sample_weight, check_input, X_idx_sorted)\u001b[0m\n\u001b[1;32m    348\u001b[0m                                            max_leaf_nodes)\n\u001b[1;32m    349\u001b[0m \u001b[0;34m\u001b[0m\u001b[0m\n\u001b[0;32m--> 350\u001b[0;31m         \u001b[0mbuilder\u001b[0m\u001b[0;34m.\u001b[0m\u001b[0mbuild\u001b[0m\u001b[0;34m(\u001b[0m\u001b[0mself\u001b[0m\u001b[0;34m.\u001b[0m\u001b[0mtree_\u001b[0m\u001b[0;34m,\u001b[0m \u001b[0mX\u001b[0m\u001b[0;34m,\u001b[0m \u001b[0my\u001b[0m\u001b[0;34m,\u001b[0m \u001b[0msample_weight\u001b[0m\u001b[0;34m,\u001b[0m \u001b[0mX_idx_sorted\u001b[0m\u001b[0;34m)\u001b[0m\u001b[0;34m\u001b[0m\u001b[0m\n\u001b[0m\u001b[1;32m    351\u001b[0m \u001b[0;34m\u001b[0m\u001b[0m\n\u001b[1;32m    352\u001b[0m         \u001b[0;32mif\u001b[0m \u001b[0mself\u001b[0m\u001b[0;34m.\u001b[0m\u001b[0mn_outputs_\u001b[0m \u001b[0;34m==\u001b[0m \u001b[0;36m1\u001b[0m\u001b[0;34m:\u001b[0m\u001b[0;34m\u001b[0m\u001b[0m\n",
      "\u001b[0;31mKeyboardInterrupt\u001b[0m: "
     ]
    }
   ],
   "source": [
    "#kf = StratifiedKFold(train_data['char_38'], n_folds=3)\n",
    "kf = StratifiedKFold(f['char_38'], n_folds=3)\n",
    "#for i in [10**-i for i in range(-10,10)]:\n",
    "for i in range(2,10,1):\n",
    "    score = []\n",
    "    n = 1\n",
    "    for train_index, cv_index in kf:\n",
    "        print '№ ', n,' fold for value :', i\n",
    "        #train_data, check_data = features.ix[train_index], features.ix[cv_index]\n",
    "        train_data, check_data = f.ix[train_index], f.ix[cv_index]\n",
    "        train_labels, check_labels = labels[train_index], labels[cv_index]\n",
    "        \n",
    "        #lr = LogisticRegression(C=i)\n",
    "        gb = GradientBoostingClassifier(n_estimators=79, max_depth=4, verbose=1, min_samples_split=i)\n",
    "        #lr.fit(train_feat, train_labels)\n",
    "        gb.fit(train_data, train_labels)\n",
    "        #pred = lr.predict(check_feat)\n",
    "        pred = gb.predict(check_data)\n",
    "        score.append(roc_auc_score(check_labels, pred))\n",
    "        \n",
    "        n += 1\n",
    "    print(i, np.mean(score))"
   ]
  },
  {
   "cell_type": "code",
   "execution_count": 21,
   "metadata": {
    "collapsed": false
   },
   "outputs": [],
   "source": [
    "#for i in range(1,10,1):\n",
    "#    gb = GradientBoostingClassifier(n_estimators=10, max_depth=i, verbose=1)\n",
    "#    score = cross_val_score(gb, features, labels, cv=3, scoring='roc_auc').mean()\n",
    "#    print(i, score)"
   ]
  },
  {
   "cell_type": "code",
   "execution_count": 25,
   "metadata": {
    "collapsed": false
   },
   "outputs": [
    {
     "name": "stdout",
     "output_type": "stream",
     "text": [
      "      Iter       Train Loss   Remaining Time \n",
      "         1           1.2696            2.09m\n",
      "         2           1.1843            2.10m\n",
      "         3           1.1133            2.07m\n",
      "         4           1.0537            2.04m\n",
      "         5           1.0031            2.00m\n",
      "         6           0.9601            1.98m\n",
      "         7           0.9232            1.95m\n",
      "         8           0.8913            1.92m\n",
      "         9           0.8637            1.89m\n",
      "        10           0.8400            1.86m\n",
      "        20           0.7131            1.58m\n",
      "        30           0.6713            1.31m\n",
      "        40           0.6515            1.05m\n",
      "        50           0.6406           46.71s\n",
      "        60           0.6358           30.34s\n",
      "        70           0.6303           14.34s\n"
     ]
    },
    {
     "data": {
      "text/plain": [
       "GradientBoostingClassifier(init=None, learning_rate=0.1, loss='deviance',\n",
       "              max_depth=4, max_features=None, max_leaf_nodes=None,\n",
       "              min_samples_leaf=1, min_samples_split=2,\n",
       "              min_weight_fraction_leaf=0.0, n_estimators=79,\n",
       "              presort='auto', random_state=None, subsample=1.0, verbose=1,\n",
       "              warm_start=False)"
      ]
     },
     "execution_count": 25,
     "metadata": {},
     "output_type": "execute_result"
    }
   ],
   "source": [
    "#gb = GradientBoostingClassifier(n_estimators=200, max_depth=9, verbose=1)\n",
    "gb = GradientBoostingClassifier(n_estimators=79, max_depth=4, verbose=1)\n",
    "gb.fit(f, labels)"
   ]
  },
  {
   "cell_type": "code",
   "execution_count": 26,
   "metadata": {
    "collapsed": false
   },
   "outputs": [],
   "source": [
    "importances = pd.DataFrame([f.columns,gb.feature_importances_])\n",
    "importances = importances.transpose()\n",
    "columns=['name','importance']\n",
    "importances.columns = columns"
   ]
  },
  {
   "cell_type": "code",
   "execution_count": 27,
   "metadata": {
    "collapsed": false
   },
   "outputs": [
    {
     "data": {
      "text/html": [
       "<div>\n",
       "<table border=\"1\" class=\"dataframe\">\n",
       "  <thead>\n",
       "    <tr style=\"text-align: right;\">\n",
       "      <th></th>\n",
       "      <th>name</th>\n",
       "      <th>importance</th>\n",
       "    </tr>\n",
       "  </thead>\n",
       "  <tbody>\n",
       "    <tr>\n",
       "      <th>4</th>\n",
       "      <td>ln_gr_1</td>\n",
       "      <td>0.279625</td>\n",
       "    </tr>\n",
       "    <tr>\n",
       "      <th>1</th>\n",
       "      <td>group_1</td>\n",
       "      <td>0.273074</td>\n",
       "    </tr>\n",
       "    <tr>\n",
       "      <th>0</th>\n",
       "      <td>char_38</td>\n",
       "      <td>0.189292</td>\n",
       "    </tr>\n",
       "    <tr>\n",
       "      <th>3</th>\n",
       "      <td>ln_38</td>\n",
       "      <td>0.138525</td>\n",
       "    </tr>\n",
       "    <tr>\n",
       "      <th>2</th>\n",
       "      <td>quadr_38</td>\n",
       "      <td>0.119484</td>\n",
       "    </tr>\n",
       "  </tbody>\n",
       "</table>\n",
       "</div>"
      ],
      "text/plain": [
       "       name importance\n",
       "4   ln_gr_1   0.279625\n",
       "1   group_1   0.273074\n",
       "0   char_38   0.189292\n",
       "3     ln_38   0.138525\n",
       "2  quadr_38   0.119484"
      ]
     },
     "execution_count": 27,
     "metadata": {},
     "output_type": "execute_result"
    }
   ],
   "source": [
    "importances.sort_values(by=['importance'], ascending=False)"
   ]
  },
  {
   "cell_type": "code",
   "execution_count": 29,
   "metadata": {
    "collapsed": true
   },
   "outputs": [],
   "source": [
    "t = df_test[['char_38','group_1']].copy()\n",
    "t['quadr_38'] = t['char_38']**2\n",
    "#f['quadr_gr_1'] = f['group_1']**2\n",
    "t['ln_38'] = t['char_38'].apply(lambda x: np.log(x+0.01))\n",
    "t['ln_gr_1'] = t['group_1'].apply(lambda x: np.log(x+0.01))"
   ]
  },
  {
   "cell_type": "code",
   "execution_count": 30,
   "metadata": {
    "collapsed": true
   },
   "outputs": [],
   "source": [
    "#t[t['ln_38']==-np.inf] = -100000"
   ]
  },
  {
   "cell_type": "code",
   "execution_count": 31,
   "metadata": {
    "collapsed": false
   },
   "outputs": [],
   "source": [
    "# Test Set Predictions\n",
    "#test_proba = gb.predict_proba(df_test[['char_38','group_1']])\n",
    "test_proba = gb.predict_proba(t)\n",
    "test_preds = test_proba[:,1]\n",
    "\n",
    "# Format for submission\n",
    "output = pd.DataFrame({ 'activity_id' : test_ids, 'outcome': test_preds })\n",
    "output.head()\n",
    "output.to_csv('redhat.csv', index = False)"
   ]
  },
  {
   "cell_type": "code",
   "execution_count": null,
   "metadata": {
    "collapsed": true
   },
   "outputs": [],
   "source": []
  }
 ],
 "metadata": {
  "kernelspec": {
   "display_name": "Python 2",
   "language": "python",
   "name": "python2"
  },
  "language_info": {
   "codemirror_mode": {
    "name": "ipython",
    "version": 2
   },
   "file_extension": ".py",
   "mimetype": "text/x-python",
   "name": "python",
   "nbconvert_exporter": "python",
   "pygments_lexer": "ipython2",
   "version": "2.7.12"
  }
 },
 "nbformat": 4,
 "nbformat_minor": 0
}
