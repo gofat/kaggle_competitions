{
 "cells": [
  {
   "cell_type": "code",
   "execution_count": 1,
   "metadata": {
    "collapsed": false
   },
   "outputs": [
    {
     "name": "stderr",
     "output_type": "stream",
     "text": [
      "/home/ubuntu/anaconda/lib/python2.7/site-packages/sklearn/cross_validation.py:44: DeprecationWarning: This module was deprecated in version 0.18 in favor of the model_selection module into which all the refactored classes and functions are moved. Also note that the interface of the new CV iterators are different from that of this module. This module will be removed in 0.20.\n",
      "  \"This module will be removed in 0.20.\", DeprecationWarning)\n"
     ]
    }
   ],
   "source": [
    "#!/usr/bin/env python2\n",
    "# -*- coding: utf-8 -*-\n",
    "\n",
    "import pandas as pd\n",
    "import numpy as np\n",
    "import xgboost as xgb\n",
    "from sklearn.cross_validation import KFold\n",
    "from sklearn.metrics import mean_absolute_error\n",
    "from sklearn.metrics import f1_score\n",
    "from sklearn.decomposition import PCA\n",
    "from sklearn.ensemble import GradientBoostingClassifier\n",
    "\n",
    "train = pd.read_csv('train.csv')\n",
    "test = pd.read_csv('test.csv')"
   ]
  },
  {
   "cell_type": "code",
   "execution_count": 2,
   "metadata": {
    "collapsed": true
   },
   "outputs": [],
   "source": [
    "test['loss'] = np.nan\n",
    "joined = pd.concat([train, test])\n",
    "\n",
    "def logregobj(preds, dtrain):\n",
    "    labels = dtrain.get_label()\n",
    "    con = 2\n",
    "    x =preds-labels\n",
    "    grad =con*x / (np.abs(x)+con)\n",
    "    hess =con**2 / (np.abs(x)+con)**2\n",
    "    return grad, hess \n",
    "\n",
    "def evalerror(preds, dtrain):\n",
    "    labels = dtrain.get_label()\n",
    "    return 'mae', mean_absolute_error(np.exp(preds), np.exp(labels))"
   ]
  },
  {
   "cell_type": "code",
   "execution_count": 3,
   "metadata": {
    "collapsed": true
   },
   "outputs": [],
   "source": [
    "cat_feature = [n for n in joined.columns if n.startswith('cat')]    \n",
    "cont_feature = [n for n in joined.columns if n.startswith('cont')] \n",
    "             \n",
    "    \n",
    "for column in cat_feature:\n",
    "    joined[column] = pd.factorize(joined[column].values, sort=True)[0]"
   ]
  },
  {
   "cell_type": "code",
   "execution_count": 4,
   "metadata": {
    "collapsed": true
   },
   "outputs": [],
   "source": [
    "train = joined[joined['loss'].notnull()]\n",
    "test = joined[joined['loss'].isnull()]"
   ]
  },
  {
   "cell_type": "code",
   "execution_count": 27,
   "metadata": {
    "collapsed": false
   },
   "outputs": [],
   "source": [
    "y_cl = []\n",
    "for i in train.loss:\n",
    "    if i>10000:\n",
    "        y_cl.append(0)\n",
    "    else:\n",
    "        y_cl.append(1)\n",
    "\n",
    "y_class = pd.Series(y_cl, index=train.index)"
   ]
  },
  {
   "cell_type": "code",
   "execution_count": 28,
   "metadata": {
    "collapsed": true
   },
   "outputs": [],
   "source": [
    "shift = 200\n",
    "y = np.log(train['loss'] + shift)\n",
    "ids = test['id']\n",
    "X = train.drop(['loss', 'id'], 1)\n",
    "X_test = test.drop(['loss', 'id'], 1)\n",
    "\n",
    "#X = X.sample(frac=0.1)\n",
    "#y = y .iloc[X.index.values]"
   ]
  },
  {
   "cell_type": "code",
   "execution_count": 30,
   "metadata": {
    "collapsed": false
   },
   "outputs": [
    {
     "name": "stdout",
     "output_type": "stream",
     "text": [
      "\n",
      " Fold 1\n",
      "0.985485681821\n",
      "\n",
      " Fold 2\n",
      "0.985508815133\n",
      "\n",
      " Fold 3\n",
      "0.985485268631\n",
      "\n",
      " Fold 4\n",
      "0.985181676703\n",
      "\n",
      " Fold 5\n",
      "0.985568347657\n"
     ]
    }
   ],
   "source": [
    "n_folds  = 5\n",
    "kf = KFold(X.shape[0], n_folds=n_folds)\n",
    "\n",
    "for i, (train_index, test_index) in enumerate(kf):\n",
    "    print('\\n Fold %d' % (i + 1))\n",
    "    X_train, X_val = X.iloc[train_index], X.iloc[test_index]\n",
    "    y_train, y_val = y_class.iloc[train_index], y_class.iloc[test_index]\n",
    "    \n",
    "    gb = GradientBoostingClassifier(n_estimators = 20)\n",
    "    \n",
    "    gb.fit(X_train, y_train)\n",
    "    \n",
    "    print f1_score(y_val, gb.predict(X_val))"
   ]
  },
  {
   "cell_type": "code",
   "execution_count": null,
   "metadata": {
    "collapsed": false
   },
   "outputs": [],
   "source": [
    "n_folds  = 5\n",
    "kf = KFold(X.shape[0], n_folds=n_folds)\n",
    "prediction = np.zeros(ids.shape)\n",
    "\n",
    "final_fold_prediction= []\n",
    "final_fold_real = []\n",
    "\n",
    "partial_evalutaion = open('temp_scores.txt','w')\n",
    "for i, (train_index, test_index) in enumerate(kf):\n",
    "    print('\\n Fold %d' % (i + 1))\n",
    "    X_train, X_val = X.iloc[train_index], X.iloc[test_index]\n",
    "    y_train, y_val = y.iloc[train_index], y.iloc[test_index]\n",
    "    \n",
    "    #pca = PCA(n_components = 75)\n",
    "    #X_train = pca.fit_transform(X_train)\n",
    "    #X_val = pca.transform(X_val)\n",
    "\n",
    "    RANDOM_STATE = 2016\n",
    "    params = {\n",
    "        'min_child_weight': 1,\n",
    "        'eta': 0.1,\n",
    "        'colsample_bytree': 0.5,\n",
    "        'max_depth': 6,\n",
    "        'subsample': 0.8,\n",
    "        'alpha': 1,\n",
    "        'gamma': 1,\n",
    "        'silent': 1,\n",
    "        'verbose_eval': True,\n",
    "        'seed': RANDOM_STATE\n",
    "    }\n",
    "\n",
    "    xgtrain = xgb.DMatrix(X_train, label=y_train)\n",
    "    xgtrain_2 = xgb.DMatrix(X_val, label=y_val)\n",
    "\n",
    "    xgtest = xgb.DMatrix(X_test)   \n",
    "\n",
    "\n",
    "    watchlist = [(xgtrain, 'train'), (xgtrain_2, 'eval')]\n",
    "\n",
    "\n",
    "\n",
    "    #model = xgb.train(params, xgtrain, 100000, watchlist, obj=logregobj, feval=evalerror, early_stopping_rounds=300)\n",
    "    model = xgb.train(params, xgtrain, 500, watchlist, obj=logregobj, feval=evalerror, early_stopping_rounds=300)  \n",
    "    prediction += np.exp(model.predict(xgtest[importance[importance.score>0.009].name])) - shift\n",
    "\n",
    "    X_val = xgb.DMatrix(X_val) \n",
    "    temp_serises = pd.Series(np.exp(model.predict(X_val))-shift)\n",
    "    final_fold_prediction.append( temp_serises )\n",
    "    temp_serises = np.exp(y_val) -shift\n",
    "    final_fold_real.append(temp_serises )\n",
    "\n",
    "    temp_cv_score = mean_absolute_error(np.exp(model.predict(X_val))-shift, np.exp(y_val) -shift)\n",
    "\n",
    "    partial_evalutaion.write('fold '+str(i)+' '+str(temp_cv_score)+'\\n')\n",
    "    partial_evalutaion.flush()"
   ]
  },
  {
   "cell_type": "code",
   "execution_count": null,
   "metadata": {
    "collapsed": false
   },
   "outputs": [],
   "source": [
    "#d = []\n",
    "#imp = model.get_fscore()\n",
    "#for i in imp.keys():\n",
    "#    d.append([i,imp[i]])\n",
    "#importance = pd.DataFrame(d, columns=['name', 'score'])"
   ]
  },
  {
   "cell_type": "code",
   "execution_count": null,
   "metadata": {
    "collapsed": false
   },
   "outputs": [],
   "source": [
    "#importance.sort_values(by='score', ascending=False).to_csv('importance.csv', index=False)"
   ]
  },
  {
   "cell_type": "code",
   "execution_count": null,
   "metadata": {
    "collapsed": true
   },
   "outputs": [],
   "source": [
    "#importance.score = importance.score/importance.score.sum()"
   ]
  },
  {
   "cell_type": "code",
   "execution_count": null,
   "metadata": {
    "collapsed": false
   },
   "outputs": [],
   "source": [
    "prediction = prediction/n_folds\n",
    "submission = pd.DataFrame()\n",
    "submission['id'] = ids    \n",
    "submission['loss'] = prediction\n",
    "\n",
    "submission.to_csv('test_subm.csv', index=False)\n",
    "\n",
    "final_fold_prediction = pd.concat(final_fold_prediction,ignore_index=True)\n",
    "final_fold_real = pd.concat(final_fold_real,ignore_index=True)\n",
    "\n",
    "cv_score = mean_absolute_error(final_fold_prediction, final_fold_real)\n",
    "print cv_score"
   ]
  },
  {
   "cell_type": "code",
   "execution_count": null,
   "metadata": {
    "collapsed": true
   },
   "outputs": [],
   "source": []
  }
 ],
 "metadata": {
  "anaconda-cloud": {},
  "kernelspec": {
   "display_name": "Python [conda root]",
   "language": "python",
   "name": "conda-root-py"
  },
  "language_info": {
   "codemirror_mode": {
    "name": "ipython",
    "version": 2
   },
   "file_extension": ".py",
   "mimetype": "text/x-python",
   "name": "python",
   "nbconvert_exporter": "python",
   "pygments_lexer": "ipython2",
   "version": "2.7.12"
  }
 },
 "nbformat": 4,
 "nbformat_minor": 1
}
