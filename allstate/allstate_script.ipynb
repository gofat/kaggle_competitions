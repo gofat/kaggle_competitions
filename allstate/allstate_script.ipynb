{
 "cells": [
  {
   "cell_type": "markdown",
   "metadata": {},
   "source": [
    "# Обработка данных"
   ]
  },
  {
   "cell_type": "code",
   "execution_count": 1,
   "metadata": {
    "collapsed": true
   },
   "outputs": [],
   "source": [
    "import pandas as pd\n",
    "\n",
    "train = pd.read_csv('train.csv')\n",
    "test = pd.read_csv('test.csv')"
   ]
  },
  {
   "cell_type": "code",
   "execution_count": 2,
   "metadata": {
    "collapsed": true
   },
   "outputs": [],
   "source": [
    "%matplotlib inline\n",
    "\n",
    "import seaborn as sns\n",
    "import matplotlib.pyplot as plt\n",
    "import numpy as np"
   ]
  },
  {
   "cell_type": "code",
   "execution_count": 3,
   "metadata": {
    "collapsed": false
   },
   "outputs": [
    {
     "data": {
      "image/png": "[encoded data removed]",
      "text/plain": [
       "<matplotlib.figure.Figure at 0x7fb214a1d450>"
      ]
     },
     "metadata": {},
     "output_type": "display_data"
    }
   ],
   "source": [
    "_ = plt.hist(train['loss'], bins = 100, log = True)"
   ]
  },
  {
   "cell_type": "code",
   "execution_count": 4,
   "metadata": {
    "collapsed": false
   },
   "outputs": [
    {
     "data": {
      "image/png": "[encoded data removed]",
      "text/plain": [
       "<matplotlib.figure.Figure at 0x7fb211ffa810>"
      ]
     },
     "metadata": {},
     "output_type": "display_data"
    }
   ],
   "source": [
    "_ = plt.hist(np.log(train['loss']), bins = 100, log = True)"
   ]
  },
  {
   "cell_type": "code",
   "execution_count": 5,
   "metadata": {
    "collapsed": true
   },
   "outputs": [],
   "source": [
    "train['low_1000'] = [1 if x < 1000 else 0 for x in train.loss]\n",
    "train['low_5000'] = [1 if x < 5000 else 0 for x in train.loss]\n",
    "train['low_10000'] = [1 if x < 10000 else 0 for x in train.loss]\n",
    "train['high_1000'] = [1 if x > 1000 else 0 for x in train.loss]\n",
    "train['high_5000'] = [1 if x > 5000 else 0 for x in train.loss]\n",
    "train['high_10000'] = [1 if x > 10000 else 0 for x in train.loss]"
   ]
  },
  {
   "cell_type": "code",
   "execution_count": 6,
   "metadata": {
    "collapsed": true
   },
   "outputs": [],
   "source": [
    "all_data = pd.concat([train, test])"
   ]
  },
  {
   "cell_type": "code",
   "execution_count": 7,
   "metadata": {
    "collapsed": false
   },
   "outputs": [
    {
     "data": {
      "text/html": [
       "<div>\n",
       "<table border=\"1\" class=\"dataframe\">\n",
       "  <thead>\n",
       "    <tr style=\"text-align: right;\">\n",
       "      <th></th>\n",
       "      <th>cat1</th>\n",
       "      <th>cat10</th>\n",
       "      <th>cat100</th>\n",
       "      <th>cat101</th>\n",
       "      <th>cat102</th>\n",
       "      <th>cat103</th>\n",
       "      <th>cat104</th>\n",
       "      <th>cat105</th>\n",
       "      <th>cat106</th>\n",
       "      <th>cat107</th>\n",
       "      <th>...</th>\n",
       "      <th>cont8</th>\n",
       "      <th>cont9</th>\n",
       "      <th>high_1000</th>\n",
       "      <th>high_10000</th>\n",
       "      <th>high_5000</th>\n",
       "      <th>id</th>\n",
       "      <th>loss</th>\n",
       "      <th>low_1000</th>\n",
       "      <th>low_10000</th>\n",
       "      <th>low_5000</th>\n",
       "    </tr>\n",
       "  </thead>\n",
       "  <tbody>\n",
       "    <tr>\n",
       "      <th>0</th>\n",
       "      <td>0</td>\n",
       "      <td>0</td>\n",
       "      <td>1</td>\n",
       "      <td>6</td>\n",
       "      <td>0</td>\n",
       "      <td>0</td>\n",
       "      <td>8</td>\n",
       "      <td>4</td>\n",
       "      <td>6</td>\n",
       "      <td>9</td>\n",
       "      <td>...</td>\n",
       "      <td>0.30260</td>\n",
       "      <td>0.67135</td>\n",
       "      <td>1.0</td>\n",
       "      <td>0.0</td>\n",
       "      <td>0.0</td>\n",
       "      <td>1</td>\n",
       "      <td>2213.18</td>\n",
       "      <td>0.0</td>\n",
       "      <td>1.0</td>\n",
       "      <td>1.0</td>\n",
       "    </tr>\n",
       "    <tr>\n",
       "      <th>1</th>\n",
       "      <td>0</td>\n",
       "      <td>1</td>\n",
       "      <td>11</td>\n",
       "      <td>5</td>\n",
       "      <td>0</td>\n",
       "      <td>0</td>\n",
       "      <td>4</td>\n",
       "      <td>4</td>\n",
       "      <td>8</td>\n",
       "      <td>10</td>\n",
       "      <td>...</td>\n",
       "      <td>0.60087</td>\n",
       "      <td>0.35127</td>\n",
       "      <td>1.0</td>\n",
       "      <td>0.0</td>\n",
       "      <td>0.0</td>\n",
       "      <td>2</td>\n",
       "      <td>1283.60</td>\n",
       "      <td>0.0</td>\n",
       "      <td>1.0</td>\n",
       "      <td>1.0</td>\n",
       "    </tr>\n",
       "    <tr>\n",
       "      <th>2</th>\n",
       "      <td>0</td>\n",
       "      <td>1</td>\n",
       "      <td>11</td>\n",
       "      <td>14</td>\n",
       "      <td>0</td>\n",
       "      <td>1</td>\n",
       "      <td>4</td>\n",
       "      <td>5</td>\n",
       "      <td>7</td>\n",
       "      <td>5</td>\n",
       "      <td>...</td>\n",
       "      <td>0.27320</td>\n",
       "      <td>0.26076</td>\n",
       "      <td>1.0</td>\n",
       "      <td>0.0</td>\n",
       "      <td>0.0</td>\n",
       "      <td>5</td>\n",
       "      <td>3005.09</td>\n",
       "      <td>0.0</td>\n",
       "      <td>1.0</td>\n",
       "      <td>1.0</td>\n",
       "    </tr>\n",
       "    <tr>\n",
       "      <th>3</th>\n",
       "      <td>1</td>\n",
       "      <td>0</td>\n",
       "      <td>8</td>\n",
       "      <td>3</td>\n",
       "      <td>0</td>\n",
       "      <td>0</td>\n",
       "      <td>4</td>\n",
       "      <td>4</td>\n",
       "      <td>8</td>\n",
       "      <td>10</td>\n",
       "      <td>...</td>\n",
       "      <td>0.31796</td>\n",
       "      <td>0.32128</td>\n",
       "      <td>0.0</td>\n",
       "      <td>0.0</td>\n",
       "      <td>0.0</td>\n",
       "      <td>10</td>\n",
       "      <td>939.85</td>\n",
       "      <td>1.0</td>\n",
       "      <td>1.0</td>\n",
       "      <td>1.0</td>\n",
       "    </tr>\n",
       "    <tr>\n",
       "      <th>4</th>\n",
       "      <td>0</td>\n",
       "      <td>1</td>\n",
       "      <td>5</td>\n",
       "      <td>9</td>\n",
       "      <td>0</td>\n",
       "      <td>0</td>\n",
       "      <td>3</td>\n",
       "      <td>4</td>\n",
       "      <td>10</td>\n",
       "      <td>6</td>\n",
       "      <td>...</td>\n",
       "      <td>0.24564</td>\n",
       "      <td>0.22089</td>\n",
       "      <td>1.0</td>\n",
       "      <td>0.0</td>\n",
       "      <td>0.0</td>\n",
       "      <td>11</td>\n",
       "      <td>2763.85</td>\n",
       "      <td>0.0</td>\n",
       "      <td>1.0</td>\n",
       "      <td>1.0</td>\n",
       "    </tr>\n",
       "  </tbody>\n",
       "</table>\n",
       "<p>5 rows × 138 columns</p>\n",
       "</div>"
      ],
      "text/plain": [
       "   cat1  cat10  cat100  cat101  cat102  cat103  cat104  cat105  cat106  \\\n",
       "0     0      0       1       6       0       0       8       4       6   \n",
       "1     0      1      11       5       0       0       4       4       8   \n",
       "2     0      1      11      14       0       1       4       5       7   \n",
       "3     1      0       8       3       0       0       4       4       8   \n",
       "4     0      1       5       9       0       0       3       4      10   \n",
       "\n",
       "   cat107    ...       cont8    cont9  high_1000  high_10000  high_5000  id  \\\n",
       "0       9    ...     0.30260  0.67135        1.0         0.0        0.0   1   \n",
       "1      10    ...     0.60087  0.35127        1.0         0.0        0.0   2   \n",
       "2       5    ...     0.27320  0.26076        1.0         0.0        0.0   5   \n",
       "3      10    ...     0.31796  0.32128        0.0         0.0        0.0  10   \n",
       "4       6    ...     0.24564  0.22089        1.0         0.0        0.0  11   \n",
       "\n",
       "      loss  low_1000  low_10000  low_5000  \n",
       "0  2213.18       0.0        1.0       1.0  \n",
       "1  1283.60       0.0        1.0       1.0  \n",
       "2  3005.09       0.0        1.0       1.0  \n",
       "3   939.85       1.0        1.0       1.0  \n",
       "4  2763.85       0.0        1.0       1.0  \n",
       "\n",
       "[5 rows x 138 columns]"
      ]
     },
     "execution_count": 7,
     "metadata": {},
     "output_type": "execute_result"
    }
   ],
   "source": [
    "from sklearn.preprocessing import LabelEncoder\n",
    "\n",
    "for column in all_data :\n",
    "    encoder = LabelEncoder()\n",
    "    if column.startswith('cat') :\n",
    "        all_data[column] = encoder.fit_transform(all_data[column])\n",
    "        \n",
    "all_data[:5]"
   ]
  },
  {
   "cell_type": "code",
   "execution_count": 8,
   "metadata": {
    "collapsed": true
   },
   "outputs": [],
   "source": [
    "train = all_data[:train.shape[0]]\n",
    "test = all_data[train.shape[0]:]"
   ]
  },
  {
   "cell_type": "code",
   "execution_count": 9,
   "metadata": {
    "collapsed": false
   },
   "outputs": [
    {
     "name": "stderr",
     "output_type": "stream",
     "text": [
      "/home/ubuntu/anaconda/lib/python2.7/site-packages/ipykernel/__main__.py:1: SettingWithCopyWarning: \n",
      "A value is trying to be set on a copy of a slice from a DataFrame.\n",
      "Try using .loc[row_indexer,col_indexer] = value instead\n",
      "\n",
      "See the caveats in the documentation: http://pandas.pydata.org/pandas-docs/stable/indexing.html#indexing-view-versus-copy\n",
      "  if __name__ == '__main__':\n",
      "/home/ubuntu/anaconda/lib/python2.7/site-packages/ipykernel/__main__.py:2: SettingWithCopyWarning: \n",
      "A value is trying to be set on a copy of a slice from a DataFrame.\n",
      "Try using .loc[row_indexer,col_indexer] = value instead\n",
      "\n",
      "See the caveats in the documentation: http://pandas.pydata.org/pandas-docs/stable/indexing.html#indexing-view-versus-copy\n",
      "  from ipykernel import kernelapp as app\n",
      "/home/ubuntu/anaconda/lib/python2.7/site-packages/ipykernel/__main__.py:3: SettingWithCopyWarning: \n",
      "A value is trying to be set on a copy of a slice from a DataFrame.\n",
      "Try using .loc[row_indexer,col_indexer] = value instead\n",
      "\n",
      "See the caveats in the documentation: http://pandas.pydata.org/pandas-docs/stable/indexing.html#indexing-view-versus-copy\n",
      "  app.launch_new_instance()\n",
      "/home/ubuntu/anaconda/lib/python2.7/site-packages/ipykernel/__main__.py:4: SettingWithCopyWarning: \n",
      "A value is trying to be set on a copy of a slice from a DataFrame.\n",
      "Try using .loc[row_indexer,col_indexer] = value instead\n",
      "\n",
      "See the caveats in the documentation: http://pandas.pydata.org/pandas-docs/stable/indexing.html#indexing-view-versus-copy\n",
      "/home/ubuntu/anaconda/lib/python2.7/site-packages/ipykernel/__main__.py:5: SettingWithCopyWarning: \n",
      "A value is trying to be set on a copy of a slice from a DataFrame.\n",
      "Try using .loc[row_indexer,col_indexer] = value instead\n",
      "\n",
      "See the caveats in the documentation: http://pandas.pydata.org/pandas-docs/stable/indexing.html#indexing-view-versus-copy\n",
      "/home/ubuntu/anaconda/lib/python2.7/site-packages/ipykernel/__main__.py:6: SettingWithCopyWarning: \n",
      "A value is trying to be set on a copy of a slice from a DataFrame.\n",
      "Try using .loc[row_indexer,col_indexer] = value instead\n",
      "\n",
      "See the caveats in the documentation: http://pandas.pydata.org/pandas-docs/stable/indexing.html#indexing-view-versus-copy\n"
     ]
    }
   ],
   "source": [
    "train['low_1000'] = train['low_1000'].astype(int)\n",
    "train['low_5000'] = train['low_5000'].astype(int)\n",
    "train['low_10000'] = train['low_10000'].astype(int)\n",
    "train['high_1000'] = train['high_1000'].astype(int)\n",
    "train['high_5000'] = train['high_5000'].astype(int)\n",
    "train['high_10000'] = train['high_10000'].astype(int)"
   ]
  },
  {
   "cell_type": "code",
   "execution_count": 10,
   "metadata": {
    "collapsed": true
   },
   "outputs": [],
   "source": [
    "from sklearn.model_selection import train_test_split\n",
    "\n",
    "train_local, validation = train_test_split(\n",
    "    train, \n",
    "    test_size = 0.2, \n",
    "    random_state = 0\n",
    ")"
   ]
  },
  {
   "cell_type": "markdown",
   "metadata": {},
   "source": [
    "# Классификация"
   ]
  },
  {
   "cell_type": "code",
   "execution_count": 11,
   "metadata": {
    "collapsed": true
   },
   "outputs": [],
   "source": [
    "features = np.array([column for column in all_data.columns if (column != 'loss' and column != 'low_1000' and column != 'low_5000' \n",
    "                                                               and column != 'low_10000' and column != 'high_1000'\n",
    "                                                              and column != 'high_5000' and column != 'high_10000')])"
   ]
  },
  {
   "cell_type": "code",
   "execution_count": 13,
   "metadata": {
    "collapsed": true
   },
   "outputs": [],
   "source": [
    "from sklearn.metrics import mean_absolute_error\n",
    "from sklearn.metrics import f1_score"
   ]
  },
  {
   "cell_type": "code",
   "execution_count": 14,
   "metadata": {
    "collapsed": true
   },
   "outputs": [],
   "source": [
    "from xgboost import XGBRegressor\n",
    "from xgboost import XGBClassifier"
   ]
  },
  {
   "cell_type": "code",
   "execution_count": 15,
   "metadata": {
    "collapsed": true
   },
   "outputs": [],
   "source": [
    "model = XGBClassifier(max_depth = 8, learning_rate = 0.2, n_estimators = 2000, silent = False)"
   ]
  },
  {
   "cell_type": "code",
   "execution_count": 22,
   "metadata": {
    "collapsed": false
   },
   "outputs": [
    {
     "name": "stdout",
     "output_type": "stream",
     "text": [
      "('low_1000', 0.18111699656165783)\n"
     ]
    },
    {
     "name": "stderr",
     "output_type": "stream",
     "text": [
      "/home/ubuntu/anaconda/lib/python2.7/site-packages/ipykernel/__main__.py:21: SettingWithCopyWarning: \n",
      "A value is trying to be set on a copy of a slice from a DataFrame.\n",
      "Try using .loc[row_indexer,col_indexer] = value instead\n",
      "\n",
      "See the caveats in the documentation: http://pandas.pydata.org/pandas-docs/stable/indexing.html#indexing-view-versus-copy\n"
     ]
    },
    {
     "name": "stdout",
     "output_type": "stream",
     "text": [
      "('low_5000', 0.83557024705616845)\n",
      "('low_10000', 0.9688491510348215)\n",
      "('high_1000', 0.81884981480743957)\n",
      "('high_5000', 0.16442975294383155)\n",
      "('high_10000', 0.031150848965178488)\n"
     ]
    }
   ],
   "source": [
    "#%%time \n",
    "\n",
    "coeffs = {}\n",
    "\n",
    "for i in ['low_1000', 'low_5000', 'low_10000', 'high_1000', 'high_5000', 'high_10000']:\n",
    "    \n",
    "    print(i, train_local[i].values.mean())\n",
    "    \n",
    "    model.fit(\n",
    "        train_local[features].values, \n",
    "        train_local[i].values, \n",
    "        eval_set = [(\n",
    "            validation[features].values, \n",
    "            validation[i].values\n",
    "        )], \n",
    "        early_stopping_rounds = 50,\n",
    "        verbose = False\n",
    "    )\n",
    "    \n",
    "    p = model.predict(validation[features].values)\n",
    "    test[i] = model.predict(test[features].values)\n",
    "    coeffs[i] = [f1_score(p , validation[[i]]),train_local[i].values.mean()]"
   ]
  },
  {
   "cell_type": "code",
   "execution_count": 17,
   "metadata": {
    "collapsed": false
   },
   "outputs": [
    {
     "data": {
      "text/plain": [
       "{'high_1000': [0.90945307433371425, 0.81884981480743957],\n",
       " 'high_10000': [0.38176638176638178, 0.031150848965178488],\n",
       " 'high_5000': [0.62678009987053807, 0.16442975294383155],\n",
       " 'low_1000': [0.44628729387093696, 0.18111699656165783],\n",
       " 'low_10000': [0.98525274217443903, 0.9688491510348215],\n",
       " 'low_5000': [0.93743993551787208, 0.83557024705616845]}"
      ]
     },
     "execution_count": 17,
     "metadata": {},
     "output_type": "execute_result"
    }
   ],
   "source": [
    "#coeffs"
   ]
  },
  {
   "cell_type": "code",
   "execution_count": 24,
   "metadata": {
    "collapsed": false
   },
   "outputs": [
    {
     "name": "stderr",
     "output_type": "stream",
     "text": [
      "/home/ubuntu/anaconda/lib/python2.7/site-packages/ipykernel/__main__.py:2: SettingWithCopyWarning: \n",
      "A value is trying to be set on a copy of a slice from a DataFrame.\n",
      "Try using .loc[row_indexer,col_indexer] = value instead\n",
      "\n",
      "See the caveats in the documentation: http://pandas.pydata.org/pandas-docs/stable/indexing.html#indexing-view-versus-copy\n",
      "  from ipykernel import kernelapp as app\n",
      "/home/ubuntu/anaconda/lib/python2.7/site-packages/ipykernel/__main__.py:3: SettingWithCopyWarning: \n",
      "A value is trying to be set on a copy of a slice from a DataFrame.\n",
      "Try using .loc[row_indexer,col_indexer] = value instead\n",
      "\n",
      "See the caveats in the documentation: http://pandas.pydata.org/pandas-docs/stable/indexing.html#indexing-view-versus-copy\n",
      "  app.launch_new_instance()\n"
     ]
    }
   ],
   "source": [
    "for i in ['low_1000', 'low_5000', 'low_10000', 'high_1000', 'high_5000', 'high_10000']:\n",
    "    train[i] = coeffs[i][0] * coeffs[i][1] * train[i]\n",
    "    test[i] = coeffs[i][0] * coeffs[i][1] * test[i]"
   ]
  },
  {
   "cell_type": "code",
   "execution_count": 25,
   "metadata": {
    "collapsed": false
   },
   "outputs": [],
   "source": [
    "#p = model.predict(validation[features].values)\n",
    "#f1_score(p , validation['high'])"
   ]
  },
  {
   "cell_type": "code",
   "execution_count": 26,
   "metadata": {
    "collapsed": true
   },
   "outputs": [],
   "source": [
    "#scores = []\n",
    "#for prediction_multiplicator in np.linspace(0.95, 1.05, 101) :\n",
    "#    score = mean_absolute_error(p * prediction_multiplicator, validation['loss'])\n",
    "#    scores.append((score, prediction_multiplicator))\n",
    "#\n",
    "#M = min(scores)[1]\n",
    "#print 'Min error: %.2f, optimal prediction multiplicator: %.3f' % min(scores)"
   ]
  },
  {
   "cell_type": "markdown",
   "metadata": {},
   "source": [
    "# Расчет и блендинг моделей"
   ]
  },
  {
   "cell_type": "code",
   "execution_count": 27,
   "metadata": {
    "collapsed": true
   },
   "outputs": [],
   "source": [
    "import os\n",
    "from pylightgbm.models import GBMRegressor\n",
    "os.environ['LIGHTGBM_EXEC'] = \"/home/ubuntu/LightGBM/lightgbm\""
   ]
  },
  {
   "cell_type": "code",
   "execution_count": 31,
   "metadata": {
    "collapsed": true
   },
   "outputs": [],
   "source": [
    "offset = 50"
   ]
  },
  {
   "cell_type": "code",
   "execution_count": 28,
   "metadata": {
    "collapsed": true
   },
   "outputs": [],
   "source": [
    "features = np.array([column for column in all_data.columns if column != 'loss'])"
   ]
  },
  {
   "cell_type": "code",
   "execution_count": 29,
   "metadata": {
    "collapsed": true
   },
   "outputs": [],
   "source": [
    "model = GBMRegressor(\n",
    "    num_threads=-1,\n",
    "    learning_rate = 0.005,\n",
    "    num_iterations = 5000, \n",
    "    verbose = False, \n",
    "    early_stopping_round = 50,\n",
    "    feature_fraction = 0.8,\n",
    "    bagging_fraction = 0.8,\n",
    ") "
   ]
  },
  {
   "cell_type": "code",
   "execution_count": 32,
   "metadata": {
    "collapsed": false
   },
   "outputs": [
    {
     "name": "stdout",
     "output_type": "stream",
     "text": [
      "CPU times: user 11.7 s, sys: 832 ms, total: 12.5 s\n",
      "Wall time: 3min 42s\n"
     ]
    }
   ],
   "source": [
    "%%time \n",
    "\n",
    "model.fit(\n",
    "    train_local[features].values, \n",
    "    np.log(train_local['loss'].values + offset), \n",
    "    test_data = [(\n",
    "        validation[features].values, \n",
    "        np.log(validation['loss'].values + offset)\n",
    "    )]\n",
    ")"
   ]
  },
  {
   "cell_type": "code",
   "execution_count": 33,
   "metadata": {
    "collapsed": false
   },
   "outputs": [
    {
     "data": {
      "text/plain": [
       "array([ 2534.42932875,  2074.24133757,  2553.28659308, ...,  2438.5363366 ,\n",
       "        1563.96635034,  1732.24663155])"
      ]
     },
     "execution_count": 33,
     "metadata": {},
     "output_type": "execute_result"
    }
   ],
   "source": [
    "p = np.exp(model.predict(validation[features].values)) - offset\n",
    "p"
   ]
  },
  {
   "cell_type": "code",
   "execution_count": 34,
   "metadata": {
    "collapsed": false
   },
   "outputs": [
    {
     "name": "stdout",
     "output_type": "stream",
     "text": [
      "Min error: 701.34, optimal prediction multiplicator: 0.992\n"
     ]
    },
    {
     "name": "stderr",
     "output_type": "stream",
     "text": [
      "/home/ubuntu/anaconda/lib/python2.7/site-packages/pandas/core/indexing.py:296: SettingWithCopyWarning: \n",
      "A value is trying to be set on a copy of a slice from a DataFrame.\n",
      "Try using .loc[row_indexer,col_indexer] = value instead\n",
      "\n",
      "See the caveats in the documentation: http://pandas.pydata.org/pandas-docs/stable/indexing.html#indexing-view-versus-copy\n",
      "  self.obj[key] = _infer_fill_value(value)\n",
      "/home/ubuntu/anaconda/lib/python2.7/site-packages/pandas/core/indexing.py:476: SettingWithCopyWarning: \n",
      "A value is trying to be set on a copy of a slice from a DataFrame.\n",
      "Try using .loc[row_indexer,col_indexer] = value instead\n",
      "\n",
      "See the caveats in the documentation: http://pandas.pydata.org/pandas-docs/stable/indexing.html#indexing-view-versus-copy\n",
      "  self.obj[item] = s\n"
     ]
    }
   ],
   "source": [
    "scores = []\n",
    "for prediction_multiplicator in np.linspace(0.95, 1.05, 101) :\n",
    "    score = mean_absolute_error(p * prediction_multiplicator, validation['loss'])\n",
    "    scores.append((score, prediction_multiplicator))\n",
    "\n",
    "M = min(scores)[1]\n",
    "validation.loc[:, 'loss_lightgbm'] = p * M\n",
    "print 'Min error: %.2f, optimal prediction multiplicator: %.3f' % min(scores)"
   ]
  },
  {
   "cell_type": "code",
   "execution_count": 35,
   "metadata": {
    "collapsed": true
   },
   "outputs": [],
   "source": [
    "model = GBMRegressor(\n",
    "    num_threads=-1,\n",
    "    learning_rate = 0.03,\n",
    "    num_iterations = int(model.best_round / 0.9), \n",
    "    verbose = False, \n",
    "    early_stopping_round = 50,\n",
    "    feature_fraction = 0.8,\n",
    "    bagging_fraction = 0.8,\n",
    ") "
   ]
  },
  {
   "cell_type": "code",
   "execution_count": 36,
   "metadata": {
    "collapsed": true
   },
   "outputs": [],
   "source": [
    "model.fit(train[features].values, np.log(train['loss'].values + offset))"
   ]
  },
  {
   "cell_type": "code",
   "execution_count": 37,
   "metadata": {
    "collapsed": true
   },
   "outputs": [],
   "source": [
    "test.loc[:, 'loss_lightgbm'] = np.exp(model.predict(test[features].values)) - offset\n",
    "test.loc[:, 'loss_lightgbm'] *= M"
   ]
  },
  {
   "cell_type": "code",
   "execution_count": 38,
   "metadata": {
    "collapsed": true
   },
   "outputs": [],
   "source": [
    "test.loc[:, 'loss'] = test['loss_lightgbm']\n",
    "\n",
    "test[['id', 'loss']].to_csv('lightgbm_log_transform_multiplicated_offset.csv', index = False)\n",
    "!gzip -f lightgbm_log_transform_multiplicated_offset.csv"
   ]
  },
  {
   "cell_type": "code",
   "execution_count": 43,
   "metadata": {
    "collapsed": true
   },
   "outputs": [],
   "source": [
    "model = XGBRegressor(max_depth = 8, learning_rate = 0.1, n_estimators = 1000, silent = False)"
   ]
  },
  {
   "cell_type": "code",
   "execution_count": 44,
   "metadata": {
    "collapsed": true
   },
   "outputs": [],
   "source": [
    "offset = 50"
   ]
  },
  {
   "cell_type": "code",
   "execution_count": 45,
   "metadata": {
    "collapsed": true
   },
   "outputs": [],
   "source": [
    "model.n_estimators = 400"
   ]
  },
  {
   "cell_type": "code",
   "execution_count": 46,
   "metadata": {
    "collapsed": false
   },
   "outputs": [
    {
     "name": "stdout",
     "output_type": "stream",
     "text": [
      "CPU times: user 7min 3s, sys: 371 ms, total: 7min 4s\n",
      "Wall time: 3min 32s\n"
     ]
    },
    {
     "data": {
      "text/plain": [
       "XGBRegressor(base_score=0.5, colsample_bylevel=1, colsample_bytree=1, gamma=0,\n",
       "       learning_rate=0.1, max_delta_step=0, max_depth=8,\n",
       "       min_child_weight=1, missing=None, n_estimators=400, nthread=-1,\n",
       "       objective='reg:linear', reg_alpha=0, reg_lambda=1,\n",
       "       scale_pos_weight=1, seed=0, silent=False, subsample=1)"
      ]
     },
     "execution_count": 46,
     "metadata": {},
     "output_type": "execute_result"
    }
   ],
   "source": [
    "%%time \n",
    "\n",
    "model.fit(\n",
    "    train_local[features].values, \n",
    "    np.log(train_local['loss'].values + offset), \n",
    "    eval_set = [(\n",
    "        validation[features].values, \n",
    "        np.log(validation['loss'].values + offset)\n",
    "    )], \n",
    "    early_stopping_rounds = 15,\n",
    "    verbose = False,\n",
    ")"
   ]
  },
  {
   "cell_type": "code",
   "execution_count": 47,
   "metadata": {
    "collapsed": false
   },
   "outputs": [
    {
     "data": {
      "text/plain": [
       "704.07781859317674"
      ]
     },
     "execution_count": 47,
     "metadata": {},
     "output_type": "execute_result"
    }
   ],
   "source": [
    "p = np.exp(model.predict(validation[features].values)) - offset\n",
    "\n",
    "score = mean_absolute_error(p, validation['loss'])\n",
    "score"
   ]
  },
  {
   "cell_type": "code",
   "execution_count": 48,
   "metadata": {
    "collapsed": false
   },
   "outputs": [
    {
     "name": "stdout",
     "output_type": "stream",
     "text": [
      "Min error: 703.73, optimal prediction multiplicator: 0.990\n"
     ]
    }
   ],
   "source": [
    "scores = []\n",
    "for prediction_multiplicator in np.linspace(0.95, 1.05, 101) :\n",
    "    score = mean_absolute_error(p * prediction_multiplicator, validation['loss'])\n",
    "    scores.append((score, prediction_multiplicator))\n",
    "\n",
    "M = min(scores)[1]\n",
    "print 'Min error: %.2f, optimal prediction multiplicator: %.3f' % min(scores)"
   ]
  },
  {
   "cell_type": "code",
   "execution_count": 49,
   "metadata": {
    "collapsed": false
   },
   "outputs": [
    {
     "data": {
      "text/plain": [
       "202"
      ]
     },
     "execution_count": 49,
     "metadata": {},
     "output_type": "execute_result"
    }
   ],
   "source": [
    "model.n_estimators = int(model.best_iteration / 0.9)\n",
    "model.n_estimators "
   ]
  },
  {
   "cell_type": "code",
   "execution_count": 50,
   "metadata": {
    "collapsed": false
   },
   "outputs": [
    {
     "data": {
      "text/plain": [
       "XGBRegressor(base_score=0.5, colsample_bylevel=1, colsample_bytree=1, gamma=0,\n",
       "       learning_rate=0.1, max_delta_step=0, max_depth=8,\n",
       "       min_child_weight=1, missing=None, n_estimators=202, nthread=-1,\n",
       "       objective='reg:linear', reg_alpha=0, reg_lambda=1,\n",
       "       scale_pos_weight=1, seed=0, silent=False, subsample=1)"
      ]
     },
     "execution_count": 50,
     "metadata": {},
     "output_type": "execute_result"
    }
   ],
   "source": [
    "model.fit(train[features].values, np.log(train['loss'].values + offset))"
   ]
  },
  {
   "cell_type": "code",
   "execution_count": 51,
   "metadata": {
    "collapsed": true
   },
   "outputs": [],
   "source": [
    "test.loc[:, 'loss'] = np.exp(model.predict(test[features].values)) - offset\n",
    "test.loc[:, 'loss'] *= M\n",
    "\n",
    "test.loc[:, 'loss_xgboost'] = test.loc[:, 'loss']"
   ]
  },
  {
   "cell_type": "code",
   "execution_count": 52,
   "metadata": {
    "collapsed": true
   },
   "outputs": [],
   "source": [
    "test[['id', 'loss']].to_csv('xgboost_log_transform_multiplicated_offset.csv', index = False)\n",
    "!gzip -f xgboost_log_transform_multiplicated_offset.csv"
   ]
  },
  {
   "cell_type": "code",
   "execution_count": 55,
   "metadata": {
    "collapsed": false
   },
   "outputs": [
    {
     "data": {
      "text/plain": [
       "627.28519112205345"
      ]
     },
     "execution_count": 55,
     "metadata": {},
     "output_type": "execute_result"
    }
   ],
   "source": [
    "p = np.exp(model.predict(validation[features].values))\n",
    "\n",
    "score = mean_absolute_error(p, validation['loss'])\n",
    "score"
   ]
  },
  {
   "cell_type": "code",
   "execution_count": 56,
   "metadata": {
    "collapsed": true
   },
   "outputs": [],
   "source": [
    "validation.loc[:, 'loss_xgboost'] = p"
   ]
  },
  {
   "cell_type": "code",
   "execution_count": 57,
   "metadata": {
    "collapsed": false
   },
   "outputs": [
    {
     "name": "stdout",
     "output_type": "stream",
     "text": [
      "Min error: 626.55, optimal prediction multiplicator: 0.988\n"
     ]
    }
   ],
   "source": [
    "scores = []\n",
    "for prediction_multiplicator in np.linspace(0.95, 1.05, 101) :\n",
    "    score = mean_absolute_error(p * prediction_multiplicator, validation['loss'])\n",
    "    scores.append((score, prediction_multiplicator))\n",
    "\n",
    "M = min(scores)[1]\n",
    "\n",
    "validation.loc[:, 'loss_xgboost'] *= M\n",
    "print 'Min error: %.2f, optimal prediction multiplicator: %.3f' % min(scores)"
   ]
  },
  {
   "cell_type": "code",
   "execution_count": 58,
   "metadata": {
    "collapsed": false
   },
   "outputs": [
    {
     "name": "stdout",
     "output_type": "stream",
     "text": [
      "(633.26529865956059, 0.10000000000000001)\n"
     ]
    }
   ],
   "source": [
    "scores = []\n",
    "for alpha in np.linspace(0.1, 0.9, 9) :\n",
    "    p = validation['loss_lightgbm'] * alpha + validation['loss_xgboost'] * (1 - alpha)\n",
    "    score = mean_absolute_error(p, validation['loss'])\n",
    "    scores.append((score, alpha))\n",
    "    \n",
    "print min(scores)\n",
    "alpha = min(scores)[1]"
   ]
  },
  {
   "cell_type": "code",
   "execution_count": 59,
   "metadata": {
    "collapsed": true
   },
   "outputs": [],
   "source": [
    "test.loc[:, 'loss'] = test['loss_lightgbm'] * alpha + test['loss_xgboost'] * (1 - alpha)\n",
    "test[['id', 'loss']].to_csv('blending_log_transform_multiplicated_offset.csv', index = False)\n",
    "!gzip -f blending_log_transform_multiplicated_offset.csv"
   ]
  },
  {
   "cell_type": "code",
   "execution_count": null,
   "metadata": {
    "collapsed": true
   },
   "outputs": [],
   "source": []
  }
 ],
 "metadata": {
  "anaconda-cloud": {},
  "kernelspec": {
   "display_name": "Python [conda root]",
   "language": "python",
   "name": "conda-root-py"
  },
  "language_info": {
   "codemirror_mode": {
    "name": "ipython",
    "version": 2
   },
   "file_extension": ".py",
   "mimetype": "text/x-python",
   "name": "python",
   "nbconvert_exporter": "python",
   "pygments_lexer": "ipython2",
   "version": "2.7.12"
  }
 },
 "nbformat": 4,
 "nbformat_minor": 1
}
