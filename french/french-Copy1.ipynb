{
 "cells": [
  {
   "cell_type": "code",
   "execution_count": 1,
   "metadata": {
    "collapsed": true
   },
   "outputs": [],
   "source": [
    "import datetime\n",
    "import pandas as pd\n",
    "import numpy as np\n",
    "from sklearn.cross_validation import train_test_split\n",
    "import xgboost as xgb\n",
    "import random\n",
    "import zipfile\n",
    "import time\n",
    "import shutil\n",
    "from sklearn.metrics import log_loss\n",
    "import zipcode"
   ]
  },
  {
   "cell_type": "code",
   "execution_count": 2,
   "metadata": {
    "collapsed": false
   },
   "outputs": [],
   "source": [
    "def mean_absolute_percentage_error(y_true, y_pred): \n",
    "    \"\"\"\n",
    "    Use of this metric is not recommended; for illustration only. \n",
    "    See other regression metrics on sklearn docs:\n",
    "      http://scikit-learn.org/stable/modules/classes.html#regression-metrics\n",
    "    Use like any other metric\n",
    "    >>> y_true = [3, -0.5, 2, 7]; y_pred = [2.5, -0.3, 2, 8]\n",
    "    >>> mean_absolute_percentage_error(y_true, y_pred)\n",
    "    Out[]: 24.791666666666668\n",
    "    \"\"\"\n",
    "\n",
    "    ## Note: does not handle mix 1d representation\n",
    "    #if _is_1d(y_true): \n",
    "    #    y_true, y_pred = _check_1d_array(y_true, y_pred)\n",
    "\n",
    "    return np.mean(np.abs((y_true - y_pred) / y_true)) * 100"
   ]
  },
  {
   "cell_type": "code",
   "execution_count": 3,
   "metadata": {
    "collapsed": true
   },
   "outputs": [],
   "source": [
    "from sklearn.metrics import make_scorer"
   ]
  },
  {
   "cell_type": "code",
   "execution_count": 4,
   "metadata": {
    "collapsed": false
   },
   "outputs": [],
   "source": [
    "scorer = make_scorer(mean_absolute_percentage_error, greater_is_better=False)"
   ]
  },
  {
   "cell_type": "code",
   "execution_count": 5,
   "metadata": {
    "collapsed": false
   },
   "outputs": [
    {
     "name": "stderr",
     "output_type": "stream",
     "text": [
      "/home/ubuntu/anaconda/lib/python2.7/site-packages/IPython/core/interactiveshell.py:2705: DtypeWarning: Columns (6) have mixed types. Specify dtype option on import or set low_memory=False.\n",
      "  interactivity=interactivity, compiler=compiler, result=result)\n"
     ]
    }
   ],
   "source": [
    "train = pd.read_csv('Fr_train.csv', sep=';')\n",
    "test = pd.read_csv('Fr_test.csv', sep=';')"
   ]
  },
  {
   "cell_type": "code",
   "execution_count": 6,
   "metadata": {
    "collapsed": false
   },
   "outputs": [],
   "source": [
    "target = train.prime_tot_ttc\n",
    "#train = train.drop(['prime_tot_ttc'],axis=1)"
   ]
  },
  {
   "cell_type": "code",
   "execution_count": 7,
   "metadata": {
    "collapsed": false
   },
   "outputs": [],
   "source": [
    "post_city  = []\n",
    "post_state = []\n",
    "post_wage = []\n",
    "post_population = []\n",
    "post_tax = []\n",
    "post_decom = []\n",
    "\n",
    "for i in train.codepostal.values:\n",
    "    \n",
    "    try:\n",
    "        state = zipcode.isequal(str(i)).state\n",
    "        post_state.append(state)\n",
    "    except:\n",
    "        post_state.append('nothing')\n",
    "        \n",
    "    try:\n",
    "        city = zipcode.isequal(str(i)).city\n",
    "        post_city.append(city)\n",
    "    except:\n",
    "        post_city.append('nothing')\n",
    "        \n",
    "    try:\n",
    "        wage = int(zipcode.isequal(str(i)).wages)\n",
    "        post_wage.append(wage)\n",
    "    except:\n",
    "        post_wage.append(0)\n",
    "        \n",
    "    try:\n",
    "        pop = int(zipcode.isequal(str(i)).population)\n",
    "        post_population.append(pop)\n",
    "    except:\n",
    "        post_population.append(0)\n",
    "        \n",
    "    try:\n",
    "        tax = int(zipcode.isequal(str(i)).tax_returns_filed)\n",
    "        post_tax.append(tax)\n",
    "    except:\n",
    "        post_tax.append(0)\n",
    "        \n",
    "    try:\n",
    "        decom = int(zipcode.isequal(str(i)).decommisioned)\n",
    "        post_decom.append(decom)\n",
    "    except:\n",
    "        post_decom.append(0)"
   ]
  },
  {
   "cell_type": "code",
   "execution_count": 8,
   "metadata": {
    "collapsed": true
   },
   "outputs": [],
   "source": [
    "post_city_test  = []\n",
    "post_state_test = []\n",
    "post_wage_test = []\n",
    "post_population_test = []\n",
    "post_tax_test = []\n",
    "post_decom_test = []\n",
    "\n",
    "for i in test.codepostal.values:\n",
    "    \n",
    "    try:\n",
    "        state = zipcode.isequal(str(i)).state\n",
    "        post_state_test.append(state)\n",
    "    except:\n",
    "        post_state_test.append('no_state')\n",
    "        \n",
    "    try:\n",
    "        city = zipcode.isequal(str(i)).city\n",
    "        post_city_test.append(city)\n",
    "    except:\n",
    "        post_city_test.append('no_city')\n",
    "        \n",
    "    try:\n",
    "        wage = int(zipcode.isequal(str(i)).wages)\n",
    "        post_wage_test.append(wage)\n",
    "    except:\n",
    "        post_wage_test.append(0)\n",
    "        \n",
    "    try:\n",
    "        pop = int(zipcode.isequal(str(i)).population)\n",
    "        post_population_test.append(pop)\n",
    "    except:\n",
    "        post_population_test.append(0)\n",
    "        \n",
    "    try:\n",
    "        tax = int(zipcode.isequal(str(i)).tax_returns_filed)\n",
    "        post_tax_test.append(tax)\n",
    "    except:\n",
    "        post_tax_test.append(0)\n",
    "        \n",
    "    try:\n",
    "        decom = int(zipcode.isequal(str(i)).decommisioned)\n",
    "        post_decom_test.append(decom)\n",
    "    except:\n",
    "        post_decom_test.append(0)"
   ]
  },
  {
   "cell_type": "code",
   "execution_count": 9,
   "metadata": {
    "collapsed": false
   },
   "outputs": [],
   "source": [
    "test['state'] = post_state_test\n",
    "#test['city'] = post_city_test\n",
    "test['wage'] = post_wage_test\n",
    "test['population'] = post_population_test"
   ]
  },
  {
   "cell_type": "code",
   "execution_count": 10,
   "metadata": {
    "collapsed": true
   },
   "outputs": [],
   "source": [
    "test = test.drop(['codepostal'],axis=1)"
   ]
  },
  {
   "cell_type": "code",
   "execution_count": 11,
   "metadata": {
    "collapsed": true
   },
   "outputs": [],
   "source": [
    "train['state'] = post_state\n",
    "#train['city'] = post_city\n",
    "train['wage'] = post_wage\n",
    "train['population'] = post_population"
   ]
  },
  {
   "cell_type": "code",
   "execution_count": 12,
   "metadata": {
    "collapsed": true
   },
   "outputs": [],
   "source": [
    "train = train.drop(['codepostal'],axis=1)"
   ]
  },
  {
   "cell_type": "code",
   "execution_count": 13,
   "metadata": {
    "collapsed": false
   },
   "outputs": [
    {
     "data": {
      "text/html": [
       "<div>\n",
       "<table border=\"1\" class=\"dataframe\">\n",
       "  <thead>\n",
       "    <tr style=\"text-align: right;\">\n",
       "      <th></th>\n",
       "      <th>id</th>\n",
       "      <th>annee_naissance</th>\n",
       "      <th>annee_permis</th>\n",
       "      <th>marque</th>\n",
       "      <th>puis_fiscale</th>\n",
       "      <th>anc_veh</th>\n",
       "      <th>energie_veh</th>\n",
       "      <th>kmage_annuel</th>\n",
       "      <th>crm</th>\n",
       "      <th>profession</th>\n",
       "      <th>...</th>\n",
       "      <th>var17</th>\n",
       "      <th>var18</th>\n",
       "      <th>var19</th>\n",
       "      <th>var20</th>\n",
       "      <th>var21</th>\n",
       "      <th>var22</th>\n",
       "      <th>prime_tot_ttc</th>\n",
       "      <th>state</th>\n",
       "      <th>wage</th>\n",
       "      <th>population</th>\n",
       "    </tr>\n",
       "  </thead>\n",
       "  <tbody>\n",
       "    <tr>\n",
       "      <th>0</th>\n",
       "      <td>1</td>\n",
       "      <td>1986.0</td>\n",
       "      <td>2006.0</td>\n",
       "      <td>RENAULT</td>\n",
       "      <td>4</td>\n",
       "      <td>1</td>\n",
       "      <td>gpl</td>\n",
       "      <td>2924</td>\n",
       "      <td>68</td>\n",
       "      <td>enseignant, formateur, chercheur</td>\n",
       "      <td>...</td>\n",
       "      <td>1</td>\n",
       "      <td>27</td>\n",
       "      <td>0</td>\n",
       "      <td>0</td>\n",
       "      <td>0</td>\n",
       "      <td>1</td>\n",
       "      <td>254.75</td>\n",
       "      <td>nothing</td>\n",
       "      <td>0</td>\n",
       "      <td>0</td>\n",
       "    </tr>\n",
       "    <tr>\n",
       "      <th>1</th>\n",
       "      <td>2</td>\n",
       "      <td>1986.0</td>\n",
       "      <td>2006.0</td>\n",
       "      <td>RENAULT</td>\n",
       "      <td>8</td>\n",
       "      <td>2</td>\n",
       "      <td>gpl</td>\n",
       "      <td>11580</td>\n",
       "      <td>50</td>\n",
       "      <td>enseignant, formateur, chercheur</td>\n",
       "      <td>...</td>\n",
       "      <td>1</td>\n",
       "      <td>28</td>\n",
       "      <td>0</td>\n",
       "      <td>0</td>\n",
       "      <td>0</td>\n",
       "      <td>1</td>\n",
       "      <td>259.89</td>\n",
       "      <td>nothing</td>\n",
       "      <td>0</td>\n",
       "      <td>0</td>\n",
       "    </tr>\n",
       "  </tbody>\n",
       "</table>\n",
       "<p>2 rows × 36 columns</p>\n",
       "</div>"
      ],
      "text/plain": [
       "   id  annee_naissance  annee_permis   marque  puis_fiscale  anc_veh  \\\n",
       "0   1           1986.0        2006.0  RENAULT             4        1   \n",
       "1   2           1986.0        2006.0  RENAULT             8        2   \n",
       "\n",
       "  energie_veh  kmage_annuel  crm                        profession  \\\n",
       "0         gpl          2924   68  enseignant, formateur, chercheur   \n",
       "1         gpl         11580   50  enseignant, formateur, chercheur   \n",
       "\n",
       "      ...      var17  var18  var19  var20  var21 var22 prime_tot_ttc    state  \\\n",
       "0     ...          1     27      0      0      0     1        254.75  nothing   \n",
       "1     ...          1     28      0      0      0     1        259.89  nothing   \n",
       "\n",
       "   wage  population  \n",
       "0     0           0  \n",
       "1     0           0  \n",
       "\n",
       "[2 rows x 36 columns]"
      ]
     },
     "execution_count": 13,
     "metadata": {},
     "output_type": "execute_result"
    }
   ],
   "source": [
    "train.head(2)"
   ]
  },
  {
   "cell_type": "code",
   "execution_count": 14,
   "metadata": {
    "collapsed": false
   },
   "outputs": [],
   "source": [
    "train = train.fillna(train.median())"
   ]
  },
  {
   "cell_type": "code",
   "execution_count": 15,
   "metadata": {
    "collapsed": false
   },
   "outputs": [],
   "source": [
    "test = test.fillna(test.median())"
   ]
  },
  {
   "cell_type": "code",
   "execution_count": 16,
   "metadata": {
    "collapsed": false
   },
   "outputs": [],
   "source": [
    "train.annee_naissance = train.annee_naissance.astype(int).astype(str)\n",
    "train.annee_permis = train.annee_permis.astype(int).astype(str)\n",
    "#train.puis_fiscale = train.puis_fiscale.astype(int).astype(str)"
   ]
  },
  {
   "cell_type": "code",
   "execution_count": 17,
   "metadata": {
    "collapsed": false
   },
   "outputs": [],
   "source": [
    "train_dummy = pd.get_dummies(train)"
   ]
  },
  {
   "cell_type": "code",
   "execution_count": 18,
   "metadata": {
    "collapsed": false
   },
   "outputs": [
    {
     "data": {
      "text/html": [
       "<div>\n",
       "<table border=\"1\" class=\"dataframe\">\n",
       "  <thead>\n",
       "    <tr style=\"text-align: right;\">\n",
       "      <th></th>\n",
       "      <th>id</th>\n",
       "      <th>puis_fiscale</th>\n",
       "      <th>anc_veh</th>\n",
       "      <th>kmage_annuel</th>\n",
       "      <th>crm</th>\n",
       "      <th>var1</th>\n",
       "      <th>var2</th>\n",
       "      <th>var3</th>\n",
       "      <th>var4</th>\n",
       "      <th>var5</th>\n",
       "      <th>...</th>\n",
       "      <th>state_PA</th>\n",
       "      <th>state_SD</th>\n",
       "      <th>state_TN</th>\n",
       "      <th>state_TX</th>\n",
       "      <th>state_UT</th>\n",
       "      <th>state_VA</th>\n",
       "      <th>state_WI</th>\n",
       "      <th>state_WV</th>\n",
       "      <th>state_WY</th>\n",
       "      <th>state_nothing</th>\n",
       "    </tr>\n",
       "  </thead>\n",
       "  <tbody>\n",
       "    <tr>\n",
       "      <th>0</th>\n",
       "      <td>1</td>\n",
       "      <td>4</td>\n",
       "      <td>1</td>\n",
       "      <td>2924</td>\n",
       "      <td>68</td>\n",
       "      <td>10.0</td>\n",
       "      <td>1</td>\n",
       "      <td>372</td>\n",
       "      <td>0</td>\n",
       "      <td>1</td>\n",
       "      <td>...</td>\n",
       "      <td>0.0</td>\n",
       "      <td>0.0</td>\n",
       "      <td>0.0</td>\n",
       "      <td>0.0</td>\n",
       "      <td>0.0</td>\n",
       "      <td>0.0</td>\n",
       "      <td>0.0</td>\n",
       "      <td>0.0</td>\n",
       "      <td>0.0</td>\n",
       "      <td>1.0</td>\n",
       "    </tr>\n",
       "    <tr>\n",
       "      <th>1</th>\n",
       "      <td>2</td>\n",
       "      <td>8</td>\n",
       "      <td>2</td>\n",
       "      <td>11580</td>\n",
       "      <td>50</td>\n",
       "      <td>10.0</td>\n",
       "      <td>1</td>\n",
       "      <td>372</td>\n",
       "      <td>0</td>\n",
       "      <td>1</td>\n",
       "      <td>...</td>\n",
       "      <td>0.0</td>\n",
       "      <td>0.0</td>\n",
       "      <td>0.0</td>\n",
       "      <td>0.0</td>\n",
       "      <td>0.0</td>\n",
       "      <td>0.0</td>\n",
       "      <td>0.0</td>\n",
       "      <td>0.0</td>\n",
       "      <td>0.0</td>\n",
       "      <td>1.0</td>\n",
       "    </tr>\n",
       "  </tbody>\n",
       "</table>\n",
       "<p>2 rows × 438 columns</p>\n",
       "</div>"
      ],
      "text/plain": [
       "   id  puis_fiscale  anc_veh  kmage_annuel  crm  var1  var2  var3  var4  var5  \\\n",
       "0   1             4        1          2924   68  10.0     1   372     0     1   \n",
       "1   2             8        2         11580   50  10.0     1   372     0     1   \n",
       "\n",
       "       ...        state_PA  state_SD  state_TN  state_TX  state_UT  state_VA  \\\n",
       "0      ...             0.0       0.0       0.0       0.0       0.0       0.0   \n",
       "1      ...             0.0       0.0       0.0       0.0       0.0       0.0   \n",
       "\n",
       "   state_WI  state_WV  state_WY  state_nothing  \n",
       "0       0.0       0.0       0.0            1.0  \n",
       "1       0.0       0.0       0.0            1.0  \n",
       "\n",
       "[2 rows x 438 columns]"
      ]
     },
     "execution_count": 18,
     "metadata": {},
     "output_type": "execute_result"
    }
   ],
   "source": [
    "train_dummy.head(2)"
   ]
  },
  {
   "cell_type": "code",
   "execution_count": 19,
   "metadata": {
    "collapsed": true
   },
   "outputs": [],
   "source": [
    "test_dummy = pd.get_dummies(test)"
   ]
  },
  {
   "cell_type": "code",
   "execution_count": 20,
   "metadata": {
    "collapsed": false
   },
   "outputs": [],
   "source": [
    "from sklearn.ensemble import GradientBoostingRegressor\n",
    "from sklearn.cross_validation import cross_val_score\n",
    "from sklearn import linear_model\n",
    "from sklearn.ensemble import RandomForestRegressor"
   ]
  },
  {
   "cell_type": "code",
   "execution_count": 21,
   "metadata": {
    "collapsed": false
   },
   "outputs": [],
   "source": [
    "#score = []\n",
    "#for i in range(210,260,10):\n",
    "    #gb = GradientBoostingRegressor(n_estimators=i, max_depth=5, subsample=0.6, warm_start=True, verbose=1)\n",
    "    #rf = RandomForestRegressor(n_estimators=i, warm_start=True, max_depth=16, verbose=1, n_jobs=8)\n",
    "    #score.append(cross_val_score(gb, train_dummy[list(set(test_dummy.columns)&(set(train_dummy.columns)))], target, cv=3, n_jobs=8,scoring=scorer).mean())\n",
    "    #print(i, score)"
   ]
  },
  {
   "cell_type": "code",
   "execution_count": null,
   "metadata": {
    "collapsed": false
   },
   "outputs": [
    {
     "name": "stdout",
     "output_type": "stream",
     "text": [
      "      Iter       Train Loss      OOB Improve   Remaining Time \n",
      "         1       12337.8839        1891.5428           14.12m\n",
      "         2       10918.4670        1549.3116           14.08m\n",
      "         3        9742.7342        1256.3189           13.99m\n",
      "         4        8610.1509        1052.9659           13.99m\n",
      "         5        7747.2253         853.8435           13.99m\n",
      "        80        1850.7772           5.2536            8.51m\n",
      "        90        1792.7074           6.5048            7.83m\n",
      "       100        1736.0688           2.1346            7.21m\n"
     ]
    },
    {
     "data": {
      "text/plain": [
       "GradientBoostingRegressor(alpha=0.9, init=None, learning_rate=0.1, loss='ls',\n",
       "             max_depth=5, max_features=None, max_leaf_nodes=None,\n",
       "             min_samples_leaf=1, min_samples_split=2,\n",
       "             min_weight_fraction_leaf=0.0, n_estimators=230,\n",
       "             presort='auto', random_state=None, subsample=0.5, verbose=1,\n",
       "             warm_start=False)"
      ]
     },
     "execution_count": 22,
     "metadata": {},
     "output_type": "execute_result"
    }
   ],
   "source": [
    "gb = GradientBoostingRegressor(n_estimators=230, max_depth=5, subsample=0.5, verbose=1)\n",
    "gb.fit(train_dummy[list(set(test_dummy.columns)&(set(train_dummy.columns)))], target)"
   ]
  },
  {
   "cell_type": "code",
   "execution_count": null,
   "metadata": {
    "collapsed": false
   },
   "outputs": [],
   "source": [
    "prediction = gb.predict(test_dummy[list(set(test_dummy.columns)&(set(train_dummy.columns)))])"
   ]
  },
  {
   "cell_type": "code",
   "execution_count": null,
   "metadata": {
    "collapsed": false
   },
   "outputs": [],
   "source": [
    "result = pd.DataFrame([test_dummy.id.values,prediction])\n",
    "result = result.transpose()\n",
    "cols = ['ID','COTIS']\n",
    "result.columns = cols\n",
    "result.ID = result.ID.astype(int)"
   ]
  },
  {
   "cell_type": "code",
   "execution_count": null,
   "metadata": {
    "collapsed": true
   },
   "outputs": [],
   "source": [
    "result.head()"
   ]
  },
  {
   "cell_type": "code",
   "execution_count": null,
   "metadata": {
    "collapsed": false
   },
   "outputs": [],
   "source": [
    "result.to_csv('result.csv',sep=';',index_label=False, index=False)"
   ]
  },
  {
   "cell_type": "code",
   "execution_count": null,
   "metadata": {
    "collapsed": false
   },
   "outputs": [],
   "source": [
    "cols = train_dummy.columns\n",
    "importances = list(gb.feature_importances_)"
   ]
  },
  {
   "cell_type": "code",
   "execution_count": null,
   "metadata": {
    "collapsed": false
   },
   "outputs": [],
   "source": [
    "imp = pd.DataFrame([cols,importances])\n",
    "imp = imp.transpose()\n",
    "columns=['names','importances']\n",
    "imp.columns = columns"
   ]
  },
  {
   "cell_type": "code",
   "execution_count": null,
   "metadata": {
    "collapsed": false
   },
   "outputs": [],
   "source": [
    "imp[imp.importances>0].sort_values(by=['importances'],ascending=False).head(50)"
   ]
  },
  {
   "cell_type": "code",
   "execution_count": null,
   "metadata": {
    "collapsed": true
   },
   "outputs": [],
   "source": []
  }
 ],
 "metadata": {
  "anaconda-cloud": {},
  "kernelspec": {
   "display_name": "Python [default]",
   "language": "python",
   "name": "python2"
  },
  "language_info": {
   "codemirror_mode": {
    "name": "ipython",
    "version": 2
   },
   "file_extension": ".py",
   "mimetype": "text/x-python",
   "name": "python",
   "nbconvert_exporter": "python",
   "pygments_lexer": "ipython2",
   "version": "2.7.12"
  }
 },
 "nbformat": 4,
 "nbformat_minor": 0
}
