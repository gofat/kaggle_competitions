{
 "cells": [
  {
   "cell_type": "code",
   "execution_count": 5,
   "metadata": {
    "collapsed": false
   },
   "outputs": [],
   "source": [
    "import pandas as pd\n",
    "import numpy as np\n",
    "import urllib2\n",
    "import json\n",
    "from sklearn.metrics import mean_squared_error\n",
    "from sklearn.metrics import make_scorer\n",
    "import matplotlib.pyplot as plt\n",
    "import re\n",
    "%matplotlib inline"
   ]
  },
  {
   "cell_type": "code",
   "execution_count": 6,
   "metadata": {
    "collapsed": false
   },
   "outputs": [
    {
     "name": "stderr",
     "output_type": "stream",
     "text": [
      "/home/ubuntu/anaconda/lib/python2.7/site-packages/IPython/core/interactiveshell.py:2717: DtypeWarning: Columns (11,19,21,22,29,34,35,36,37,39,40,42,44) have mixed types. Specify dtype option on import or set low_memory=False.\n",
      "  interactivity=interactivity, compiler=compiler, result=result)\n"
     ]
    }
   ],
   "source": [
    "train = pd.read_csv('champ1_train.csv')\n",
    "test = pd.read_csv('champ1_test.csv')\n",
    "train_parced = pd.read_csv('train_parsed_1.csv')\n",
    "# избавлено от разделителя между тысячами (т.н. французский пробел)"
   ]
  },
  {
   "cell_type": "code",
   "execution_count": 8,
   "metadata": {
    "collapsed": false
   },
   "outputs": [
    {
     "data": {
      "text/html": [
       "<div>\n",
       "<table border=\"1\" class=\"dataframe\">\n",
       "  <thead>\n",
       "    <tr style=\"text-align: right;\">\n",
       "      <th></th>\n",
       "      <th>coordinates</th>\n",
       "      <th>desc</th>\n",
       "      <th>price</th>\n",
       "      <th>Арендаторы:</th>\n",
       "      <th>Вентиляция:</th>\n",
       "      <th>Ворота:</th>\n",
       "      <th>Вход:</th>\n",
       "      <th>Высота потолков:</th>\n",
       "      <th>Год постройки:</th>\n",
       "      <th>Девелопер:</th>\n",
       "      <th>...</th>\n",
       "      <th>Траволаторы:</th>\n",
       "      <th>Управляющая компания:</th>\n",
       "      <th>Участок:</th>\n",
       "      <th>Часы работы:</th>\n",
       "      <th>Эскалаторы:</th>\n",
       "      <th>Этаж:</th>\n",
       "      <th>Этажей в здании:</th>\n",
       "      <th>link</th>\n",
       "      <th>region</th>\n",
       "      <th>type</th>\n",
       "    </tr>\n",
       "  </thead>\n",
       "  <tbody>\n",
       "    <tr>\n",
       "      <th>0</th>\n",
       "      <td>44.890463,37.314005</td>\n",
       "      <td>ПРОДАЖА СОБСТВЕННОСТИ.Отель Паллада расположен...</td>\n",
       "      <td>105000000,0</td>\n",
       "      <td>NaN</td>\n",
       "      <td>NaN</td>\n",
       "      <td>NaN</td>\n",
       "      <td>NaN</td>\n",
       "      <td>NaN</td>\n",
       "      <td>NaN</td>\n",
       "      <td>NaN</td>\n",
       "      <td>...</td>\n",
       "      <td>NaN</td>\n",
       "      <td>NaN</td>\n",
       "      <td>в собственности</td>\n",
       "      <td>NaN</td>\n",
       "      <td>NaN</td>\n",
       "      <td>NaN</td>\n",
       "      <td>4.0</td>\n",
       "      <td>http://anapa.cian.ru/sale/commercial/146947168/</td>\n",
       "      <td>4584</td>\n",
       "      <td>0</td>\n",
       "    </tr>\n",
       "    <tr>\n",
       "      <th>1</th>\n",
       "      <td>44.883707,37.324497</td>\n",
       "      <td>Продается офисное помещение , площадью 48 кв.м...</td>\n",
       "      <td>3950000,0</td>\n",
       "      <td>NaN</td>\n",
       "      <td>NaN</td>\n",
       "      <td>NaN</td>\n",
       "      <td>общий с улицы</td>\n",
       "      <td>3 м</td>\n",
       "      <td>NaN</td>\n",
       "      <td>NaN</td>\n",
       "      <td>...</td>\n",
       "      <td>NaN</td>\n",
       "      <td>NaN</td>\n",
       "      <td>в собственности</td>\n",
       "      <td>NaN</td>\n",
       "      <td>NaN</td>\n",
       "      <td>1 из 6</td>\n",
       "      <td>NaN</td>\n",
       "      <td>http://anapa.cian.ru/sale/commercial/149153755/</td>\n",
       "      <td>4584</td>\n",
       "      <td>2</td>\n",
       "    </tr>\n",
       "  </tbody>\n",
       "</table>\n",
       "<p>2 rows × 53 columns</p>\n",
       "</div>"
      ],
      "text/plain": [
       "           coordinates                                               desc  \\\n",
       "0  44.890463,37.314005  ПРОДАЖА СОБСТВЕННОСТИ.Отель Паллада расположен...   \n",
       "1  44.883707,37.324497  Продается офисное помещение , площадью 48 кв.м...   \n",
       "\n",
       "         price Арендаторы: Вентиляция: Ворота:          Вход:  \\\n",
       "0  105000000,0         NaN         NaN     NaN            NaN   \n",
       "1    3950000,0         NaN         NaN     NaN  общий с улицы   \n",
       "\n",
       "  Высота потолков:  Год постройки: Девелопер: ...  Траволаторы:  \\\n",
       "0              NaN             NaN        NaN ...           NaN   \n",
       "1              3 м             NaN        NaN ...           NaN   \n",
       "\n",
       "  Управляющая компания:         Участок: Часы работы: Эскалаторы:   Этаж:  \\\n",
       "0                   NaN  в собственности          NaN         NaN     NaN   \n",
       "1                   NaN  в собственности          NaN         NaN  1 из 6   \n",
       "\n",
       "  Этажей в здании:                                             link region  \\\n",
       "0              4.0  http://anapa.cian.ru/sale/commercial/146947168/   4584   \n",
       "1              NaN  http://anapa.cian.ru/sale/commercial/149153755/   4584   \n",
       "\n",
       "  type  \n",
       "0    0  \n",
       "1    2  \n",
       "\n",
       "[2 rows x 53 columns]"
      ]
     },
     "execution_count": 8,
     "metadata": {},
     "output_type": "execute_result"
    }
   ],
   "source": [
    "train_parced.head(2)"
   ]
  },
  {
   "cell_type": "code",
   "execution_count": 9,
   "metadata": {
    "collapsed": false
   },
   "outputs": [],
   "source": [
    "# take informative columns\n",
    "train_parced = train_parced[['desc','coordinates','price','type','Общая площадь:', 'Площадь:',\n",
    "       'Этаж:', 'Тип здания:', 'Состояние:',\n",
    "       'Вход:', 'Высота потолков:', 'Этажей в здании:',\n",
    "       'Отопление:', 'Вентиляция:', 'Кондиционирование:', 'Класс:', 'Парковка:', 'Линия домов:']]"
   ]
  },
  {
   "cell_type": "code",
   "execution_count": 10,
   "metadata": {
    "collapsed": false
   },
   "outputs": [],
   "source": [
    "# price\n",
    "price = []\n",
    "for i in train_parced.price:\n",
    "    try:\n",
    "        price.append(int(int(i.split(',')[0])/1000.0))\n",
    "    except:\n",
    "        price.append(-1)\n",
    "train_parced['price'] = price"
   ]
  },
  {
   "cell_type": "code",
   "execution_count": 11,
   "metadata": {
    "collapsed": false
   },
   "outputs": [],
   "source": [
    "# floor\n",
    "floor = []\n",
    "total_floors = []\n",
    "for i in train_parced['Этаж:'].astype(str):\n",
    "    if i=='полуподвал':\n",
    "        floor.append(0)\n",
    "        total_floors.append(-1)\n",
    "    elif i=='подвал':\n",
    "        floor.append(-1)\n",
    "        total_floors.append(-1)\n",
    "    else:\n",
    "        try:\n",
    "            floor.append(int(i.split(' ')[0]))\n",
    "            try:\n",
    "                total_floors.append(int(i.split(' ')[2]))\n",
    "            except:\n",
    "                total_floors.append(-1)\n",
    "        except:\n",
    "            floor.append(-2)\n",
    "            total_floors.append(-1)\n",
    "train_parced['floor'] = floor\n",
    "train_parced['total_floors'] = total_floors"
   ]
  },
  {
   "cell_type": "code",
   "execution_count": 12,
   "metadata": {
    "collapsed": false
   },
   "outputs": [],
   "source": [
    "# square\n",
    "total_square = []\n",
    "trade_square = []\n",
    "for i in train_parced['Общая площадь:']:\n",
    "    try:\n",
    "        total_square.append(int(float(i.replace(',','.').split('м²')[0].replace(' ', ''))))\n",
    "    except:\n",
    "        total_square.append(-1)\n",
    "\n",
    "for i in train_parced['Площадь:'].astype(str):\n",
    "    if i.find('-') != -1:\n",
    "        st = i.replace(',','.').split('м²')[0].replace(' ','')\n",
    "        x1 = int(st.split('-')[0])\n",
    "        x2 = int(st.split('-')[1])\n",
    "        x = (x1 + x2)/2\n",
    "        trade_square.append(x)\n",
    "    else:\n",
    "        try:\n",
    "            trade_square.append(int(float(i.replace(',','.').split('м²')[0].replace(' ',''))))\n",
    "        except:\n",
    "            trade_square.append(-1)\n",
    "train_parced['total_square'] = total_square\n",
    "train_parced['trade_square'] = trade_square"
   ]
  },
  {
   "cell_type": "code",
   "execution_count": 13,
   "metadata": {
    "collapsed": false
   },
   "outputs": [],
   "source": [
    "# roof height\n",
    "\n",
    "roof_height = []\n",
    "for i in train_parced['Высота потолков:']:\n",
    "    try:\n",
    "        roof_height.append(float(i.replace(',','.').split('м')[0].replace(' ', '')))\n",
    "    except:\n",
    "        roof_height.append(-1)\n",
    "train_parced['roof_height'] = roof_height\n",
    "#train_parced[~train_parced['Этажей в здании:'].isnull()]"
   ]
  },
  {
   "cell_type": "code",
   "execution_count": 14,
   "metadata": {
    "collapsed": true
   },
   "outputs": [],
   "source": [
    "bf_s = [] # basement square\n",
    "nf_s = [] # null floor square\n",
    "ff_s = [] # first floor square\n",
    "sf_s = [] # hight floor square\n",
    "hf_s = []\n",
    "ff_h = []\n",
    "for n,i in enumerate(floor):\n",
    "    if i==-1:\n",
    "        bf_s.append(trade_square[n])\n",
    "        nf_s.append(-1)\n",
    "        ff_s.append(-1)\n",
    "        sf_s.append(-1)\n",
    "        hf_s.append(-1)\n",
    "        ff_h.append(-1)\n",
    "    elif i==0:\n",
    "        bf_s.append(-1)\n",
    "        nf_s.append(trade_square[n])\n",
    "        ff_s.append(-1)\n",
    "        sf_s.append(-1)\n",
    "        hf_s.append(-1)\n",
    "        ff_h.append(-1)\n",
    "    elif i==1:\n",
    "        bf_s.append(-1)\n",
    "        nf_s.append(-1)\n",
    "        ff_s.append(trade_square[n])\n",
    "        sf_s.append(-1)\n",
    "        hf_s.append(-1)\n",
    "        ff_h.append(roof_height[n])\n",
    "    elif i==2:\n",
    "        bf_s.append(-1)\n",
    "        nf_s.append(-1)\n",
    "        ff_s.append(-1)\n",
    "        sf_s.append(trade_square[n])\n",
    "        hf_s.append(-1)\n",
    "        ff_h.append(-1)\n",
    "    elif i>2:\n",
    "        bf_s.append(-1)\n",
    "        nf_s.append(-1)\n",
    "        ff_s.append(-1)\n",
    "        sf_s.append(-1)\n",
    "        hf_s.append(trade_square[n])\n",
    "        ff_h.append(-1)\n",
    "    else:\n",
    "        bf_s.append(-1)\n",
    "        nf_s.append(-1)\n",
    "        ff_s.append(-1)\n",
    "        sf_s.append(-1)\n",
    "        hf_s.append(trade_square[n])\n",
    "        ff_h.append(-1)\n",
    "train_parced['bf_s'] = bf_s\n",
    "train_parced['nf_s'] = nf_s\n",
    "train_parced['ff_s'] = ff_s\n",
    "train_parced['sf_s'] = sf_s\n",
    "train_parced['hf_s'] = hf_s\n",
    "train_parced['ff_s'] = ff_s"
   ]
  },
  {
   "cell_type": "code",
   "execution_count": 16,
   "metadata": {
    "collapsed": false
   },
   "outputs": [
    {
     "data": {
      "text/html": [
       "<div>\n",
       "<table border=\"1\" class=\"dataframe\">\n",
       "  <thead>\n",
       "    <tr style=\"text-align: right;\">\n",
       "      <th></th>\n",
       "      <th>desc</th>\n",
       "      <th>coordinates</th>\n",
       "      <th>price</th>\n",
       "      <th>type</th>\n",
       "      <th>Общая площадь:</th>\n",
       "      <th>Площадь:</th>\n",
       "      <th>Этаж:</th>\n",
       "      <th>Тип здания:</th>\n",
       "      <th>Состояние:</th>\n",
       "      <th>Вход:</th>\n",
       "      <th>...</th>\n",
       "      <th>floor</th>\n",
       "      <th>total_floors</th>\n",
       "      <th>total_square</th>\n",
       "      <th>trade_square</th>\n",
       "      <th>roof_height</th>\n",
       "      <th>bf_s</th>\n",
       "      <th>nf_s</th>\n",
       "      <th>ff_s</th>\n",
       "      <th>sf_s</th>\n",
       "      <th>hf_s</th>\n",
       "    </tr>\n",
       "  </thead>\n",
       "  <tbody>\n",
       "    <tr>\n",
       "      <th>0</th>\n",
       "      <td>ПРОДАЖА СОБСТВЕННОСТИ.Отель Паллада расположен...</td>\n",
       "      <td>44.890463,37.314005</td>\n",
       "      <td>105000</td>\n",
       "      <td>0</td>\n",
       "      <td>1 034 м²</td>\n",
       "      <td>NaN</td>\n",
       "      <td>NaN</td>\n",
       "      <td>свободное</td>\n",
       "      <td>NaN</td>\n",
       "      <td>NaN</td>\n",
       "      <td>...</td>\n",
       "      <td>-2</td>\n",
       "      <td>-1</td>\n",
       "      <td>1034</td>\n",
       "      <td>-1</td>\n",
       "      <td>-1.0</td>\n",
       "      <td>-1</td>\n",
       "      <td>-1</td>\n",
       "      <td>-1</td>\n",
       "      <td>-1</td>\n",
       "      <td>-1</td>\n",
       "    </tr>\n",
       "    <tr>\n",
       "      <th>1</th>\n",
       "      <td>Продается офисное помещение , площадью 48 кв.м...</td>\n",
       "      <td>44.883707,37.324497</td>\n",
       "      <td>3950</td>\n",
       "      <td>2</td>\n",
       "      <td>48 м²</td>\n",
       "      <td>48 м²</td>\n",
       "      <td>1 из 6</td>\n",
       "      <td>торговый центр</td>\n",
       "      <td>дизайнерский ремонт</td>\n",
       "      <td>общий с улицы</td>\n",
       "      <td>...</td>\n",
       "      <td>1</td>\n",
       "      <td>6</td>\n",
       "      <td>48</td>\n",
       "      <td>48</td>\n",
       "      <td>3.0</td>\n",
       "      <td>-1</td>\n",
       "      <td>-1</td>\n",
       "      <td>48</td>\n",
       "      <td>-1</td>\n",
       "      <td>-1</td>\n",
       "    </tr>\n",
       "  </tbody>\n",
       "</table>\n",
       "<p>2 rows × 28 columns</p>\n",
       "</div>"
      ],
      "text/plain": [
       "                                                desc          coordinates  \\\n",
       "0  ПРОДАЖА СОБСТВЕННОСТИ.Отель Паллада расположен...  44.890463,37.314005   \n",
       "1  Продается офисное помещение , площадью 48 кв.м...  44.883707,37.324497   \n",
       "\n",
       "    price  type Общая площадь: Площадь:   Этаж:     Тип здания:  \\\n",
       "0  105000     0       1 034 м²      NaN     NaN       свободное   \n",
       "1    3950     2          48 м²    48 м²  1 из 6  торговый центр   \n",
       "\n",
       "            Состояние:          Вход:  ...  floor  total_floors total_square  \\\n",
       "0                  NaN            NaN  ...     -2            -1         1034   \n",
       "1  дизайнерский ремонт  общий с улицы  ...      1             6           48   \n",
       "\n",
       "  trade_square roof_height bf_s nf_s ff_s  sf_s  hf_s  \n",
       "0           -1        -1.0   -1   -1   -1    -1    -1  \n",
       "1           48         3.0   -1   -1   48    -1    -1  \n",
       "\n",
       "[2 rows x 28 columns]"
      ]
     },
     "execution_count": 16,
     "metadata": {},
     "output_type": "execute_result"
    }
   ],
   "source": [
    "train_parced.head(2)"
   ]
  },
  {
   "cell_type": "code",
   "execution_count": null,
   "metadata": {
    "collapsed": false
   },
   "outputs": [],
   "source": [
    "#test._IS_COM_.value_counts()"
   ]
  },
  {
   "cell_type": "code",
   "execution_count": null,
   "metadata": {
    "collapsed": false
   },
   "outputs": [],
   "source": [
    "#test._IS_VENT_.value_counts()"
   ]
  },
  {
   "cell_type": "code",
   "execution_count": null,
   "metadata": {
    "collapsed": false
   },
   "outputs": [],
   "source": [
    "#train_parced['Помещение:'].value_counts()"
   ]
  },
  {
   "cell_type": "code",
   "execution_count": null,
   "metadata": {
    "collapsed": false
   },
   "outputs": [],
   "source": [
    "#train_parced.columns"
   ]
  },
  {
   "cell_type": "code",
   "execution_count": null,
   "metadata": {
    "collapsed": false
   },
   "outputs": [],
   "source": [
    "#train_parced['Отопление:'].value_counts()"
   ]
  },
  {
   "cell_type": "code",
   "execution_count": null,
   "metadata": {
    "collapsed": false
   },
   "outputs": [],
   "source": [
    "#train_parced['Кондиционирование:'].value_counts()"
   ]
  },
  {
   "cell_type": "code",
   "execution_count": null,
   "metadata": {
    "collapsed": false
   },
   "outputs": [],
   "source": [
    "#train_parced['Вентиляция:'].value_counts()"
   ]
  },
  {
   "cell_type": "code",
   "execution_count": null,
   "metadata": {
    "collapsed": false
   },
   "outputs": [],
   "source": [
    "#train_parced"
   ]
  },
  {
   "cell_type": "code",
   "execution_count": null,
   "metadata": {
    "collapsed": false
   },
   "outputs": [],
   "source": [
    "#train = train[(train._PRICE_!='None')&(train._PRICE_!='Не указано')&(train._PRICE_!='Договорная')]\n",
    "#train = train[train._AREA_!='None']"
   ]
  },
  {
   "cell_type": "code",
   "execution_count": null,
   "metadata": {
    "collapsed": false
   },
   "outputs": [],
   "source": [
    "#train['price'] = [int(i.split('РУБ.')[0].replace(' ','')) for i in train._PRICE_]\n",
    "#train.price = train.price/1000\n",
    "#train.price = train.price.astype(int)"
   ]
  },
  {
   "cell_type": "code",
   "execution_count": null,
   "metadata": {
    "collapsed": false
   },
   "outputs": [],
   "source": [
    "#train['area'] = [float(i.split('м')[0].replace(',','.')) for i in train._AREA_]"
   ]
  },
  {
   "cell_type": "code",
   "execution_count": null,
   "metadata": {
    "collapsed": true
   },
   "outputs": [],
   "source": [
    "def rmse(y, y_pred): \n",
    "    return mean_squared_error(y, y_pred)**0.5"
   ]
  },
  {
   "cell_type": "code",
   "execution_count": null,
   "metadata": {
    "collapsed": true
   },
   "outputs": [],
   "source": [
    "scorer = make_scorer(rmse, greater_is_better=False)"
   ]
  },
  {
   "cell_type": "code",
   "execution_count": null,
   "metadata": {
    "collapsed": true
   },
   "outputs": [],
   "source": [
    "def citystring(string):\n",
    "    'make readable address string for geocoding'\n",
    "    tstr = []\n",
    "    for i in (string).split(','):\n",
    "        for j in i.split(' '):\n",
    "            if j!='':\n",
    "                tstr.append(j)\n",
    "    return '+'.join(tstr)"
   ]
  },
  {
   "cell_type": "code",
   "execution_count": null,
   "metadata": {
    "collapsed": true
   },
   "outputs": [],
   "source": [
    "# geocoding by service: geocode-maps.yandex.ru\n",
    "\n",
    "def geocode(lat, lon):\n",
    "    'Geocode by coordinates:\\\n",
    "    returns county, city, street of first result'\n",
    "    # make request (for additional info https://tech.yandex.ru/maps/doc/geocoder/desc/concepts/input_params-docpage/)\n",
    "    req = urllib2.Request('https://geocode-maps.yandex.ru/1.x/?format=json&geocode={0},{1}'.format(lon,lat))\n",
    "    # get data from response\n",
    "    response = urllib2.urlopen(t)\n",
    "    page = response.read()\n",
    "    j = json.loads(page)\n",
    "    \n",
    "    try:\n",
    "        city = j['response']['GeoObjectCollection']['featureMember'][0]['GeoObject']['description'].encode('utf-8')\n",
    "    except:\n",
    "        city = 'no_city'\n",
    "    \n",
    "    try:\n",
    "        street = j['response']['GeoObjectCollection']['featureMember'][0]['GeoObject']['name'].encode('utf-8')\n",
    "    except:\n",
    "        street = 'no_street'\n",
    "    \n",
    "    # return city, county, country and street\n",
    "    return city, street\n",
    "    \n",
    "\n",
    "def reverse_geocode(string):\n",
    "    'Reverse geocode by address:\\\n",
    "    returns latitude and longitude of first result'\n",
    "    # make request (for additional info https://tech.yandex.ru/maps/doc/geocoder/desc/concepts/input_params-docpage/)\n",
    "    string = str(string)\n",
    "    req_str = citystring(string)\n",
    "    req = urllib2.Request('https://geocode-maps.yandex.ru/1.x/?format=json&geocode={0}'.format(req_str))\n",
    "    # get data from response\n",
    "    try:\n",
    "        response = urllib2.urlopen(req)\n",
    "        page = response.read()\n",
    "        j = json.loads(page)\n",
    "\n",
    "        try:\n",
    "            city = j['response']['GeoObjectCollection']['featureMember'][0]['GeoObject']['description'].encode('utf-8')\n",
    "        except:\n",
    "            city = 'no_city'\n",
    "\n",
    "        try:\n",
    "            street = j['response']['GeoObjectCollection']['featureMember'][0]['GeoObject']['name'].encode('utf-8')\n",
    "        except:\n",
    "            street = 'no_street'\n",
    "\n",
    "        try:\n",
    "            point = j['response']['GeoObjectCollection']['featureMember'][0]['GeoObject']['Point']['pos'].encode('utf-8')\n",
    "        except:\n",
    "            point = '0.0, 0.0'\n",
    "\n",
    "        return city, street, point\n",
    "    except:\n",
    "        city = 'no_city'\n",
    "        street = 'no_street'\n",
    "        point = '0.0, 0.0'\n",
    "        return city, street, point"
   ]
  },
  {
   "cell_type": "code",
   "execution_count": null,
   "metadata": {
    "collapsed": true
   },
   "outputs": [],
   "source": [
    "#test['cityadddr'] = test._CITY_ + ',' + test._ADRS_"
   ]
  },
  {
   "cell_type": "code",
   "execution_count": null,
   "metadata": {
    "collapsed": false
   },
   "outputs": [],
   "source": [
    "#cityes = []\n",
    "#streets = []\n",
    "#points = []\n",
    "\n",
    "#for n,i in enumerate(list(test.cityadddr.values)):\n",
    "#    if n%10 == 0:\n",
    "#        print n, i\n",
    "#    if n%500 == 0:\n",
    "#        pd.DataFrame([cityes, streets, points]).transpose().to_csv(str(n)+'.csv',index=False)\n",
    "#    city, street, point = reverse_geocode(i)\n",
    "#    cityes.append(city)\n",
    "#    streets.append(street)\n",
    "#    points.append(point)"
   ]
  },
  {
   "cell_type": "code",
   "execution_count": null,
   "metadata": {
    "collapsed": true
   },
   "outputs": [],
   "source": [
    "#test['city'] = cityes\n",
    "#test['street'] = streets\n",
    "#test['points'] = points"
   ]
  },
  {
   "cell_type": "code",
   "execution_count": null,
   "metadata": {
    "collapsed": true
   },
   "outputs": [],
   "source": [
    "#test.to_csv('new_test.csv', index=False)"
   ]
  },
  {
   "cell_type": "code",
   "execution_count": null,
   "metadata": {
    "collapsed": false
   },
   "outputs": [],
   "source": [
    "test['lat'] = [float(i.replace(',','').split(' ')[1]) for i in test.points]\n",
    "test['lon'] = [float(i.replace(',','').split(' ')[0]) for i in test.points]"
   ]
  },
  {
   "cell_type": "code",
   "execution_count": null,
   "metadata": {
    "collapsed": true
   },
   "outputs": [],
   "source": [
    "train_new = train[~train._LAT_.isnull()]"
   ]
  },
  {
   "cell_type": "code",
   "execution_count": null,
   "metadata": {
    "collapsed": false
   },
   "outputs": [],
   "source": [
    "train_new = train_new[train_new._LAT_!='None']"
   ]
  },
  {
   "cell_type": "code",
   "execution_count": null,
   "metadata": {
    "collapsed": false
   },
   "outputs": [],
   "source": [
    "train_new['lat'] = train_new._LAT_\n",
    "train_new['lon'] = train_new._LON_"
   ]
  },
  {
   "cell_type": "code",
   "execution_count": null,
   "metadata": {
    "collapsed": false
   },
   "outputs": [],
   "source": [
    "test.shape"
   ]
  },
  {
   "cell_type": "code",
   "execution_count": null,
   "metadata": {
    "collapsed": false
   },
   "outputs": [],
   "source": [
    "test._F1_U_.value_counts()"
   ]
  },
  {
   "cell_type": "code",
   "execution_count": null,
   "metadata": {
    "collapsed": false
   },
   "outputs": [],
   "source": [
    "train._TYPE_.value_counts()"
   ]
  },
  {
   "cell_type": "code",
   "execution_count": null,
   "metadata": {
    "collapsed": false
   },
   "outputs": [],
   "source": [
    "typ = []\n",
    "for i in test._F1_U_.values:\n",
    "    if i=='0' or i=='-0':\n",
    "        typ.append(0)\n",
    "    elif i=='торговое':\n",
    "        typ.append(1)\n",
    "    elif i=='офисное':\n",
    "        typ.append(2)\n",
    "    elif i=='складское':\n",
    "        typ.append(3)\n",
    "    else:\n",
    "        typ.append(-1)"
   ]
  },
  {
   "cell_type": "code",
   "execution_count": null,
   "metadata": {
    "collapsed": true
   },
   "outputs": [],
   "source": [
    "test['type'] = typ"
   ]
  },
  {
   "cell_type": "code",
   "execution_count": null,
   "metadata": {
    "collapsed": false
   },
   "outputs": [],
   "source": [
    "typ = []\n",
    "for i in train._TYPE_.values:\n",
    "    if i=='Другое' or i=='None' or i=='Отель':\n",
    "        typ.append(0)\n",
    "    elif i=='Магазин':\n",
    "        typ.append(1)\n",
    "    elif i=='Офис':\n",
    "        typ.append(2)\n",
    "    elif i=='Склад':\n",
    "        typ.append(3)\n",
    "    else:\n",
    "        typ.append(-1)"
   ]
  },
  {
   "cell_type": "code",
   "execution_count": null,
   "metadata": {
    "collapsed": true
   },
   "outputs": [],
   "source": [
    "train['type'] = typ"
   ]
  },
  {
   "cell_type": "code",
   "execution_count": null,
   "metadata": {
    "collapsed": false
   },
   "outputs": [],
   "source": [
    "area = []\n",
    "for i in test._TTL_S_.values:\n",
    "    try:\n",
    "        area.append(float(str(i).replace(',','.')))\n",
    "    except:\n",
    "        area.append(0)\n",
    "test['area'] = area"
   ]
  },
  {
   "cell_type": "code",
   "execution_count": null,
   "metadata": {
    "collapsed": false
   },
   "outputs": [],
   "source": [
    "test.head()"
   ]
  },
  {
   "cell_type": "code",
   "execution_count": null,
   "metadata": {
    "collapsed": false
   },
   "outputs": [],
   "source": [
    "train.head()"
   ]
  },
  {
   "cell_type": "code",
   "execution_count": null,
   "metadata": {
    "collapsed": false
   },
   "outputs": [],
   "source": [
    "from sklearn.ensemble import GradientBoostingRegressor\n",
    "from sklearn.cross_validation import cross_val_score"
   ]
  },
  {
   "cell_type": "code",
   "execution_count": null,
   "metadata": {
    "collapsed": false
   },
   "outputs": [],
   "source": [
    "score = []\n",
    "for i in range(3,10,1):\n",
    "    gb = GradientBoostingRegressor(n_estimators=1000, verbose=1, max_depth=i)\n",
    "    score.append(cross_val_score(gb, train_new[['area','type','lat','lon']], train_new.price.values, cv=5, n_jobs=-1,scoring=scorer).mean())\n",
    "    print(i, score)"
   ]
  },
  {
   "cell_type": "code",
   "execution_count": null,
   "metadata": {
    "collapsed": false
   },
   "outputs": [],
   "source": [
    "gb = GradientBoostingRegressor(n_estimators=1000, verbose=1, max_depth=5)\n",
    "gb.fit(train[['area','type']], train.price.values)\n",
    "vals = gb.predict(test[['area','type']])"
   ]
  },
  {
   "cell_type": "code",
   "execution_count": null,
   "metadata": {
    "collapsed": false
   },
   "outputs": [],
   "source": [
    "df = pd.DataFrame([],columns=['_ID_','_PRICE_'])"
   ]
  },
  {
   "cell_type": "code",
   "execution_count": null,
   "metadata": {
    "collapsed": false
   },
   "outputs": [],
   "source": [
    "df['_ID_'] = test._ID_.values\n",
    "df['_PRICE_'] = vals"
   ]
  },
  {
   "cell_type": "code",
   "execution_count": null,
   "metadata": {
    "collapsed": true
   },
   "outputs": [],
   "source": [
    "df.to_csv('baseline_2.csv',index=False)"
   ]
  },
  {
   "cell_type": "code",
   "execution_count": null,
   "metadata": {
    "collapsed": true
   },
   "outputs": [],
   "source": []
  }
 ],
 "metadata": {
  "anaconda-cloud": {},
  "kernelspec": {
   "display_name": "Python [conda root]",
   "language": "python",
   "name": "conda-root-py"
  },
  "language_info": {
   "codemirror_mode": {
    "name": "ipython",
    "version": 2
   },
   "file_extension": ".py",
   "mimetype": "text/x-python",
   "name": "python",
   "nbconvert_exporter": "python",
   "pygments_lexer": "ipython2",
   "version": "2.7.12"
  }
 },
 "nbformat": 4,
 "nbformat_minor": 1
}
