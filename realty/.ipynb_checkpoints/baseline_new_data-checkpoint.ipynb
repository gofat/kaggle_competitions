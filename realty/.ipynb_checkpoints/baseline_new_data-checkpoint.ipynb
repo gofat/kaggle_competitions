{
 "cells": [
  {
   "cell_type": "code",
   "execution_count": 1,
   "metadata": {
    "collapsed": false
   },
   "outputs": [
    {
     "name": "stderr",
     "output_type": "stream",
     "text": [
      "/home/ubuntu/anaconda/lib/python2.7/site-packages/sklearn/cross_validation.py:44: DeprecationWarning: This module was deprecated in version 0.18 in favor of the model_selection module into which all the refactored classes and functions are moved. Also note that the interface of the new CV iterators are different from that of this module. This module will be removed in 0.20.\n",
      "  \"This module will be removed in 0.20.\", DeprecationWarning)\n"
     ]
    }
   ],
   "source": [
    "import pandas as pd\n",
    "import numpy as np\n",
    "import urllib2\n",
    "import json\n",
    "from sklearn.metrics import mean_squared_error\n",
    "from sklearn.metrics import make_scorer\n",
    "import matplotlib.pyplot as plt\n",
    "from sklearn.ensemble import GradientBoostingRegressor\n",
    "from sklearn.cross_validation import cross_val_score\n",
    "%matplotlib inline"
   ]
  },
  {
   "cell_type": "code",
   "execution_count": 2,
   "metadata": {
    "collapsed": false
   },
   "outputs": [
    {
     "name": "stderr",
     "output_type": "stream",
     "text": [
      "/home/ubuntu/anaconda/lib/python2.7/site-packages/IPython/core/interactiveshell.py:2717: DtypeWarning: Columns (11,19,21,22,29,34,35,36,37,39,40,42,44) have mixed types. Specify dtype option on import or set low_memory=False.\n",
      "  interactivity=interactivity, compiler=compiler, result=result)\n"
     ]
    }
   ],
   "source": [
    "train = pd.read_csv('champ1_train.csv')\n",
    "test = pd.read_csv('new_test.csv')\n",
    "train_parced = pd.read_csv('train_parsed_1.csv')\n",
    "# избавлено от разделителя между тысячами (т.н. французский пробел)"
   ]
  },
  {
   "cell_type": "code",
   "execution_count": 3,
   "metadata": {
    "collapsed": false
   },
   "outputs": [
    {
     "data": {
      "text/html": [
       "<div>\n",
       "<table border=\"1\" class=\"dataframe\">\n",
       "  <thead>\n",
       "    <tr style=\"text-align: right;\">\n",
       "      <th></th>\n",
       "      <th>coordinates</th>\n",
       "      <th>desc</th>\n",
       "      <th>price</th>\n",
       "      <th>Арендаторы:</th>\n",
       "      <th>Вентиляция:</th>\n",
       "      <th>Ворота:</th>\n",
       "      <th>Вход:</th>\n",
       "      <th>Высота потолков:</th>\n",
       "      <th>Год постройки:</th>\n",
       "      <th>Девелопер:</th>\n",
       "      <th>...</th>\n",
       "      <th>Траволаторы:</th>\n",
       "      <th>Управляющая компания:</th>\n",
       "      <th>Участок:</th>\n",
       "      <th>Часы работы:</th>\n",
       "      <th>Эскалаторы:</th>\n",
       "      <th>Этаж:</th>\n",
       "      <th>Этажей в здании:</th>\n",
       "      <th>link</th>\n",
       "      <th>region</th>\n",
       "      <th>type</th>\n",
       "    </tr>\n",
       "  </thead>\n",
       "  <tbody>\n",
       "    <tr>\n",
       "      <th>0</th>\n",
       "      <td>44.890463,37.314005</td>\n",
       "      <td>ПРОДАЖА СОБСТВЕННОСТИ.Отель Паллада расположен...</td>\n",
       "      <td>105000000,0</td>\n",
       "      <td>NaN</td>\n",
       "      <td>NaN</td>\n",
       "      <td>NaN</td>\n",
       "      <td>NaN</td>\n",
       "      <td>NaN</td>\n",
       "      <td>NaN</td>\n",
       "      <td>NaN</td>\n",
       "      <td>...</td>\n",
       "      <td>NaN</td>\n",
       "      <td>NaN</td>\n",
       "      <td>в собственности</td>\n",
       "      <td>NaN</td>\n",
       "      <td>NaN</td>\n",
       "      <td>NaN</td>\n",
       "      <td>4.0</td>\n",
       "      <td>http://anapa.cian.ru/sale/commercial/146947168/</td>\n",
       "      <td>4584</td>\n",
       "      <td>0</td>\n",
       "    </tr>\n",
       "    <tr>\n",
       "      <th>1</th>\n",
       "      <td>44.883707,37.324497</td>\n",
       "      <td>Продается офисное помещение , площадью 48 кв.м...</td>\n",
       "      <td>3950000,0</td>\n",
       "      <td>NaN</td>\n",
       "      <td>NaN</td>\n",
       "      <td>NaN</td>\n",
       "      <td>общий с улицы</td>\n",
       "      <td>3 м</td>\n",
       "      <td>NaN</td>\n",
       "      <td>NaN</td>\n",
       "      <td>...</td>\n",
       "      <td>NaN</td>\n",
       "      <td>NaN</td>\n",
       "      <td>в собственности</td>\n",
       "      <td>NaN</td>\n",
       "      <td>NaN</td>\n",
       "      <td>1 из 6</td>\n",
       "      <td>NaN</td>\n",
       "      <td>http://anapa.cian.ru/sale/commercial/149153755/</td>\n",
       "      <td>4584</td>\n",
       "      <td>2</td>\n",
       "    </tr>\n",
       "  </tbody>\n",
       "</table>\n",
       "<p>2 rows × 53 columns</p>\n",
       "</div>"
      ],
      "text/plain": [
       "           coordinates                                               desc  \\\n",
       "0  44.890463,37.314005  ПРОДАЖА СОБСТВЕННОСТИ.Отель Паллада расположен...   \n",
       "1  44.883707,37.324497  Продается офисное помещение , площадью 48 кв.м...   \n",
       "\n",
       "         price Арендаторы: Вентиляция: Ворота:          Вход:  \\\n",
       "0  105000000,0         NaN         NaN     NaN            NaN   \n",
       "1    3950000,0         NaN         NaN     NaN  общий с улицы   \n",
       "\n",
       "  Высота потолков:  Год постройки: Девелопер: ...  Траволаторы:  \\\n",
       "0              NaN             NaN        NaN ...           NaN   \n",
       "1              3 м             NaN        NaN ...           NaN   \n",
       "\n",
       "  Управляющая компания:         Участок: Часы работы: Эскалаторы:   Этаж:  \\\n",
       "0                   NaN  в собственности          NaN         NaN     NaN   \n",
       "1                   NaN  в собственности          NaN         NaN  1 из 6   \n",
       "\n",
       "  Этажей в здании:                                             link region  \\\n",
       "0              4.0  http://anapa.cian.ru/sale/commercial/146947168/   4584   \n",
       "1              NaN  http://anapa.cian.ru/sale/commercial/149153755/   4584   \n",
       "\n",
       "  type  \n",
       "0    0  \n",
       "1    2  \n",
       "\n",
       "[2 rows x 53 columns]"
      ]
     },
     "execution_count": 3,
     "metadata": {},
     "output_type": "execute_result"
    }
   ],
   "source": [
    "train_parced.head(2)"
   ]
  },
  {
   "cell_type": "code",
   "execution_count": 4,
   "metadata": {
    "collapsed": false
   },
   "outputs": [
    {
     "data": {
      "text/html": [
       "<div>\n",
       "<table border=\"1\" class=\"dataframe\">\n",
       "  <thead>\n",
       "    <tr style=\"text-align: right;\">\n",
       "      <th></th>\n",
       "      <th>_ID_</th>\n",
       "      <th>_CITY_</th>\n",
       "      <th>_ADRS_</th>\n",
       "      <th>_OBJ_TYPE_</th>\n",
       "      <th>_TTL_S_</th>\n",
       "      <th>_F1_S_</th>\n",
       "      <th>_F1_U_</th>\n",
       "      <th>_FC_S_</th>\n",
       "      <th>_FC_U_</th>\n",
       "      <th>_F0_S_</th>\n",
       "      <th>...</th>\n",
       "      <th>_DECOR_</th>\n",
       "      <th>_IS_COM_</th>\n",
       "      <th>_F1_H_</th>\n",
       "      <th>_DATE_</th>\n",
       "      <th>cityadddr</th>\n",
       "      <th>type</th>\n",
       "      <th>area</th>\n",
       "      <th>city</th>\n",
       "      <th>street</th>\n",
       "      <th>points</th>\n",
       "    </tr>\n",
       "  </thead>\n",
       "  <tbody>\n",
       "    <tr>\n",
       "      <th>0</th>\n",
       "      <td>0</td>\n",
       "      <td>г. Санкт-Петербург</td>\n",
       "      <td>1-я Красноармейская ул., д.8-10, лит.А</td>\n",
       "      <td>помещение</td>\n",
       "      <td>184,7</td>\n",
       "      <td>184,7</td>\n",
       "      <td>торговое</td>\n",
       "      <td>0</td>\n",
       "      <td>NaN</td>\n",
       "      <td>0</td>\n",
       "      <td>...</td>\n",
       "      <td>рабочее состояние</td>\n",
       "      <td>все</td>\n",
       "      <td>2,7</td>\n",
       "      <td>19.04.2016</td>\n",
       "      <td>г. Санкт-Петербург, 1-я Красноармейская ул., д...</td>\n",
       "      <td>1</td>\n",
       "      <td>184.7</td>\n",
       "      <td>Санкт-Петербург, Россия</td>\n",
       "      <td>1-я Красноармейская улица, 8-10</td>\n",
       "      <td>30.314754 59.915896</td>\n",
       "    </tr>\n",
       "    <tr>\n",
       "      <th>1</th>\n",
       "      <td>1</td>\n",
       "      <td>г. Санкт-Петербург</td>\n",
       "      <td>пр. Просвещения, д. 54, лит. А</td>\n",
       "      <td>помещение</td>\n",
       "      <td>284,8</td>\n",
       "      <td>284,8</td>\n",
       "      <td>торговое</td>\n",
       "      <td>0</td>\n",
       "      <td>NaN</td>\n",
       "      <td>0</td>\n",
       "      <td>...</td>\n",
       "      <td>рабочее состояние</td>\n",
       "      <td>все</td>\n",
       "      <td>3/3,1/2,95</td>\n",
       "      <td>06.04.2016</td>\n",
       "      <td>г. Санкт-Петербург,пр. Просвещения, д. 54, лит. А</td>\n",
       "      <td>1</td>\n",
       "      <td>284.8</td>\n",
       "      <td>Санкт-Петербург, Россия</td>\n",
       "      <td>проспект Просвещения, 54А</td>\n",
       "      <td>30.361017 60.04782</td>\n",
       "    </tr>\n",
       "  </tbody>\n",
       "</table>\n",
       "<p>2 rows × 37 columns</p>\n",
       "</div>"
      ],
      "text/plain": [
       "   _ID_              _CITY_                                   _ADRS_  \\\n",
       "0     0  г. Санкт-Петербург   1-я Красноармейская ул., д.8-10, лит.А   \n",
       "1     1  г. Санкт-Петербург           пр. Просвещения, д. 54, лит. А   \n",
       "\n",
       "  _OBJ_TYPE_ _TTL_S_ _F1_S_    _F1_U_ _FC_S_ _FC_U_ _F0_S_  \\\n",
       "0  помещение   184,7  184,7  торговое      0    NaN      0   \n",
       "1  помещение   284,8  284,8  торговое      0    NaN      0   \n",
       "\n",
       "          ...                     _DECOR_ _IS_COM_      _F1_H_      _DATE_  \\\n",
       "0         ...           рабочее состояние      все         2,7  19.04.2016   \n",
       "1         ...           рабочее состояние      все  3/3,1/2,95  06.04.2016   \n",
       "\n",
       "                                           cityadddr type   area  \\\n",
       "0  г. Санкт-Петербург, 1-я Красноармейская ул., д...    1  184.7   \n",
       "1  г. Санкт-Петербург,пр. Просвещения, д. 54, лит. А    1  284.8   \n",
       "\n",
       "                      city                           street  \\\n",
       "0  Санкт-Петербург, Россия  1-я Красноармейская улица, 8-10   \n",
       "1  Санкт-Петербург, Россия        проспект Просвещения, 54А   \n",
       "\n",
       "                points  \n",
       "0  30.314754 59.915896  \n",
       "1   30.361017 60.04782  \n",
       "\n",
       "[2 rows x 37 columns]"
      ]
     },
     "execution_count": 4,
     "metadata": {},
     "output_type": "execute_result"
    }
   ],
   "source": [
    "test.head(2)"
   ]
  },
  {
   "cell_type": "code",
   "execution_count": 5,
   "metadata": {
    "collapsed": false
   },
   "outputs": [],
   "source": [
    "#test"
   ]
  },
  {
   "cell_type": "code",
   "execution_count": 6,
   "metadata": {
    "collapsed": false
   },
   "outputs": [],
   "source": [
    "# take informative columns\n",
    "train_parced = train_parced[['desc','coordinates','price','type','Общая площадь:', 'Площадь:',\n",
    "       'Этаж:', 'Тип здания:', 'Состояние:',\n",
    "       'Вход:', 'Высота потолков:', 'Этажей в здании:',\n",
    "       'Отопление:', 'Вентиляция:', 'Кондиционирование:', 'Класс:', 'Парковка:', 'Линия домов:']]"
   ]
  },
  {
   "cell_type": "code",
   "execution_count": 7,
   "metadata": {
    "collapsed": false
   },
   "outputs": [],
   "source": [
    "# price\n",
    "price = []\n",
    "for i in train_parced.price:\n",
    "    try:\n",
    "        price.append(int(int(i.split(',')[0])/1000.0))\n",
    "    except:\n",
    "        price.append(-1)\n",
    "train_parced['price'] = price"
   ]
  },
  {
   "cell_type": "code",
   "execution_count": 8,
   "metadata": {
    "collapsed": false
   },
   "outputs": [],
   "source": [
    "# floor\n",
    "floor = []\n",
    "total_floors = []\n",
    "for i in train_parced['Этаж:'].astype(str):\n",
    "    if i=='полуподвал':\n",
    "        floor.append(0)\n",
    "        total_floors.append(-1)\n",
    "    elif i=='подвал':\n",
    "        floor.append(-1)\n",
    "        total_floors.append(-1)\n",
    "    else:\n",
    "        try:\n",
    "            floor.append(int(i.split(' ')[0]))\n",
    "            try:\n",
    "                total_floors.append(int(i.split(' ')[2]))\n",
    "            except:\n",
    "                total_floors.append(-1)\n",
    "        except:\n",
    "            floor.append(-2)\n",
    "            total_floors.append(-1)\n",
    "train_parced['floor'] = floor\n",
    "train_parced['total_floors'] = total_floors"
   ]
  },
  {
   "cell_type": "code",
   "execution_count": 9,
   "metadata": {
    "collapsed": false
   },
   "outputs": [],
   "source": [
    "# square\n",
    "total_square = []\n",
    "trade_square = []\n",
    "for i in train_parced['Общая площадь:']:\n",
    "    try:\n",
    "        total_square.append(int(float(i.replace(',','.').split('м²')[0].replace(' ', ''))))\n",
    "    except:\n",
    "        total_square.append(-1)\n",
    "\n",
    "for i in train_parced['Площадь:'].astype(str):\n",
    "    if i.find('-') != -1:\n",
    "        st = i.replace(',','.').split('м²')[0].replace(' ','')\n",
    "        x1 = int(st.split('-')[0])\n",
    "        x2 = int(st.split('-')[1])\n",
    "        x = (x1 + x2)/2\n",
    "        trade_square.append(x)\n",
    "    else:\n",
    "        try:\n",
    "            trade_square.append(int(float(i.replace(',','.').split('м²')[0].replace(' ',''))))\n",
    "        except:\n",
    "            trade_square.append(-1)\n",
    "train_parced['total_square'] = total_square\n",
    "train_parced['trade_square'] = trade_square"
   ]
  },
  {
   "cell_type": "code",
   "execution_count": 10,
   "metadata": {
    "collapsed": false
   },
   "outputs": [],
   "source": [
    "# roof height\n",
    "\n",
    "roof_height = []\n",
    "for i in train_parced['Высота потолков:']:\n",
    "    try:\n",
    "        roof_height.append(float(i.replace(',','.').split('м')[0].replace(' ', '')))\n",
    "    except:\n",
    "        roof_height.append(-1)\n",
    "train_parced['roof_height'] = roof_height\n",
    "#train_parced[~train_parced['Этажей в здании:'].isnull()]"
   ]
  },
  {
   "cell_type": "code",
   "execution_count": 11,
   "metadata": {
    "collapsed": true
   },
   "outputs": [],
   "source": [
    "bf_s = [] # basement square\n",
    "nf_s = [] # null floor square\n",
    "ff_s = [] # first floor square\n",
    "sf_s = [] # hight floor square\n",
    "hf_s = []\n",
    "ff_h = []\n",
    "for n,i in enumerate(floor):\n",
    "    if i==-1:\n",
    "        bf_s.append(trade_square[n])\n",
    "        nf_s.append(0)\n",
    "        ff_s.append(0)\n",
    "        sf_s.append(0)\n",
    "        hf_s.append(0)\n",
    "        ff_h.append(-1)\n",
    "    elif i==0:\n",
    "        bf_s.append(0)\n",
    "        nf_s.append(trade_square[n])\n",
    "        ff_s.append(0)\n",
    "        sf_s.append(0)\n",
    "        hf_s.append(0)\n",
    "        ff_h.append(0)\n",
    "    elif i==1:\n",
    "        bf_s.append(0)\n",
    "        nf_s.append(0)\n",
    "        ff_s.append(trade_square[n])\n",
    "        sf_s.append(0)\n",
    "        hf_s.append(0)\n",
    "        ff_h.append(roof_height[n])\n",
    "    elif i==2:\n",
    "        bf_s.append(0)\n",
    "        nf_s.append(0)\n",
    "        ff_s.append(0)\n",
    "        sf_s.append(trade_square[n])\n",
    "        hf_s.append(0)\n",
    "        ff_h.append(0)\n",
    "    elif i>2:\n",
    "        bf_s.append(0)\n",
    "        nf_s.append(0)\n",
    "        ff_s.append(0)\n",
    "        sf_s.append(0)\n",
    "        hf_s.append(trade_square[n])\n",
    "        ff_h.append(0)\n",
    "    else:\n",
    "        bf_s.append(0)\n",
    "        nf_s.append(0)\n",
    "        ff_s.append(0)\n",
    "        sf_s.append(0)\n",
    "        hf_s.append(trade_square[n])\n",
    "        ff_h.append(0)\n",
    "train_parced['bf_s'] = bf_s\n",
    "train_parced['nf_s'] = nf_s\n",
    "train_parced['ff_s'] = ff_s\n",
    "train_parced['sf_s'] = sf_s\n",
    "train_parced['hf_s'] = hf_s\n",
    "train_parced['ff_h'] = ff_h"
   ]
  },
  {
   "cell_type": "code",
   "execution_count": 12,
   "metadata": {
    "collapsed": false
   },
   "outputs": [
    {
     "data": {
      "text/html": [
       "<div>\n",
       "<table border=\"1\" class=\"dataframe\">\n",
       "  <thead>\n",
       "    <tr style=\"text-align: right;\">\n",
       "      <th></th>\n",
       "      <th>desc</th>\n",
       "      <th>coordinates</th>\n",
       "      <th>price</th>\n",
       "      <th>type</th>\n",
       "      <th>Общая площадь:</th>\n",
       "      <th>Площадь:</th>\n",
       "      <th>Этаж:</th>\n",
       "      <th>Тип здания:</th>\n",
       "      <th>Состояние:</th>\n",
       "      <th>Вход:</th>\n",
       "      <th>...</th>\n",
       "      <th>floor</th>\n",
       "      <th>total_floors</th>\n",
       "      <th>total_square</th>\n",
       "      <th>trade_square</th>\n",
       "      <th>roof_height</th>\n",
       "      <th>bf_s</th>\n",
       "      <th>nf_s</th>\n",
       "      <th>ff_s</th>\n",
       "      <th>sf_s</th>\n",
       "      <th>hf_s</th>\n",
       "    </tr>\n",
       "  </thead>\n",
       "  <tbody>\n",
       "    <tr>\n",
       "      <th>0</th>\n",
       "      <td>ПРОДАЖА СОБСТВЕННОСТИ.Отель Паллада расположен...</td>\n",
       "      <td>44.890463,37.314005</td>\n",
       "      <td>105000</td>\n",
       "      <td>0</td>\n",
       "      <td>1 034 м²</td>\n",
       "      <td>NaN</td>\n",
       "      <td>NaN</td>\n",
       "      <td>свободное</td>\n",
       "      <td>NaN</td>\n",
       "      <td>NaN</td>\n",
       "      <td>...</td>\n",
       "      <td>-2</td>\n",
       "      <td>-1</td>\n",
       "      <td>1034</td>\n",
       "      <td>-1</td>\n",
       "      <td>-1.0</td>\n",
       "      <td>0</td>\n",
       "      <td>0</td>\n",
       "      <td>0</td>\n",
       "      <td>0</td>\n",
       "      <td>-1</td>\n",
       "    </tr>\n",
       "    <tr>\n",
       "      <th>1</th>\n",
       "      <td>Продается офисное помещение , площадью 48 кв.м...</td>\n",
       "      <td>44.883707,37.324497</td>\n",
       "      <td>3950</td>\n",
       "      <td>2</td>\n",
       "      <td>48 м²</td>\n",
       "      <td>48 м²</td>\n",
       "      <td>1 из 6</td>\n",
       "      <td>торговый центр</td>\n",
       "      <td>дизайнерский ремонт</td>\n",
       "      <td>общий с улицы</td>\n",
       "      <td>...</td>\n",
       "      <td>1</td>\n",
       "      <td>6</td>\n",
       "      <td>48</td>\n",
       "      <td>48</td>\n",
       "      <td>3.0</td>\n",
       "      <td>0</td>\n",
       "      <td>0</td>\n",
       "      <td>48</td>\n",
       "      <td>0</td>\n",
       "      <td>0</td>\n",
       "    </tr>\n",
       "  </tbody>\n",
       "</table>\n",
       "<p>2 rows × 28 columns</p>\n",
       "</div>"
      ],
      "text/plain": [
       "                                                desc          coordinates  \\\n",
       "0  ПРОДАЖА СОБСТВЕННОСТИ.Отель Паллада расположен...  44.890463,37.314005   \n",
       "1  Продается офисное помещение , площадью 48 кв.м...  44.883707,37.324497   \n",
       "\n",
       "    price  type Общая площадь: Площадь:   Этаж:     Тип здания:  \\\n",
       "0  105000     0       1 034 м²      NaN     NaN       свободное   \n",
       "1    3950     2          48 м²    48 м²  1 из 6  торговый центр   \n",
       "\n",
       "            Состояние:          Вход:  ...  floor  total_floors total_square  \\\n",
       "0                  NaN            NaN  ...     -2            -1         1034   \n",
       "1  дизайнерский ремонт  общий с улицы  ...      1             6           48   \n",
       "\n",
       "  trade_square roof_height bf_s nf_s ff_s  sf_s  hf_s  \n",
       "0           -1        -1.0    0    0    0     0    -1  \n",
       "1           48         3.0    0    0   48     0     0  \n",
       "\n",
       "[2 rows x 28 columns]"
      ]
     },
     "execution_count": 12,
     "metadata": {},
     "output_type": "execute_result"
    }
   ],
   "source": [
    "train_parced.head(2)"
   ]
  },
  {
   "cell_type": "code",
   "execution_count": 13,
   "metadata": {
    "collapsed": false
   },
   "outputs": [
    {
     "data": {
      "text/plain": [
       "Index([u'desc', u'coordinates', u'price', u'type', u'Общая площадь:',\n",
       "       u'Площадь:', u'Этаж:', u'Тип здания:', u'Состояние:', u'Вход:',\n",
       "       u'Высота потолков:', u'Этажей в здании:', u'Отопление:', u'Вентиляция:',\n",
       "       u'Кондиционирование:', u'Класс:', u'Парковка:', u'Линия домов:',\n",
       "       u'floor', u'total_floors', u'total_square', u'trade_square',\n",
       "       u'roof_height', u'bf_s', u'nf_s', u'ff_s', u'sf_s', u'hf_s'],\n",
       "      dtype='object')"
      ]
     },
     "execution_count": 13,
     "metadata": {},
     "output_type": "execute_result"
    }
   ],
   "source": [
    "train_parced.columns"
   ]
  },
  {
   "cell_type": "code",
   "execution_count": 14,
   "metadata": {
    "collapsed": true
   },
   "outputs": [],
   "source": [
    "def rmse(y, y_pred): \n",
    "    return mean_squared_error(y, y_pred)**0.5"
   ]
  },
  {
   "cell_type": "code",
   "execution_count": 15,
   "metadata": {
    "collapsed": true
   },
   "outputs": [],
   "source": [
    "scorer = make_scorer(rmse, greater_is_better=False)"
   ]
  },
  {
   "cell_type": "code",
   "execution_count": 16,
   "metadata": {
    "collapsed": false
   },
   "outputs": [],
   "source": [
    "train_parced['x'] = [float(i.split(',')[0]) for i in train_parced.coordinates]\n",
    "train_parced['y'] = [float(i.split(',')[1]) for i in train_parced.coordinates]"
   ]
  },
  {
   "cell_type": "code",
   "execution_count": 68,
   "metadata": {
    "collapsed": false
   },
   "outputs": [
    {
     "name": "stdout",
     "output_type": "stream",
     "text": [
      "(3, [-0.93825487284963904])\n",
      "(4, [-0.93825487284963904, -0.95598913230618687])\n"
     ]
    }
   ],
   "source": [
    "score = []\n",
    "for i in range(3,5,1):\n",
    "    gb = GradientBoostingRegressor(n_estimators=150, verbose=0, max_depth=i)\n",
    "    score.append(cross_val_score(gb, train_parced[['x','y','type','total_square','trade_square','roof_height',\n",
    "                                'bf_s','nf_s','ff_s','sf_s','hf_s']], np.log(train_parced.price+0.01), cv=5, n_jobs=-1,scoring=scorer).mean())\n",
    "    print(i, score)"
   ]
  },
  {
   "cell_type": "code",
   "execution_count": 18,
   "metadata": {
    "collapsed": false
   },
   "outputs": [
    {
     "data": {
      "text/plain": [
       "Index([u'_ID_', u'_CITY_', u'_ADRS_', u'_OBJ_TYPE_', u'_TTL_S_', u'_F1_S_',\n",
       "       u'_F1_U_', u'_FC_S_', u'_FC_U_', u'_F0_S_', u'_F0_U_', u'_FA_S_',\n",
       "       u'_FA_U_', u'_F2_S_', u'_F2_U_', u'_F3_S_', u'_F3_U_', u'_AREA_',\n",
       "       u'_CHARACT_', u'_LINE_', u'_METRO_', u'_ROUND_', u'_FOOT_TRAF_',\n",
       "       u'_IS_PRKNG_', u'_IS_WIN_', u'_IS_SEP_ENT_', u'_IS_VENT_', u'_DECOR_',\n",
       "       u'_IS_COM_', u'_F1_H_', u'_DATE_', u'cityadddr', u'type', u'area',\n",
       "       u'city', u'street', u'points'],\n",
       "      dtype='object')"
      ]
     },
     "execution_count": 18,
     "metadata": {},
     "output_type": "execute_result"
    }
   ],
   "source": [
    "test.columns"
   ]
  },
  {
   "cell_type": "code",
   "execution_count": 25,
   "metadata": {
    "collapsed": false
   },
   "outputs": [],
   "source": [
    "test['x'] = [float(i.split(' ')[0].replace(',','')) for i in test.points]\n",
    "test['y'] = [float(i.split(' ')[1].replace(',','')) for i in test.points]"
   ]
  },
  {
   "cell_type": "code",
   "execution_count": 31,
   "metadata": {
    "collapsed": false
   },
   "outputs": [],
   "source": [
    "f1_s = []\n",
    "for i in test['_F1_S_'].astype(str):\n",
    "    if i==0 or i=='-0' or i=='н/д' or i=='нет':\n",
    "        f1_s.append(0)\n",
    "    else:\n",
    "        f1_s.append(float(i.replace(',','.')))\n",
    "test['ff_s'] = f1_s"
   ]
  },
  {
   "cell_type": "code",
   "execution_count": 34,
   "metadata": {
    "collapsed": false
   },
   "outputs": [],
   "source": [
    "fc_s = []\n",
    "for i in test['_F1_S_'].astype(str):\n",
    "    if i=='0' or i=='-0' or i=='не указано' or i=='нет' or i=='Не указано' or i=='--' or i=='н/д':\n",
    "        fc_s.append(0)\n",
    "    else:\n",
    "        fc_s.append(float(i.replace(',','.')))\n",
    "test['nf_s'] = fc_s"
   ]
  },
  {
   "cell_type": "code",
   "execution_count": 48,
   "metadata": {
    "collapsed": false
   },
   "outputs": [],
   "source": [
    "fb_s = []\n",
    "for i in test['_FC_S_'].astype(str):\n",
    "    if i=='0' or i=='-0' or i=='не указано' or i=='нет' or i=='Не указано' or i=='--' or i=='н/д' or i=='#ССЫЛ!' or i=='торговое':\n",
    "        fb_s.append(0)\n",
    "    else:\n",
    "        fb_s.append(float(i.replace(',','.')))\n",
    "test['bf_s'] = fb_s"
   ]
  },
  {
   "cell_type": "code",
   "execution_count": 49,
   "metadata": {
    "collapsed": false
   },
   "outputs": [],
   "source": [
    "fb_s = []\n",
    "for i in test['_F0_S_'].astype(str):\n",
    "    if i=='0' or i=='-0' or i=='не указано' or i=='нет' or i=='Не указано' or i=='--' or i=='н/д' or i==' ' or i=='нет данных':\n",
    "        fb_s.append(0)\n",
    "    else:\n",
    "        fb_s.append(float(i.replace(',','.')))\n",
    "test['sf_s'] = fb_s"
   ]
  },
  {
   "cell_type": "code",
   "execution_count": 40,
   "metadata": {
    "collapsed": false
   },
   "outputs": [],
   "source": [
    "fh_s = []\n",
    "for i in test['_F2_S_'].astype(str):\n",
    "    if i=='0' or i=='-0' or i=='не указано' or i=='нет' or i=='Не указано' or i=='--' or i=='н/д' or i=='офисное':\n",
    "        fh_s.append(0)\n",
    "    else:\n",
    "        fh_s.append(float(i.replace(',','.')))\n",
    "test['hf_s'] = fh_s"
   ]
  },
  {
   "cell_type": "code",
   "execution_count": 54,
   "metadata": {
    "collapsed": false
   },
   "outputs": [],
   "source": [
    "test_pred = test[['area','x','y','ff_s','nf_s','bf_s','sf_s','hf_s']]"
   ]
  },
  {
   "cell_type": "code",
   "execution_count": 56,
   "metadata": {
    "collapsed": true
   },
   "outputs": [],
   "source": [
    "test_pred.fillna(0,inplace=True)"
   ]
  },
  {
   "cell_type": "code",
   "execution_count": 59,
   "metadata": {
    "collapsed": false
   },
   "outputs": [
    {
     "name": "stderr",
     "output_type": "stream",
     "text": [
      "/home/ubuntu/anaconda/lib/python2.7/site-packages/pandas/core/frame.py:2816: SettingWithCopyWarning: \n",
      "A value is trying to be set on a copy of a slice from a DataFrame\n",
      "\n",
      "See the caveats in the documentation: http://pandas.pydata.org/pandas-docs/stable/indexing.html#indexing-view-versus-copy\n",
      "  **kwargs)\n"
     ]
    }
   ],
   "source": [
    "test_pred.rename(columns={'area':'total_square'},inplace=True)"
   ]
  },
  {
   "cell_type": "code",
   "execution_count": 62,
   "metadata": {
    "collapsed": false
   },
   "outputs": [],
   "source": [
    "gb = GradientBoostingRegressor(n_estimators=150, verbose=0, max_depth=4)\n",
    "gb.fit(train_parced[['x','y','total_square','bf_s','nf_s','ff_s','sf_s','hf_s']], np.log(train_parced.price+0.01))\n",
    "vals = gb.predict(test_pred)"
   ]
  },
  {
   "cell_type": "code",
   "execution_count": 63,
   "metadata": {
    "collapsed": true
   },
   "outputs": [],
   "source": [
    "df = pd.DataFrame([],columns=['_ID_','_PRICE_'])"
   ]
  },
  {
   "cell_type": "code",
   "execution_count": 66,
   "metadata": {
    "collapsed": true
   },
   "outputs": [],
   "source": [
    "df['_ID_'] = test._ID_.values\n",
    "df['_PRICE_'] = np.exp(vals)"
   ]
  },
  {
   "cell_type": "code",
   "execution_count": 67,
   "metadata": {
    "collapsed": true
   },
   "outputs": [],
   "source": [
    "df.to_csv('baseline_3.csv',index=False)"
   ]
  },
  {
   "cell_type": "code",
   "execution_count": null,
   "metadata": {
    "collapsed": true
   },
   "outputs": [],
   "source": [
    "########"
   ]
  },
  {
   "cell_type": "code",
   "execution_count": null,
   "metadata": {
    "collapsed": true
   },
   "outputs": [],
   "source": [
    "#test = test[['_TTL_S_','_F1_S_','_FC_S_','_F0_S_','_FA_S_','_F2_S_','_F3_S_','_F1_H_']]"
   ]
  },
  {
   "cell_type": "code",
   "execution_count": null,
   "metadata": {
    "collapsed": true
   },
   "outputs": [],
   "source": [
    "def citystring(string):\n",
    "    'make readable address string for geocoding'\n",
    "    tstr = []\n",
    "    for i in (string).split(','):\n",
    "        for j in i.split(' '):\n",
    "            if j!='':\n",
    "                tstr.append(j)\n",
    "    return '+'.join(tstr)"
   ]
  },
  {
   "cell_type": "code",
   "execution_count": null,
   "metadata": {
    "collapsed": true
   },
   "outputs": [],
   "source": [
    "# geocoding by service: geocode-maps.yandex.ru\n",
    "\n",
    "def geocode(lat, lon):\n",
    "    'Geocode by coordinates:\\\n",
    "    returns county, city, street of first result'\n",
    "    # make request (for additional info https://tech.yandex.ru/maps/doc/geocoder/desc/concepts/input_params-docpage/)\n",
    "    req = urllib2.Request('https://geocode-maps.yandex.ru/1.x/?format=json&geocode={0},{1}'.format(lon,lat))\n",
    "    # get data from response\n",
    "    response = urllib2.urlopen(t)\n",
    "    page = response.read()\n",
    "    j = json.loads(page)\n",
    "    \n",
    "    try:\n",
    "        city = j['response']['GeoObjectCollection']['featureMember'][0]['GeoObject']['description'].encode('utf-8')\n",
    "    except:\n",
    "        city = 'no_city'\n",
    "    \n",
    "    try:\n",
    "        street = j['response']['GeoObjectCollection']['featureMember'][0]['GeoObject']['name'].encode('utf-8')\n",
    "    except:\n",
    "        street = 'no_street'\n",
    "    \n",
    "    # return city, county, country and street\n",
    "    return city, street\n",
    "    \n",
    "\n",
    "def reverse_geocode(string):\n",
    "    'Reverse geocode by address:\\\n",
    "    returns latitude and longitude of first result'\n",
    "    # make request (for additional info https://tech.yandex.ru/maps/doc/geocoder/desc/concepts/input_params-docpage/)\n",
    "    string = str(string)\n",
    "    req_str = citystring(string)\n",
    "    req = urllib2.Request('https://geocode-maps.yandex.ru/1.x/?format=json&geocode={0}'.format(req_str))\n",
    "    # get data from response\n",
    "    try:\n",
    "        response = urllib2.urlopen(req)\n",
    "        page = response.read()\n",
    "        j = json.loads(page)\n",
    "\n",
    "        try:\n",
    "            city = j['response']['GeoObjectCollection']['featureMember'][0]['GeoObject']['description'].encode('utf-8')\n",
    "        except:\n",
    "            city = 'no_city'\n",
    "\n",
    "        try:\n",
    "            street = j['response']['GeoObjectCollection']['featureMember'][0]['GeoObject']['name'].encode('utf-8')\n",
    "        except:\n",
    "            street = 'no_street'\n",
    "\n",
    "        try:\n",
    "            point = j['response']['GeoObjectCollection']['featureMember'][0]['GeoObject']['Point']['pos'].encode('utf-8')\n",
    "        except:\n",
    "            point = '0.0, 0.0'\n",
    "\n",
    "        return city, street, point\n",
    "    except:\n",
    "        city = 'no_city'\n",
    "        street = 'no_street'\n",
    "        point = '0.0, 0.0'\n",
    "        return city, street, point"
   ]
  },
  {
   "cell_type": "code",
   "execution_count": null,
   "metadata": {
    "collapsed": true
   },
   "outputs": [],
   "source": [
    "#test.to_csv('new_test.csv', index=False)"
   ]
  },
  {
   "cell_type": "code",
   "execution_count": null,
   "metadata": {
    "collapsed": false
   },
   "outputs": [],
   "source": [
    "test['lat'] = [float(i.replace(',','').split(' ')[1]) for i in test.points]\n",
    "test['lon'] = [float(i.replace(',','').split(' ')[0]) for i in test.points]"
   ]
  },
  {
   "cell_type": "code",
   "execution_count": null,
   "metadata": {
    "collapsed": true
   },
   "outputs": [],
   "source": [
    "train_new = train[~train._LAT_.isnull()]"
   ]
  },
  {
   "cell_type": "code",
   "execution_count": null,
   "metadata": {
    "collapsed": false
   },
   "outputs": [],
   "source": [
    "train_new = train_new[train_new._LAT_!='None']"
   ]
  },
  {
   "cell_type": "code",
   "execution_count": null,
   "metadata": {
    "collapsed": false
   },
   "outputs": [],
   "source": [
    "train_new['lat'] = train_new._LAT_\n",
    "train_new['lon'] = train_new._LON_"
   ]
  },
  {
   "cell_type": "code",
   "execution_count": null,
   "metadata": {
    "collapsed": false
   },
   "outputs": [],
   "source": [
    "test.shape"
   ]
  },
  {
   "cell_type": "code",
   "execution_count": null,
   "metadata": {
    "collapsed": false
   },
   "outputs": [],
   "source": [
    "test._F1_U_.value_counts()"
   ]
  },
  {
   "cell_type": "code",
   "execution_count": null,
   "metadata": {
    "collapsed": false
   },
   "outputs": [],
   "source": [
    "train._TYPE_.value_counts()"
   ]
  },
  {
   "cell_type": "code",
   "execution_count": null,
   "metadata": {
    "collapsed": false
   },
   "outputs": [],
   "source": [
    "typ = []\n",
    "for i in test._F1_U_.values:\n",
    "    if i=='0' or i=='-0':\n",
    "        typ.append(0)\n",
    "    elif i=='торговое':\n",
    "        typ.append(1)\n",
    "    elif i=='офисное':\n",
    "        typ.append(2)\n",
    "    elif i=='складское':\n",
    "        typ.append(3)\n",
    "    else:\n",
    "        typ.append(-1)"
   ]
  },
  {
   "cell_type": "code",
   "execution_count": null,
   "metadata": {
    "collapsed": true
   },
   "outputs": [],
   "source": [
    "test['type'] = typ"
   ]
  },
  {
   "cell_type": "code",
   "execution_count": null,
   "metadata": {
    "collapsed": false
   },
   "outputs": [],
   "source": [
    "typ = []\n",
    "for i in train._TYPE_.values:\n",
    "    if i=='Другое' or i=='None' or i=='Отель':\n",
    "        typ.append(0)\n",
    "    elif i=='Магазин':\n",
    "        typ.append(1)\n",
    "    elif i=='Офис':\n",
    "        typ.append(2)\n",
    "    elif i=='Склад':\n",
    "        typ.append(3)\n",
    "    else:\n",
    "        typ.append(-1)"
   ]
  },
  {
   "cell_type": "code",
   "execution_count": null,
   "metadata": {
    "collapsed": true
   },
   "outputs": [],
   "source": [
    "train['type'] = typ"
   ]
  },
  {
   "cell_type": "code",
   "execution_count": null,
   "metadata": {
    "collapsed": false
   },
   "outputs": [],
   "source": [
    "area = []\n",
    "for i in test._TTL_S_.values:\n",
    "    try:\n",
    "        area.append(float(str(i).replace(',','.')))\n",
    "    except:\n",
    "        area.append(0)\n",
    "test['area'] = area"
   ]
  },
  {
   "cell_type": "code",
   "execution_count": null,
   "metadata": {
    "collapsed": false
   },
   "outputs": [],
   "source": [
    "test.head()"
   ]
  },
  {
   "cell_type": "code",
   "execution_count": null,
   "metadata": {
    "collapsed": false
   },
   "outputs": [],
   "source": [
    "train.head()"
   ]
  },
  {
   "cell_type": "code",
   "execution_count": null,
   "metadata": {
    "collapsed": false
   },
   "outputs": [],
   "source": [
    "from sklearn.ensemble import GradientBoostingRegressor\n",
    "from sklearn.cross_validation import cross_val_score"
   ]
  },
  {
   "cell_type": "code",
   "execution_count": null,
   "metadata": {
    "collapsed": false
   },
   "outputs": [],
   "source": [
    "score = []\n",
    "for i in range(3,10,1):\n",
    "    gb = GradientBoostingRegressor(n_estimators=1000, verbose=1, max_depth=i)\n",
    "    score.append(cross_val_score(gb, train_new[['area','type','lat','lon']], train_new.price.values, cv=5, n_jobs=-1,scoring=scorer).mean())\n",
    "    print(i, score)"
   ]
  },
  {
   "cell_type": "code",
   "execution_count": null,
   "metadata": {
    "collapsed": false
   },
   "outputs": [],
   "source": [
    "gb = GradientBoostingRegressor(n_estimators=1000, verbose=1, max_depth=5)\n",
    "gb.fit(train[['area','type']], train.price.values)\n",
    "vals = gb.predict(test[['area','type']])"
   ]
  },
  {
   "cell_type": "code",
   "execution_count": null,
   "metadata": {
    "collapsed": false
   },
   "outputs": [],
   "source": [
    "df = pd.DataFrame([],columns=['_ID_','_PRICE_'])"
   ]
  },
  {
   "cell_type": "code",
   "execution_count": null,
   "metadata": {
    "collapsed": false
   },
   "outputs": [],
   "source": [
    "df['_ID_'] = test._ID_.values\n",
    "df['_PRICE_'] = vals"
   ]
  },
  {
   "cell_type": "code",
   "execution_count": null,
   "metadata": {
    "collapsed": true
   },
   "outputs": [],
   "source": [
    "df.to_csv('baseline_2.csv',index=False)"
   ]
  },
  {
   "cell_type": "code",
   "execution_count": null,
   "metadata": {
    "collapsed": true
   },
   "outputs": [],
   "source": []
  }
 ],
 "metadata": {
  "anaconda-cloud": {},
  "kernelspec": {
   "display_name": "Python [conda root]",
   "language": "python",
   "name": "conda-root-py"
  },
  "language_info": {
   "codemirror_mode": {
    "name": "ipython",
    "version": 2
   },
   "file_extension": ".py",
   "mimetype": "text/x-python",
   "name": "python",
   "nbconvert_exporter": "python",
   "pygments_lexer": "ipython2",
   "version": "2.7.12"
  }
 },
 "nbformat": 4,
 "nbformat_minor": 1
}
