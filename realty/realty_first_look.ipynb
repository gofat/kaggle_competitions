{
 "cells": [
  {
   "cell_type": "code",
   "execution_count": 2,
   "metadata": {
    "collapsed": true
   },
   "outputs": [],
   "source": [
    "import pandas as pd\n",
    "import numpy as np\n",
    "import matplotlib.pyplot as plt\n",
    "%matplotlib inline"
   ]
  },
  {
   "cell_type": "code",
   "execution_count": 3,
   "metadata": {
    "collapsed": true
   },
   "outputs": [],
   "source": [
    "train = pd.read_csv('champ1_train.csv')\n",
    "test = pd.read_csv('champ1_test.csv')"
   ]
  },
  {
   "cell_type": "code",
   "execution_count": 4,
   "metadata": {
    "collapsed": false
   },
   "outputs": [
    {
     "data": {
      "text/plain": [
       "((17587, 10), (5404, 31))"
      ]
     },
     "execution_count": 4,
     "metadata": {},
     "output_type": "execute_result"
    }
   ],
   "source": [
    "train.shape, test.shape"
   ]
  },
  {
   "cell_type": "code",
   "execution_count": 5,
   "metadata": {
    "collapsed": false
   },
   "outputs": [
    {
     "data": {
      "text/html": [
       "<div>\n",
       "<table border=\"1\" class=\"dataframe\">\n",
       "  <thead>\n",
       "    <tr style=\"text-align: right;\">\n",
       "      <th></th>\n",
       "      <th>_ID_﻿</th>\n",
       "      <th>_TYPE_</th>\n",
       "      <th>_DATE_</th>\n",
       "      <th>_ADDRESS_</th>\n",
       "      <th>_PRICE_</th>\n",
       "      <th>_AREA_</th>\n",
       "      <th>_METRO</th>\n",
       "      <th>_LAT_</th>\n",
       "      <th>_LON_</th>\n",
       "      <th>_DESC_</th>\n",
       "    </tr>\n",
       "  </thead>\n",
       "  <tbody>\n",
       "    <tr>\n",
       "      <th>0</th>\n",
       "      <td>46595</td>\n",
       "      <td>Офис</td>\n",
       "      <td>10/09/2016</td>\n",
       "      <td>г.Чебоксары, ул.Ярославская, 76, Ленинский, Че...</td>\n",
       "      <td>1 100 000 РУБ.</td>\n",
       "      <td>16,1м²</td>\n",
       "      <td>NaN</td>\n",
       "      <td>56.13138</td>\n",
       "      <td>47.24982</td>\n",
       "      <td>Офис находится в административном здании, кото...</td>\n",
       "    </tr>\n",
       "    <tr>\n",
       "      <th>1</th>\n",
       "      <td>45544</td>\n",
       "      <td>Производство</td>\n",
       "      <td>15/08/2016</td>\n",
       "      <td>ул Автодромная, 21, Троицк, Челябинская область</td>\n",
       "      <td>4 200 000 РУБ.</td>\n",
       "      <td>600м²</td>\n",
       "      <td>NaN</td>\n",
       "      <td>54.0818634</td>\n",
       "      <td>61.5924759</td>\n",
       "      <td>Продам производственное помещение в районе Тро...</td>\n",
       "    </tr>\n",
       "    <tr>\n",
       "      <th>2</th>\n",
       "      <td>17472</td>\n",
       "      <td>Другое</td>\n",
       "      <td>26/08/2016</td>\n",
       "      <td>ул Дальневосточная, 151, Октябрьский, Иркутск,...</td>\n",
       "      <td>3 400 000 РУБ.</td>\n",
       "      <td>55м²</td>\n",
       "      <td>NaN</td>\n",
       "      <td>52.2538872</td>\n",
       "      <td>104.3219</td>\n",
       "      <td>ЖК Ангарские паруса, отличное помещение, с отд...</td>\n",
       "    </tr>\n",
       "    <tr>\n",
       "      <th>3</th>\n",
       "      <td>33269</td>\n",
       "      <td>Другое</td>\n",
       "      <td>30/08/2016</td>\n",
       "      <td>ул Ленина, 268в, Азов, Ростовская область</td>\n",
       "      <td>15 000 000 РУБ.</td>\n",
       "      <td>280м²</td>\n",
       "      <td>NaN</td>\n",
       "      <td>47.0912743</td>\n",
       "      <td>39.4440079</td>\n",
       "      <td>Продается здание под коммерческую деятельность...</td>\n",
       "    </tr>\n",
       "    <tr>\n",
       "      <th>4</th>\n",
       "      <td>21835</td>\n",
       "      <td>Офис</td>\n",
       "      <td>20/08/2016</td>\n",
       "      <td>пр.Репина, Прикубанский, Краснодар, Краснодарс...</td>\n",
       "      <td>750 000 РУБ.</td>\n",
       "      <td>20м²</td>\n",
       "      <td>NaN</td>\n",
       "      <td>None</td>\n",
       "      <td>None</td>\n",
       "      <td>цокольный этаж 16-ти эт. дома, квроремонт, спл...</td>\n",
       "    </tr>\n",
       "  </tbody>\n",
       "</table>\n",
       "</div>"
      ],
      "text/plain": [
       "   _ID_﻿        _TYPE_      _DATE_  \\\n",
       "0  46595          Офис  10/09/2016   \n",
       "1  45544  Производство  15/08/2016   \n",
       "2  17472        Другое  26/08/2016   \n",
       "3  33269        Другое  30/08/2016   \n",
       "4  21835          Офис  20/08/2016   \n",
       "\n",
       "                                           _ADDRESS_          _PRICE_  \\\n",
       "0  г.Чебоксары, ул.Ярославская, 76, Ленинский, Че...   1 100 000 РУБ.   \n",
       "1    ул Автодромная, 21, Троицк, Челябинская область   4 200 000 РУБ.   \n",
       "2  ул Дальневосточная, 151, Октябрьский, Иркутск,...   3 400 000 РУБ.   \n",
       "3          ул Ленина, 268в, Азов, Ростовская область  15 000 000 РУБ.   \n",
       "4  пр.Репина, Прикубанский, Краснодар, Краснодарс...     750 000 РУБ.   \n",
       "\n",
       "    _AREA_  _METRO       _LAT_       _LON_  \\\n",
       "0  16,1м²      NaN    56.13138    47.24982   \n",
       "1   600м²      NaN  54.0818634  61.5924759   \n",
       "2    55м²      NaN  52.2538872    104.3219   \n",
       "3   280м²      NaN  47.0912743  39.4440079   \n",
       "4    20м²      NaN        None        None   \n",
       "\n",
       "                                              _DESC_  \n",
       "0  Офис находится в административном здании, кото...  \n",
       "1  Продам производственное помещение в районе Тро...  \n",
       "2  ЖК Ангарские паруса, отличное помещение, с отд...  \n",
       "3  Продается здание под коммерческую деятельность...  \n",
       "4  цокольный этаж 16-ти эт. дома, квроремонт, спл...  "
      ]
     },
     "execution_count": 5,
     "metadata": {},
     "output_type": "execute_result"
    }
   ],
   "source": [
    "train.head()"
   ]
  },
  {
   "cell_type": "code",
   "execution_count": 6,
   "metadata": {
    "collapsed": false
   },
   "outputs": [
    {
     "data": {
      "text/html": [
       "<div>\n",
       "<table border=\"1\" class=\"dataframe\">\n",
       "  <thead>\n",
       "    <tr style=\"text-align: right;\">\n",
       "      <th></th>\n",
       "      <th>_ID_</th>\n",
       "      <th>_CITY_</th>\n",
       "      <th>_ADRS_</th>\n",
       "      <th>_OBJ_TYPE_</th>\n",
       "      <th>_TTL_S_</th>\n",
       "      <th>_F1_S_</th>\n",
       "      <th>_F1_U_</th>\n",
       "      <th>_FC_S_</th>\n",
       "      <th>_FC_U_</th>\n",
       "      <th>_F0_S_</th>\n",
       "      <th>...</th>\n",
       "      <th>_ROUND_</th>\n",
       "      <th>_FOOT_TRAF_</th>\n",
       "      <th>_IS_PRKNG_</th>\n",
       "      <th>_IS_WIN_</th>\n",
       "      <th>_IS_SEP_ENT_</th>\n",
       "      <th>_IS_VENT_</th>\n",
       "      <th>_DECOR_</th>\n",
       "      <th>_IS_COM_</th>\n",
       "      <th>_F1_H_</th>\n",
       "      <th>_DATE_</th>\n",
       "    </tr>\n",
       "  </thead>\n",
       "  <tbody>\n",
       "    <tr>\n",
       "      <th>0</th>\n",
       "      <td>0</td>\n",
       "      <td>г. Санкт-Петербург</td>\n",
       "      <td>1-я Красноармейская ул., д.8-10, лит.А</td>\n",
       "      <td>помещение</td>\n",
       "      <td>184,7</td>\n",
       "      <td>184,7</td>\n",
       "      <td>торговое</td>\n",
       "      <td>0</td>\n",
       "      <td>NaN</td>\n",
       "      <td>0</td>\n",
       "      <td>...</td>\n",
       "      <td>жилая застройка</td>\n",
       "      <td>очень высокий</td>\n",
       "      <td>городская парковка</td>\n",
       "      <td>да</td>\n",
       "      <td>да</td>\n",
       "      <td>центральная вентиляция</td>\n",
       "      <td>рабочее состояние</td>\n",
       "      <td>все</td>\n",
       "      <td>2,7</td>\n",
       "      <td>19.04.2016</td>\n",
       "    </tr>\n",
       "    <tr>\n",
       "      <th>1</th>\n",
       "      <td>1</td>\n",
       "      <td>г. Санкт-Петербург</td>\n",
       "      <td>пр. Просвещения, д. 54, лит. А</td>\n",
       "      <td>помещение</td>\n",
       "      <td>284,8</td>\n",
       "      <td>284,8</td>\n",
       "      <td>торговое</td>\n",
       "      <td>0</td>\n",
       "      <td>NaN</td>\n",
       "      <td>0</td>\n",
       "      <td>...</td>\n",
       "      <td>жилая застройка</td>\n",
       "      <td>низкий</td>\n",
       "      <td>нет</td>\n",
       "      <td>да</td>\n",
       "      <td>да</td>\n",
       "      <td>нет</td>\n",
       "      <td>рабочее состояние</td>\n",
       "      <td>все</td>\n",
       "      <td>3/3,1/2,95</td>\n",
       "      <td>06.04.2016</td>\n",
       "    </tr>\n",
       "    <tr>\n",
       "      <th>2</th>\n",
       "      <td>2</td>\n",
       "      <td>г. Санкт-Петербург</td>\n",
       "      <td>Кондратьевский, д. 51, корп. 1, лит. А</td>\n",
       "      <td>помещение</td>\n",
       "      <td>59,6</td>\n",
       "      <td>59,6</td>\n",
       "      <td>торговое</td>\n",
       "      <td>0</td>\n",
       "      <td>NaN</td>\n",
       "      <td>0</td>\n",
       "      <td>...</td>\n",
       "      <td>жилая застройка</td>\n",
       "      <td>средний</td>\n",
       "      <td>нет</td>\n",
       "      <td>да</td>\n",
       "      <td>да</td>\n",
       "      <td>нет</td>\n",
       "      <td>рабочее состояние</td>\n",
       "      <td>все</td>\n",
       "      <td>2,75</td>\n",
       "      <td>11.04.2016</td>\n",
       "    </tr>\n",
       "    <tr>\n",
       "      <th>3</th>\n",
       "      <td>3</td>\n",
       "      <td>г. Санкт-Петербург</td>\n",
       "      <td>ул. Лизы Чайкиной, д. 17, лит. А</td>\n",
       "      <td>помещение</td>\n",
       "      <td>186,1</td>\n",
       "      <td>90</td>\n",
       "      <td>торговое</td>\n",
       "      <td>0</td>\n",
       "      <td>NaN</td>\n",
       "      <td>96,1</td>\n",
       "      <td>...</td>\n",
       "      <td>жилая застройка</td>\n",
       "      <td>средний</td>\n",
       "      <td>нет</td>\n",
       "      <td>да</td>\n",
       "      <td>да</td>\n",
       "      <td>нет</td>\n",
       "      <td>рабочее состояние</td>\n",
       "      <td>все</td>\n",
       "      <td>1,65/3,65</td>\n",
       "      <td>11.04.2016</td>\n",
       "    </tr>\n",
       "    <tr>\n",
       "      <th>4</th>\n",
       "      <td>4</td>\n",
       "      <td>г. Санкт-Петербург</td>\n",
       "      <td>ул. Лизы Чайкиной, д. 18, лит. А</td>\n",
       "      <td>помещение</td>\n",
       "      <td>73,3</td>\n",
       "      <td>73,3</td>\n",
       "      <td>торговое</td>\n",
       "      <td>0</td>\n",
       "      <td>NaN</td>\n",
       "      <td>0</td>\n",
       "      <td>...</td>\n",
       "      <td>жилая застройка</td>\n",
       "      <td>средний</td>\n",
       "      <td>нет</td>\n",
       "      <td>нет</td>\n",
       "      <td>да</td>\n",
       "      <td>нет</td>\n",
       "      <td>рабочее состояние</td>\n",
       "      <td>все</td>\n",
       "      <td>4</td>\n",
       "      <td>11.04.2016</td>\n",
       "    </tr>\n",
       "  </tbody>\n",
       "</table>\n",
       "<p>5 rows × 31 columns</p>\n",
       "</div>"
      ],
      "text/plain": [
       "   _ID_              _CITY_                                   _ADRS_  \\\n",
       "0     0  г. Санкт-Петербург   1-я Красноармейская ул., д.8-10, лит.А   \n",
       "1     1  г. Санкт-Петербург           пр. Просвещения, д. 54, лит. А   \n",
       "2     2  г. Санкт-Петербург   Кондратьевский, д. 51, корп. 1, лит. А   \n",
       "3     3  г. Санкт-Петербург         ул. Лизы Чайкиной, д. 17, лит. А   \n",
       "4     4  г. Санкт-Петербург         ул. Лизы Чайкиной, д. 18, лит. А   \n",
       "\n",
       "  _OBJ_TYPE_ _TTL_S_ _F1_S_    _F1_U_ _FC_S_ _FC_U_ _F0_S_     ...      \\\n",
       "0  помещение   184,7  184,7  торговое      0    NaN      0     ...       \n",
       "1  помещение   284,8  284,8  торговое      0    NaN      0     ...       \n",
       "2  помещение    59,6   59,6  торговое      0    NaN      0     ...       \n",
       "3  помещение   186,1     90  торговое      0    NaN   96,1     ...       \n",
       "4  помещение    73,3   73,3  торговое      0    NaN      0     ...       \n",
       "\n",
       "           _ROUND_    _FOOT_TRAF_          _IS_PRKNG_ _IS_WIN_ _IS_SEP_ENT_  \\\n",
       "0  жилая застройка  очень высокий  городская парковка       да           да   \n",
       "1  жилая застройка         низкий                 нет       да           да   \n",
       "2  жилая застройка        средний                 нет       да           да   \n",
       "3  жилая застройка        средний                 нет       да           да   \n",
       "4  жилая застройка        средний                 нет      нет           да   \n",
       "\n",
       "                _IS_VENT_            _DECOR_ _IS_COM_      _F1_H_      _DATE_  \n",
       "0  центральная вентиляция  рабочее состояние      все         2,7  19.04.2016  \n",
       "1                     нет  рабочее состояние      все  3/3,1/2,95  06.04.2016  \n",
       "2                     нет  рабочее состояние      все        2,75  11.04.2016  \n",
       "3                     нет  рабочее состояние      все   1,65/3,65  11.04.2016  \n",
       "4                     нет  рабочее состояние      все           4  11.04.2016  \n",
       "\n",
       "[5 rows x 31 columns]"
      ]
     },
     "execution_count": 6,
     "metadata": {},
     "output_type": "execute_result"
    }
   ],
   "source": [
    "test.head()"
   ]
  },
  {
   "cell_type": "code",
   "execution_count": 20,
   "metadata": {
    "collapsed": false
   },
   "outputs": [
    {
     "data": {
      "text/html": [
       "<div>\n",
       "<table border=\"1\" class=\"dataframe\">\n",
       "  <thead>\n",
       "    <tr style=\"text-align: right;\">\n",
       "      <th></th>\n",
       "      <th>_TTL_S_</th>\n",
       "      <th>_F1_S_</th>\n",
       "      <th>_F1_U_</th>\n",
       "      <th>_FC_S_</th>\n",
       "      <th>_FC_U_</th>\n",
       "      <th>_F0_S_</th>\n",
       "      <th>_F0_U_</th>\n",
       "      <th>_FA_S_</th>\n",
       "      <th>_FA_U_</th>\n",
       "      <th>_F2_S_</th>\n",
       "      <th>_F2_U_</th>\n",
       "      <th>_F3_S_</th>\n",
       "      <th>_F3_U_</th>\n",
       "    </tr>\n",
       "  </thead>\n",
       "  <tbody>\n",
       "    <tr>\n",
       "      <th>0</th>\n",
       "      <td>184,7</td>\n",
       "      <td>184,7</td>\n",
       "      <td>торговое</td>\n",
       "      <td>0</td>\n",
       "      <td>NaN</td>\n",
       "      <td>0</td>\n",
       "      <td>NaN</td>\n",
       "      <td>0</td>\n",
       "      <td>NaN</td>\n",
       "      <td>0</td>\n",
       "      <td>NaN</td>\n",
       "      <td>0</td>\n",
       "      <td>NaN</td>\n",
       "    </tr>\n",
       "    <tr>\n",
       "      <th>1</th>\n",
       "      <td>284,8</td>\n",
       "      <td>284,8</td>\n",
       "      <td>торговое</td>\n",
       "      <td>0</td>\n",
       "      <td>NaN</td>\n",
       "      <td>0</td>\n",
       "      <td>NaN</td>\n",
       "      <td>0</td>\n",
       "      <td>NaN</td>\n",
       "      <td>0</td>\n",
       "      <td>NaN</td>\n",
       "      <td>0</td>\n",
       "      <td>NaN</td>\n",
       "    </tr>\n",
       "    <tr>\n",
       "      <th>2</th>\n",
       "      <td>59,6</td>\n",
       "      <td>59,6</td>\n",
       "      <td>торговое</td>\n",
       "      <td>0</td>\n",
       "      <td>NaN</td>\n",
       "      <td>0</td>\n",
       "      <td>NaN</td>\n",
       "      <td>0</td>\n",
       "      <td>NaN</td>\n",
       "      <td>0</td>\n",
       "      <td>NaN</td>\n",
       "      <td>0</td>\n",
       "      <td>NaN</td>\n",
       "    </tr>\n",
       "    <tr>\n",
       "      <th>3</th>\n",
       "      <td>186,1</td>\n",
       "      <td>90</td>\n",
       "      <td>торговое</td>\n",
       "      <td>0</td>\n",
       "      <td>NaN</td>\n",
       "      <td>96,1</td>\n",
       "      <td>техническое</td>\n",
       "      <td>0</td>\n",
       "      <td>NaN</td>\n",
       "      <td>0</td>\n",
       "      <td>NaN</td>\n",
       "      <td>0</td>\n",
       "      <td>NaN</td>\n",
       "    </tr>\n",
       "    <tr>\n",
       "      <th>4</th>\n",
       "      <td>73,3</td>\n",
       "      <td>73,3</td>\n",
       "      <td>торговое</td>\n",
       "      <td>0</td>\n",
       "      <td>NaN</td>\n",
       "      <td>0</td>\n",
       "      <td>NaN</td>\n",
       "      <td>0</td>\n",
       "      <td>NaN</td>\n",
       "      <td>0</td>\n",
       "      <td>NaN</td>\n",
       "      <td>0</td>\n",
       "      <td>NaN</td>\n",
       "    </tr>\n",
       "  </tbody>\n",
       "</table>\n",
       "</div>"
      ],
      "text/plain": [
       "  _TTL_S_ _F1_S_    _F1_U_ _FC_S_ _FC_U_ _F0_S_       _F0_U_ _FA_S_ _FA_U_  \\\n",
       "0   184,7  184,7  торговое      0    NaN      0          NaN      0    NaN   \n",
       "1   284,8  284,8  торговое      0    NaN      0          NaN      0    NaN   \n",
       "2    59,6   59,6  торговое      0    NaN      0          NaN      0    NaN   \n",
       "3   186,1     90  торговое      0    NaN   96,1  техническое      0    NaN   \n",
       "4    73,3   73,3  торговое      0    NaN      0          NaN      0    NaN   \n",
       "\n",
       "  _F2_S_ _F2_U_ _F3_S_ _F3_U_  \n",
       "0      0    NaN      0    NaN  \n",
       "1      0    NaN      0    NaN  \n",
       "2      0    NaN      0    NaN  \n",
       "3      0    NaN      0    NaN  \n",
       "4      0    NaN      0    NaN  "
      ]
     },
     "execution_count": 20,
     "metadata": {},
     "output_type": "execute_result"
    }
   ],
   "source": [
    "test[test.columns[4:17]].head()"
   ]
  },
  {
   "cell_type": "code",
   "execution_count": 26,
   "metadata": {
    "collapsed": false
   },
   "outputs": [
    {
     "data": {
      "text/plain": [
       "((1040, 31), (4377, 31), (4234, 31), (4601, 31), (4405, 31), (4693, 31))"
      ]
     },
     "execution_count": 26,
     "metadata": {},
     "output_type": "execute_result"
    }
   ],
   "source": [
    "test[test._F1_U_.isnull()].shape, test[test._FC_U_.isnull()].shape, test[test._F0_U_.isnull()].shape, \\\n",
    "test[test._FA_U_.isnull()].shape, test[test._F2_U_.isnull()].shape, test[test._F3_U_.isnull()].shape"
   ]
  },
  {
   "cell_type": "code",
   "execution_count": 8,
   "metadata": {
    "collapsed": false
   },
   "outputs": [
    {
     "name": "stdout",
     "output_type": "stream",
     "text": [
      "Офис\n",
      "Производство\n",
      "Другое\n",
      "Магазин\n",
      "Склад\n",
      "None\n",
      "Отель\n"
     ]
    }
   ],
   "source": [
    "for i in train._TYPE_.unique():\n",
    "    print(i)"
   ]
  },
  {
   "cell_type": "code",
   "execution_count": 10,
   "metadata": {
    "collapsed": false
   },
   "outputs": [
    {
     "data": {
      "text/plain": [
       "Другое          7173\n",
       "Магазин         4090\n",
       "Офис            2513\n",
       "Производство    2019\n",
       "Склад            800\n",
       "Отель            714\n",
       "None             278\n",
       "Name: _TYPE_, dtype: int64"
      ]
     },
     "execution_count": 10,
     "metadata": {},
     "output_type": "execute_result"
    }
   ],
   "source": [
    "train._TYPE_.value_counts()"
   ]
  },
  {
   "cell_type": "code",
   "execution_count": 27,
   "metadata": {
    "collapsed": false
   },
   "outputs": [
    {
     "data": {
      "text/plain": [
       "торговое               2997\n",
       "офисное                 931\n",
       "складское               253\n",
       "-0                      108\n",
       "техническое              55\n",
       "0                        17\n",
       "торговое/складское        1\n",
       "торговое, складское       1\n",
       "торгово-офисное           1\n",
       "Name: _F1_U_, dtype: int64"
      ]
     },
     "execution_count": 27,
     "metadata": {},
     "output_type": "execute_result"
    }
   ],
   "source": [
    "test._F1_U_.value_counts()"
   ]
  },
  {
   "cell_type": "code",
   "execution_count": null,
   "metadata": {
    "collapsed": false
   },
   "outputs": [],
   "source": [
    "for i in test._F1_U_.unique():\n",
    "    print(i)"
   ]
  },
  {
   "cell_type": "code",
   "execution_count": null,
   "metadata": {
    "collapsed": false
   },
   "outputs": [],
   "source": [
    "np.sort(test._DATE_.unique())"
   ]
  },
  {
   "cell_type": "code",
   "execution_count": null,
   "metadata": {
    "collapsed": false
   },
   "outputs": [],
   "source": [
    "train[train._LAT_!='None'].to_csv('on_map.csv',index=False)"
   ]
  },
  {
   "cell_type": "code",
   "execution_count": null,
   "metadata": {
    "collapsed": false
   },
   "outputs": [],
   "source": [
    "print(train._DESC_[1])"
   ]
  },
  {
   "cell_type": "code",
   "execution_count": null,
   "metadata": {
    "collapsed": true
   },
   "outputs": [],
   "source": []
  }
 ],
 "metadata": {
  "kernelspec": {
   "display_name": "Python [default]",
   "language": "python",
   "name": "python2"
  },
  "language_info": {
   "codemirror_mode": {
    "name": "ipython",
    "version": 2
   },
   "file_extension": ".py",
   "mimetype": "text/x-python",
   "name": "python",
   "nbconvert_exporter": "python",
   "pygments_lexer": "ipython2",
   "version": "2.7.12"
  }
 },
 "nbformat": 4,
 "nbformat_minor": 0
}
