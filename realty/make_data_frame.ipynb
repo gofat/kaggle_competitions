{
 "cells": [
  {
   "cell_type": "code",
   "execution_count": 1,
   "metadata": {
    "collapsed": true
   },
   "outputs": [],
   "source": [
    "import pandas as pd"
   ]
  },
  {
   "cell_type": "code",
   "execution_count": 2,
   "metadata": {
    "collapsed": true
   },
   "outputs": [],
   "source": [
    "reg = pd.read_csv('regions_res_all.csv')\n",
    "spb = pd.read_csv('spb_res_all.csv')\n",
    "msk = pd.read_csv('msk_res_all.csv')"
   ]
  },
  {
   "cell_type": "code",
   "execution_count": 3,
   "metadata": {
    "collapsed": false
   },
   "outputs": [],
   "source": [
    "rl = pd.read_csv('Regional_links.csv')\n",
    "sl = pd.read_csv('SPB_links.csv')\n",
    "ml = pd.read_csv('Moscow_links.csv')"
   ]
  },
  {
   "cell_type": "code",
   "execution_count": 4,
   "metadata": {
    "collapsed": false
   },
   "outputs": [],
   "source": [
    "reg = pd.merge(reg,rl.drop_duplicates(subset=['link']),how='left',on='link')"
   ]
  },
  {
   "cell_type": "code",
   "execution_count": 5,
   "metadata": {
    "collapsed": false
   },
   "outputs": [],
   "source": [
    "spb = pd.merge(spb,sl.drop_duplicates(subset=['link']),how='left',on='link')"
   ]
  },
  {
   "cell_type": "code",
   "execution_count": 6,
   "metadata": {
    "collapsed": true
   },
   "outputs": [],
   "source": [
    "msk = pd.merge(msk,ml.drop_duplicates(subset=['link']),how='left',on='link')"
   ]
  },
  {
   "cell_type": "code",
   "execution_count": 7,
   "metadata": {
    "collapsed": false
   },
   "outputs": [],
   "source": [
    "train_data = pd.concat([reg,spb,msk])"
   ]
  },
  {
   "cell_type": "code",
   "execution_count": 8,
   "metadata": {
    "collapsed": false
   },
   "outputs": [],
   "source": [
    "train_data = train_data.reset_index()"
   ]
  },
  {
   "cell_type": "code",
   "execution_count": 9,
   "metadata": {
    "collapsed": false
   },
   "outputs": [
    {
     "data": {
      "text/html": [
       "<div>\n",
       "<table border=\"1\" class=\"dataframe\">\n",
       "  <thead>\n",
       "    <tr style=\"text-align: right;\">\n",
       "      <th></th>\n",
       "      <th>index</th>\n",
       "      <th>link</th>\n",
       "      <th>feature</th>\n",
       "      <th>value</th>\n",
       "      <th>region</th>\n",
       "      <th>type</th>\n",
       "    </tr>\n",
       "  </thead>\n",
       "  <tbody>\n",
       "    <tr>\n",
       "      <th>0</th>\n",
       "      <td>0</td>\n",
       "      <td>http://www.cian.ru/sale/commercial/13973069/</td>\n",
       "      <td>price</td>\n",
       "      <td>4000000,0</td>\n",
       "      <td>4553</td>\n",
       "      <td>0</td>\n",
       "    </tr>\n",
       "    <tr>\n",
       "      <th>1</th>\n",
       "      <td>1</td>\n",
       "      <td>http://www.cian.ru/sale/commercial/13973069/</td>\n",
       "      <td>desc</td>\n",
       "      <td>готовый бизнес. сауна, бильярд, магазин, кафе....</td>\n",
       "      <td>4553</td>\n",
       "      <td>0</td>\n",
       "    </tr>\n",
       "    <tr>\n",
       "      <th>2</th>\n",
       "      <td>2</td>\n",
       "      <td>http://www.cian.ru/sale/commercial/13973069/</td>\n",
       "      <td>coordinates</td>\n",
       "      <td>44.515774,40.1761</td>\n",
       "      <td>4553</td>\n",
       "      <td>0</td>\n",
       "    </tr>\n",
       "    <tr>\n",
       "      <th>3</th>\n",
       "      <td>3</td>\n",
       "      <td>http://www.cian.ru/sale/commercial/13973069/</td>\n",
       "      <td>Тип здания:</td>\n",
       "      <td>административное здание</td>\n",
       "      <td>4553</td>\n",
       "      <td>0</td>\n",
       "    </tr>\n",
       "    <tr>\n",
       "      <th>4</th>\n",
       "      <td>4</td>\n",
       "      <td>http://www.cian.ru/sale/commercial/13973069/</td>\n",
       "      <td>Общая площадь:</td>\n",
       "      <td>200 м²</td>\n",
       "      <td>4553</td>\n",
       "      <td>0</td>\n",
       "    </tr>\n",
       "  </tbody>\n",
       "</table>\n",
       "</div>"
      ],
      "text/plain": [
       "   index                                          link         feature  \\\n",
       "0      0  http://www.cian.ru/sale/commercial/13973069/           price   \n",
       "1      1  http://www.cian.ru/sale/commercial/13973069/            desc   \n",
       "2      2  http://www.cian.ru/sale/commercial/13973069/     coordinates   \n",
       "3      3  http://www.cian.ru/sale/commercial/13973069/     Тип здания:   \n",
       "4      4  http://www.cian.ru/sale/commercial/13973069/  Общая площадь:   \n",
       "\n",
       "                                               value  region  type  \n",
       "0                                          4000000,0    4553     0  \n",
       "1  готовый бизнес. сауна, бильярд, магазин, кафе....    4553     0  \n",
       "2                                  44.515774,40.1761    4553     0  \n",
       "3                            административное здание    4553     0  \n",
       "4                                             200 м²    4553     0  "
      ]
     },
     "execution_count": 9,
     "metadata": {},
     "output_type": "execute_result"
    }
   ],
   "source": [
    "train_data.head()"
   ]
  },
  {
   "cell_type": "code",
   "execution_count": 10,
   "metadata": {
    "collapsed": false
   },
   "outputs": [
    {
     "data": {
      "text/plain": [
       "50"
      ]
     },
     "execution_count": 10,
     "metadata": {},
     "output_type": "execute_result"
    }
   ],
   "source": [
    "train_data.feature.nunique()"
   ]
  },
  {
   "cell_type": "code",
   "execution_count": 11,
   "metadata": {
    "collapsed": false
   },
   "outputs": [
    {
     "data": {
      "text/plain": [
       "desc                        16567\n",
       "coordinates                 16567\n",
       "price                       16567\n",
       "Общая площадь:              14328\n",
       "Площадь:                    13545\n",
       "Этаж:                       12170\n",
       "Тип здания:                  9710\n",
       "Категория:                   5955\n",
       "Участок:                     5544\n",
       "Состояние:                   4606\n",
       "Вход:                        3748\n",
       "Высота потолков:             3473\n",
       "Этажей в здании:             2960\n",
       "Специализация помещения:     2761\n",
       "Отопление:                   2060\n",
       "Вентиляция:                  1808\n",
       "Помещение:                   1762\n",
       "Мебель:                      1669\n",
       "Кондиционирование:           1485\n",
       "Система пожаротушения:       1370\n",
       "Класс:                       1322\n",
       "Тип помещения:                973\n",
       "Год постройки:                877\n",
       "Доступ:                       790\n",
       "Парковка:                     681\n",
       "Линия домов:                  657\n",
       "Планировка:                   522\n",
       "Лифты:                        231\n",
       "Количество мест:              180\n",
       "Дни работы:                   150\n",
       "Управляющая компания:         143\n",
       "Часы работы:                  120\n",
       "Девелопер:                    115\n",
       "Срок аренды:                  104\n",
       "Ворота:                       104\n",
       "Стоимость:                     48\n",
       "Тип недвижимости:              32\n",
       "Сфера деятельности:            27\n",
       "Арендаторы:                    24\n",
       "Дополнительные услуги:         23\n",
       "Крановое оборуд-е:             20\n",
       "Сетка колонн:                  19\n",
       "Эскалаторы:                    18\n",
       "Тип:                           18\n",
       "Оборудование:                  17\n",
       "Статус:                        12\n",
       "Тип гаража:                     9\n",
       "Тип парковки:                   5\n",
       "Название ГСК:                   5\n",
       "Траволаторы:                    4\n",
       "Name: feature, dtype: int64"
      ]
     },
     "execution_count": 11,
     "metadata": {},
     "output_type": "execute_result"
    }
   ],
   "source": [
    "train_data.feature.value_counts()"
   ]
  },
  {
   "cell_type": "code",
   "execution_count": 12,
   "metadata": {
    "collapsed": false
   },
   "outputs": [],
   "source": [
    "table = train_data[['link','feature','value']].pivot_table(index='link',columns='feature',values='value',aggfunc = lambda x: \" \".join([str(y) for y in x]))"
   ]
  },
  {
   "cell_type": "code",
   "execution_count": 13,
   "metadata": {
    "collapsed": false
   },
   "outputs": [],
   "source": [
    "table['link'] = table.index"
   ]
  },
  {
   "cell_type": "code",
   "execution_count": 19,
   "metadata": {
    "collapsed": false
   },
   "outputs": [],
   "source": [
    "pd.merge(table,train_data[['link','region','type']].drop_duplicates(subset=['link']),how='left',on='link').to_csv('train_parsed.csv',index=False)"
   ]
  },
  {
   "cell_type": "code",
   "execution_count": null,
   "metadata": {
    "collapsed": true
   },
   "outputs": [],
   "source": []
  }
 ],
 "metadata": {
  "anaconda-cloud": {},
  "kernelspec": {
   "display_name": "Python [conda root]",
   "language": "python",
   "name": "conda-root-py"
  },
  "language_info": {
   "codemirror_mode": {
    "name": "ipython",
    "version": 2
   },
   "file_extension": ".py",
   "mimetype": "text/x-python",
   "name": "python",
   "nbconvert_exporter": "python",
   "pygments_lexer": "ipython2",
   "version": "2.7.12"
  }
 },
 "nbformat": 4,
 "nbformat_minor": 1
}
