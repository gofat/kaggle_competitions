{
 "cells": [
  {
   "cell_type": "code",
   "execution_count": 2,
   "metadata": {
    "collapsed": true
   },
   "outputs": [],
   "source": [
    "import pandas as pd\n",
    "import numpy as np\n",
    "import urllib2\n",
    "from bs4 import BeautifulSoup\n",
    "import re"
   ]
  },
  {
   "cell_type": "code",
   "execution_count": 3,
   "metadata": {
    "collapsed": false
   },
   "outputs": [],
   "source": [
    "df = pd.read_csv('Regional_links.csv')"
   ]
  },
  {
   "cell_type": "code",
   "execution_count": 4,
   "metadata": {
    "collapsed": false
   },
   "outputs": [
    {
     "data": {
      "text/html": [
       "<div>\n",
       "<table border=\"1\" class=\"dataframe\">\n",
       "  <thead>\n",
       "    <tr style=\"text-align: right;\">\n",
       "      <th></th>\n",
       "      <th>region</th>\n",
       "      <th>type</th>\n",
       "      <th>link</th>\n",
       "    </tr>\n",
       "  </thead>\n",
       "  <tbody>\n",
       "    <tr>\n",
       "      <th>0</th>\n",
       "      <td>4553</td>\n",
       "      <td>0</td>\n",
       "      <td>http://www.cian.ru/sale/commercial/13973069/</td>\n",
       "    </tr>\n",
       "    <tr>\n",
       "      <th>1</th>\n",
       "      <td>4553</td>\n",
       "      <td>0</td>\n",
       "      <td>http://www.cian.ru/sale/commercial/14031534/</td>\n",
       "    </tr>\n",
       "    <tr>\n",
       "      <th>2</th>\n",
       "      <td>4553</td>\n",
       "      <td>0</td>\n",
       "      <td>http://www.cian.ru/sale/commercial/151524952/</td>\n",
       "    </tr>\n",
       "    <tr>\n",
       "      <th>3</th>\n",
       "      <td>4553</td>\n",
       "      <td>1</td>\n",
       "      <td>http://www.cian.ru/sale/commercial/149933741/</td>\n",
       "    </tr>\n",
       "    <tr>\n",
       "      <th>4</th>\n",
       "      <td>4553</td>\n",
       "      <td>1</td>\n",
       "      <td>http://www.cian.ru/sale/commercial/8978344/</td>\n",
       "    </tr>\n",
       "  </tbody>\n",
       "</table>\n",
       "</div>"
      ],
      "text/plain": [
       "   region  type                                           link\n",
       "0    4553     0   http://www.cian.ru/sale/commercial/13973069/\n",
       "1    4553     0   http://www.cian.ru/sale/commercial/14031534/\n",
       "2    4553     0  http://www.cian.ru/sale/commercial/151524952/\n",
       "3    4553     1  http://www.cian.ru/sale/commercial/149933741/\n",
       "4    4553     1    http://www.cian.ru/sale/commercial/8978344/"
      ]
     },
     "execution_count": 4,
     "metadata": {},
     "output_type": "execute_result"
    }
   ],
   "source": [
    "df.head()"
   ]
  },
  {
   "cell_type": "code",
   "execution_count": 11,
   "metadata": {
    "collapsed": true
   },
   "outputs": [],
   "source": [
    "def parse_page(page=''):\n",
    "    # parse pages for data\n",
    "    try:\n",
    "        req = urllib2.Request(page)\n",
    "        response = urllib2.urlopen(req)\n",
    "        the_page = response.read()\n",
    "        bs = BeautifulSoup(the_page, 'html.parser')\n",
    "        print('page',page,'works fine')\n",
    "        return bs\n",
    "    except:\n",
    "        print('something goes wrong at',page)"
   ]
  },
  {
   "cell_type": "code",
   "execution_count": null,
   "metadata": {
    "collapsed": false
   },
   "outputs": [
    {
     "name": "stdout",
     "output_type": "stream",
     "text": [
      "('page', 'http://www.cian.ru/sale/commercial/13973069/', 'works fine')\n",
      "('page', 'http://www.cian.ru/sale/commercial/14031534/', 'works fine')\n",
      "('page', 'http://www.cian.ru/sale/commercial/151524952/', 'works fine')\n"
     ]
    }
   ],
   "source": [
    "%%time\n",
    "reg = re.compile('\\\"center\\\": \\[([0-9\\.]+)\\, ([0-9\\.]+)\\]')\n",
    "result = []\n",
    "for number,link in enumerate(list(df.link.unique())):\n",
    "    if number%1000==0 and number!=0:\n",
    "        pd.DataFrame(result).to_csv('regions_res{}.csv'.format(number),index=False,encoding='utf8')\n",
    "    try:\n",
    "        bs = parse_page(page=link)\n",
    "\n",
    "        for i in bs.find_all('meta', attrs={'itemprop':'price'}):\n",
    "            #price = i.attrs['content']\n",
    "            result.append([link, 'price', i.attrs['content']])\n",
    "        for i in bs.find_all('meta', attrs={'property':'og:description'}):\n",
    "            #desc = i.attrs['content']\n",
    "            result.append([link, 'desc', i.attrs['content']])\n",
    "        for i in bs.find_all('script'):\n",
    "            k = reg.search(i.text)\n",
    "            if k:\n",
    "                result.append([link, 'coordinates', str(k.group(1))+','+str(k.group(2))])\n",
    "\n",
    "        name = []\n",
    "        value = []    \n",
    "        for i in bs.find_all('dt'):\n",
    "            name.append(i.text.encode('utf8').strip())  \n",
    "        for i in bs.find_all('dd'):\n",
    "            value.append(i.text.encode('utf8').strip())\n",
    "        for n,i in enumerate(name):\n",
    "            result.append([link,i,value[n]])\n",
    "    except:\n",
    "        pass"
   ]
  },
  {
   "cell_type": "code",
   "execution_count": null,
   "metadata": {
    "collapsed": false
   },
   "outputs": [],
   "source": [
    "pd.DataFrame(result,columns=['link','feature','value']).to_csv('regions_res_all.csv',index=False,encoding='utf8')"
   ]
  },
  {
   "cell_type": "code",
   "execution_count": 89,
   "metadata": {
    "collapsed": false
   },
   "outputs": [
    {
     "name": "stdout",
     "output_type": "stream",
     "text": [
      "9300000,0\n",
      "Wall time: 34 ms\n"
     ]
    }
   ],
   "source": [
    "%%time\n",
    "for i in bs.find_all('meta', attrs={'itemprop':'price'}):\n",
    "    print i.attrs['content']"
   ]
  },
  {
   "cell_type": "code",
   "execution_count": 88,
   "metadata": {
    "collapsed": false
   },
   "outputs": [
    {
     "name": "stdout",
     "output_type": "stream",
     "text": [
      "Предлагаю к продаже помещение свободного назначения на 1 этаже жилого дома (первая линия, отдельный вход со двора), находящемся по адресу: Москва, улица Люблинская, дом 127/1. <br />Помещение идеально подходит под размещение магазина (в том числе получение алкогольной лицензии), салона красоты или детского развивающего центра. Помещение имеет центральные коммуникации, включая энергоснабжение, отопление, холодную воду, канализацию, МГТС. Помещение оборудовано стеклопакетами и электрическими жалюзи. Хорошее состояние, высокие потолки (более 4 метров), свежий ремонт, готовность к въезду. Кабинетная система. Возможность перепланировки и объединения в общий зал с организацией дополнительного входа. Дом находится в плотном секторе жилой застройки, обеспечивая хорошую транспортную и пешеходную доступность.\n",
      "Wall time: 31 ms\n"
     ]
    }
   ],
   "source": [
    "%%time\n",
    "for i in bs.find_all('meta', attrs={'property':'og:description'}):\n",
    "    print i.attrs['content']"
   ]
  },
  {
   "cell_type": "code",
   "execution_count": 96,
   "metadata": {
    "collapsed": false
   },
   "outputs": [
    {
     "name": "stdout",
     "output_type": "stream",
     "text": [
      "Площадь:\n",
      "Этаж:\n",
      "Высота потолков:\n",
      "Помещение:\n",
      "Специализация помещения:\n",
      "Состояние:\n",
      "Тип здания:\n",
      "Общая площадь:\n",
      "Участок:\n",
      "Категория:\n",
      "Вентиляция:\n",
      "Кондиционирование:\n",
      "Отопление:\n",
      "Система пожаротушения:\n",
      "74 м²\n",
      "1 из 6\n",
      "4 м\n",
      "свободно\n",
      "бытовые услуги, \n",
      "         \n",
      "      \n",
      "        \n",
      "          кальянная, \n",
      "         \n",
      "      \n",
      "        \n",
      "          клуб, \n",
      "         \n",
      "      \n",
      "        \n",
      "          коммерцию, \n",
      "         \n",
      "      \n",
      "        \n",
      "          магазин, \n",
      "         \n",
      "      \n",
      "        \n",
      "          продукты, \n",
      "         \n",
      "      \n",
      "        \n",
      "          салон красоты, \n",
      "         \n",
      "      \n",
      "        \n",
      "          стоматология\n",
      "типовой ремонт\n",
      "жилой дом\n",
      "74,4 м²\n",
      "в собственности\n",
      "действующий\n",
      "нет\n",
      "нет\n",
      "центральное\n",
      "нет\n",
      "Wall time: 5 ms\n"
     ]
    }
   ],
   "source": [
    "%%time\n",
    "for i in bs.find_all('dt'):\n",
    "    print i.text.encode('utf8').strip()  \n",
    "for i in bs.find_all('dd'):\n",
    "    print i.text.encode('utf8').strip()                       "
   ]
  },
  {
   "cell_type": "code",
   "execution_count": 70,
   "metadata": {
    "collapsed": false
   },
   "outputs": [],
   "source": [
    "#reg = re.compile('\\\"center\\\": \\[*\\]')\n",
    "reg = re.compile('\\\"center\\\": \\[([0-9\\.]+)\\, ([0-9\\.]+)\\]')"
   ]
  },
  {
   "cell_type": "code",
   "execution_count": 75,
   "metadata": {
    "collapsed": false
   },
   "outputs": [
    {
     "name": "stdout",
     "output_type": "stream",
     "text": [
      "55.672818 37.740228\n",
      "Wall time: 5 ms\n"
     ]
    }
   ],
   "source": [
    "%%time\n",
    "for i in bs.find_all('script'):\n",
    "    k = reg.search(i.text)\n",
    "    if k:\n",
    "        print k.group(1),k.group(2)"
   ]
  },
  {
   "cell_type": "code",
   "execution_count": null,
   "metadata": {
    "collapsed": true
   },
   "outputs": [],
   "source": []
  }
 ],
 "metadata": {
  "anaconda-cloud": {},
  "kernelspec": {
   "display_name": "Python [default]",
   "language": "python",
   "name": "python2"
  },
  "language_info": {
   "codemirror_mode": {
    "name": "ipython",
    "version": 2
   },
   "file_extension": ".py",
   "mimetype": "text/x-python",
   "name": "python",
   "nbconvert_exporter": "python",
   "pygments_lexer": "ipython2",
   "version": "2.7.12"
  }
 },
 "nbformat": 4,
 "nbformat_minor": 0
}
