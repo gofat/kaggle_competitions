{
 "cells": [
  {
   "cell_type": "code",
   "execution_count": 1,
   "metadata": {
    "collapsed": true
   },
   "outputs": [],
   "source": [
    "%matplotlib inline\n",
    "import matplotlib\n",
    "import pandas as pd\n",
    "import matplotlib.pyplot as plt\n",
    "import numpy as np"
   ]
  },
  {
   "cell_type": "code",
   "execution_count": 2,
   "metadata": {
    "collapsed": false
   },
   "outputs": [
    {
     "name": "stdout",
     "output_type": "stream",
     "text": [
      "6105 111 110\n"
     ]
    }
   ],
   "source": [
    "n_iter = 0\n",
    "for i in xrange(112):\n",
    "    for j in xrange(i+1,111):\n",
    "        n_iter += 1\n",
    "print n_iter, i, j"
   ]
  },
  {
   "cell_type": "markdown",
   "metadata": {},
   "source": [
    "# Градиентынй бустинг \"в лоб\"\n",
    "\n",
    "В этой части работы решение получается с помощью градиентного бустинга."
   ]
  },
  {
   "cell_type": "code",
   "execution_count": 3,
   "metadata": {
    "collapsed": false
   },
   "outputs": [],
   "source": [
    "features = pd.read_csv('dota_train.csv')#считывание файла features\n",
    "features_test = pd.read_csv('dota_test.csv')#считывание test_features"
   ]
  },
  {
   "cell_type": "code",
   "execution_count": 4,
   "metadata": {
    "collapsed": false
   },
   "outputs": [
    {
     "data": {
      "text/html": [
       "<div>\n",
       "<table border=\"1\" class=\"dataframe\">\n",
       "  <thead>\n",
       "    <tr style=\"text-align: right;\">\n",
       "      <th></th>\n",
       "      <th>match_id</th>\n",
       "      <th>start_time</th>\n",
       "      <th>lobby_type</th>\n",
       "      <th>r1_hero</th>\n",
       "      <th>r1_level_0</th>\n",
       "      <th>r1_xp_0</th>\n",
       "      <th>r1_gold_0</th>\n",
       "      <th>r1_lh_0</th>\n",
       "      <th>r1_kills_0</th>\n",
       "      <th>r1_deaths_0</th>\n",
       "      <th>...</th>\n",
       "      <th>dire_boots_count</th>\n",
       "      <th>dire_ward_observer_count</th>\n",
       "      <th>dire_ward_sentry_count</th>\n",
       "      <th>dire_first_ward_time</th>\n",
       "      <th>duration</th>\n",
       "      <th>radiant_win</th>\n",
       "      <th>tower_status_radiant</th>\n",
       "      <th>tower_status_dire</th>\n",
       "      <th>barracks_status_radiant</th>\n",
       "      <th>barracks_status_dire</th>\n",
       "    </tr>\n",
       "  </thead>\n",
       "  <tbody>\n",
       "    <tr>\n",
       "      <th>0</th>\n",
       "      <td>0</td>\n",
       "      <td>1430198770</td>\n",
       "      <td>7</td>\n",
       "      <td>11</td>\n",
       "      <td>0</td>\n",
       "      <td>0</td>\n",
       "      <td>0</td>\n",
       "      <td>0</td>\n",
       "      <td>0</td>\n",
       "      <td>0</td>\n",
       "      <td>...</td>\n",
       "      <td>4</td>\n",
       "      <td>2</td>\n",
       "      <td>2</td>\n",
       "      <td>-52</td>\n",
       "      <td>2874</td>\n",
       "      <td>1</td>\n",
       "      <td>1796</td>\n",
       "      <td>0</td>\n",
       "      <td>51</td>\n",
       "      <td>0</td>\n",
       "    </tr>\n",
       "    <tr>\n",
       "      <th>1</th>\n",
       "      <td>1</td>\n",
       "      <td>1430220345</td>\n",
       "      <td>0</td>\n",
       "      <td>42</td>\n",
       "      <td>1</td>\n",
       "      <td>0</td>\n",
       "      <td>0</td>\n",
       "      <td>0</td>\n",
       "      <td>0</td>\n",
       "      <td>0</td>\n",
       "      <td>...</td>\n",
       "      <td>4</td>\n",
       "      <td>3</td>\n",
       "      <td>1</td>\n",
       "      <td>-5</td>\n",
       "      <td>2463</td>\n",
       "      <td>1</td>\n",
       "      <td>1974</td>\n",
       "      <td>0</td>\n",
       "      <td>63</td>\n",
       "      <td>1</td>\n",
       "    </tr>\n",
       "    <tr>\n",
       "      <th>2</th>\n",
       "      <td>2</td>\n",
       "      <td>1430227081</td>\n",
       "      <td>7</td>\n",
       "      <td>33</td>\n",
       "      <td>0</td>\n",
       "      <td>0</td>\n",
       "      <td>0</td>\n",
       "      <td>0</td>\n",
       "      <td>0</td>\n",
       "      <td>0</td>\n",
       "      <td>...</td>\n",
       "      <td>4</td>\n",
       "      <td>3</td>\n",
       "      <td>1</td>\n",
       "      <td>13</td>\n",
       "      <td>2130</td>\n",
       "      <td>0</td>\n",
       "      <td>0</td>\n",
       "      <td>1830</td>\n",
       "      <td>0</td>\n",
       "      <td>63</td>\n",
       "    </tr>\n",
       "    <tr>\n",
       "      <th>3</th>\n",
       "      <td>3</td>\n",
       "      <td>1430263531</td>\n",
       "      <td>1</td>\n",
       "      <td>29</td>\n",
       "      <td>0</td>\n",
       "      <td>0</td>\n",
       "      <td>0</td>\n",
       "      <td>0</td>\n",
       "      <td>0</td>\n",
       "      <td>0</td>\n",
       "      <td>...</td>\n",
       "      <td>4</td>\n",
       "      <td>2</td>\n",
       "      <td>0</td>\n",
       "      <td>27</td>\n",
       "      <td>1459</td>\n",
       "      <td>0</td>\n",
       "      <td>1920</td>\n",
       "      <td>2047</td>\n",
       "      <td>50</td>\n",
       "      <td>63</td>\n",
       "    </tr>\n",
       "    <tr>\n",
       "      <th>4</th>\n",
       "      <td>4</td>\n",
       "      <td>1430282290</td>\n",
       "      <td>7</td>\n",
       "      <td>13</td>\n",
       "      <td>1</td>\n",
       "      <td>0</td>\n",
       "      <td>0</td>\n",
       "      <td>0</td>\n",
       "      <td>0</td>\n",
       "      <td>0</td>\n",
       "      <td>...</td>\n",
       "      <td>3</td>\n",
       "      <td>3</td>\n",
       "      <td>0</td>\n",
       "      <td>-16</td>\n",
       "      <td>2449</td>\n",
       "      <td>0</td>\n",
       "      <td>4</td>\n",
       "      <td>1974</td>\n",
       "      <td>3</td>\n",
       "      <td>63</td>\n",
       "    </tr>\n",
       "  </tbody>\n",
       "</table>\n",
       "<p>5 rows × 459 columns</p>\n",
       "</div>"
      ],
      "text/plain": [
       "   match_id  start_time  lobby_type  r1_hero  r1_level_0  r1_xp_0  r1_gold_0  \\\n",
       "0         0  1430198770           7       11           0        0          0   \n",
       "1         1  1430220345           0       42           1        0          0   \n",
       "2         2  1430227081           7       33           0        0          0   \n",
       "3         3  1430263531           1       29           0        0          0   \n",
       "4         4  1430282290           7       13           1        0          0   \n",
       "\n",
       "   r1_lh_0  r1_kills_0  r1_deaths_0          ...           dire_boots_count  \\\n",
       "0        0           0            0          ...                          4   \n",
       "1        0           0            0          ...                          4   \n",
       "2        0           0            0          ...                          4   \n",
       "3        0           0            0          ...                          4   \n",
       "4        0           0            0          ...                          3   \n",
       "\n",
       "   dire_ward_observer_count  dire_ward_sentry_count  dire_first_ward_time  \\\n",
       "0                         2                       2                   -52   \n",
       "1                         3                       1                    -5   \n",
       "2                         3                       1                    13   \n",
       "3                         2                       0                    27   \n",
       "4                         3                       0                   -16   \n",
       "\n",
       "   duration  radiant_win  tower_status_radiant  tower_status_dire  \\\n",
       "0      2874            1                  1796                  0   \n",
       "1      2463            1                  1974                  0   \n",
       "2      2130            0                     0               1830   \n",
       "3      1459            0                  1920               2047   \n",
       "4      2449            0                     4               1974   \n",
       "\n",
       "   barracks_status_radiant  barracks_status_dire  \n",
       "0                       51                     0  \n",
       "1                       63                     1  \n",
       "2                        0                    63  \n",
       "3                       50                    63  \n",
       "4                        3                    63  \n",
       "\n",
       "[5 rows x 459 columns]"
      ]
     },
     "execution_count": 4,
     "metadata": {},
     "output_type": "execute_result"
    }
   ],
   "source": [
    "features.head()#топ строк для просмотра структуры"
   ]
  },
  {
   "cell_type": "code",
   "execution_count": 5,
   "metadata": {
    "collapsed": false
   },
   "outputs": [
    {
     "data": {
      "text/html": [
       "<div>\n",
       "<table border=\"1\" class=\"dataframe\">\n",
       "  <thead>\n",
       "    <tr style=\"text-align: right;\">\n",
       "      <th></th>\n",
       "      <th>match_id</th>\n",
       "      <th>start_time</th>\n",
       "      <th>lobby_type</th>\n",
       "      <th>r1_hero</th>\n",
       "      <th>r1_level_0</th>\n",
       "      <th>r1_xp_0</th>\n",
       "      <th>r1_gold_0</th>\n",
       "      <th>r1_lh_0</th>\n",
       "      <th>r1_kills_0</th>\n",
       "      <th>r1_deaths_0</th>\n",
       "      <th>...</th>\n",
       "      <th>radiant_ward_sentry_count</th>\n",
       "      <th>radiant_first_ward_time</th>\n",
       "      <th>dire_bottle_time</th>\n",
       "      <th>dire_courier_time</th>\n",
       "      <th>dire_flying_courier_time</th>\n",
       "      <th>dire_tpscroll_count</th>\n",
       "      <th>dire_boots_count</th>\n",
       "      <th>dire_ward_observer_count</th>\n",
       "      <th>dire_ward_sentry_count</th>\n",
       "      <th>dire_first_ward_time</th>\n",
       "    </tr>\n",
       "  </thead>\n",
       "  <tbody>\n",
       "    <tr>\n",
       "      <th>0</th>\n",
       "      <td>6</td>\n",
       "      <td>1430287923</td>\n",
       "      <td>0</td>\n",
       "      <td>93</td>\n",
       "      <td>0</td>\n",
       "      <td>0</td>\n",
       "      <td>0</td>\n",
       "      <td>0</td>\n",
       "      <td>0</td>\n",
       "      <td>0</td>\n",
       "      <td>...</td>\n",
       "      <td>0</td>\n",
       "      <td>12</td>\n",
       "      <td>247</td>\n",
       "      <td>-86</td>\n",
       "      <td>272</td>\n",
       "      <td>3</td>\n",
       "      <td>4</td>\n",
       "      <td>2</td>\n",
       "      <td>0</td>\n",
       "      <td>118</td>\n",
       "    </tr>\n",
       "    <tr>\n",
       "      <th>1</th>\n",
       "      <td>7</td>\n",
       "      <td>1430293357</td>\n",
       "      <td>1</td>\n",
       "      <td>20</td>\n",
       "      <td>1</td>\n",
       "      <td>0</td>\n",
       "      <td>0</td>\n",
       "      <td>0</td>\n",
       "      <td>0</td>\n",
       "      <td>0</td>\n",
       "      <td>...</td>\n",
       "      <td>2</td>\n",
       "      <td>-29</td>\n",
       "      <td>168</td>\n",
       "      <td>-54</td>\n",
       "      <td>NaN</td>\n",
       "      <td>3</td>\n",
       "      <td>2</td>\n",
       "      <td>2</td>\n",
       "      <td>1</td>\n",
       "      <td>16</td>\n",
       "    </tr>\n",
       "    <tr>\n",
       "      <th>2</th>\n",
       "      <td>10</td>\n",
       "      <td>1430301774</td>\n",
       "      <td>1</td>\n",
       "      <td>112</td>\n",
       "      <td>0</td>\n",
       "      <td>25</td>\n",
       "      <td>50</td>\n",
       "      <td>1</td>\n",
       "      <td>0</td>\n",
       "      <td>0</td>\n",
       "      <td>...</td>\n",
       "      <td>1</td>\n",
       "      <td>-22</td>\n",
       "      <td>46</td>\n",
       "      <td>-87</td>\n",
       "      <td>186</td>\n",
       "      <td>1</td>\n",
       "      <td>3</td>\n",
       "      <td>3</td>\n",
       "      <td>0</td>\n",
       "      <td>-34</td>\n",
       "    </tr>\n",
       "    <tr>\n",
       "      <th>3</th>\n",
       "      <td>13</td>\n",
       "      <td>1430323933</td>\n",
       "      <td>1</td>\n",
       "      <td>27</td>\n",
       "      <td>0</td>\n",
       "      <td>0</td>\n",
       "      <td>0</td>\n",
       "      <td>0</td>\n",
       "      <td>0</td>\n",
       "      <td>0</td>\n",
       "      <td>...</td>\n",
       "      <td>2</td>\n",
       "      <td>-49</td>\n",
       "      <td>30</td>\n",
       "      <td>-89</td>\n",
       "      <td>210</td>\n",
       "      <td>3</td>\n",
       "      <td>4</td>\n",
       "      <td>2</td>\n",
       "      <td>1</td>\n",
       "      <td>-26</td>\n",
       "    </tr>\n",
       "    <tr>\n",
       "      <th>4</th>\n",
       "      <td>16</td>\n",
       "      <td>1430331112</td>\n",
       "      <td>1</td>\n",
       "      <td>39</td>\n",
       "      <td>0</td>\n",
       "      <td>0</td>\n",
       "      <td>0</td>\n",
       "      <td>0</td>\n",
       "      <td>0</td>\n",
       "      <td>0</td>\n",
       "      <td>...</td>\n",
       "      <td>0</td>\n",
       "      <td>36</td>\n",
       "      <td>180</td>\n",
       "      <td>-86</td>\n",
       "      <td>180</td>\n",
       "      <td>1</td>\n",
       "      <td>3</td>\n",
       "      <td>2</td>\n",
       "      <td>1</td>\n",
       "      <td>-33</td>\n",
       "    </tr>\n",
       "  </tbody>\n",
       "</table>\n",
       "<p>5 rows × 453 columns</p>\n",
       "</div>"
      ],
      "text/plain": [
       "   match_id  start_time  lobby_type  r1_hero  r1_level_0  r1_xp_0  r1_gold_0  \\\n",
       "0         6  1430287923           0       93           0        0          0   \n",
       "1         7  1430293357           1       20           1        0          0   \n",
       "2        10  1430301774           1      112           0       25         50   \n",
       "3        13  1430323933           1       27           0        0          0   \n",
       "4        16  1430331112           1       39           0        0          0   \n",
       "\n",
       "   r1_lh_0  r1_kills_0  r1_deaths_0          ...           \\\n",
       "0        0           0            0          ...            \n",
       "1        0           0            0          ...            \n",
       "2        1           0            0          ...            \n",
       "3        0           0            0          ...            \n",
       "4        0           0            0          ...            \n",
       "\n",
       "   radiant_ward_sentry_count  radiant_first_ward_time  dire_bottle_time  \\\n",
       "0                          0                       12               247   \n",
       "1                          2                      -29               168   \n",
       "2                          1                      -22                46   \n",
       "3                          2                      -49                30   \n",
       "4                          0                       36               180   \n",
       "\n",
       "   dire_courier_time  dire_flying_courier_time  dire_tpscroll_count  \\\n",
       "0                -86                       272                    3   \n",
       "1                -54                       NaN                    3   \n",
       "2                -87                       186                    1   \n",
       "3                -89                       210                    3   \n",
       "4                -86                       180                    1   \n",
       "\n",
       "   dire_boots_count  dire_ward_observer_count  dire_ward_sentry_count  \\\n",
       "0                 4                         2                       0   \n",
       "1                 2                         2                       1   \n",
       "2                 3                         3                       0   \n",
       "3                 4                         2                       1   \n",
       "4                 3                         2                       1   \n",
       "\n",
       "   dire_first_ward_time  \n",
       "0                   118  \n",
       "1                    16  \n",
       "2                   -34  \n",
       "3                   -26  \n",
       "4                   -33  \n",
       "\n",
       "[5 rows x 453 columns]"
      ]
     },
     "execution_count": 5,
     "metadata": {},
     "output_type": "execute_result"
    }
   ],
   "source": [
    "features_test.head()#топ строк для просмотра структуры"
   ]
  },
  {
   "cell_type": "code",
   "execution_count": 6,
   "metadata": {
    "collapsed": false
   },
   "outputs": [],
   "source": [
    "count = features.count() #подсчет числа заполненных полей"
   ]
  },
  {
   "cell_type": "code",
   "execution_count": 7,
   "metadata": {
    "collapsed": false
   },
   "outputs": [
    {
     "name": "stdout",
     "output_type": "stream",
     "text": [
      "<class 'pandas.core.frame.DataFrame'>\n",
      "Int64Index: 97230 entries, 0 to 97229\n",
      "Columns: 459 entries, match_id to barracks_status_dire\n",
      "dtypes: float64(12), int64(447)\n",
      "memory usage: 341.2 MB\n"
     ]
    }
   ],
   "source": [
    "features.info()"
   ]
  },
  {
   "cell_type": "code",
   "execution_count": 8,
   "metadata": {
    "collapsed": false
   },
   "outputs": [
    {
     "name": "stdout",
     "output_type": "stream",
     "text": [
      "match_id                       97230\n",
      "start_time                     97230\n",
      "lobby_type                     97230\n",
      "r1_hero                        97230\n",
      "r1_level_0                     97230\n",
      "r1_xp_0                        97230\n",
      "r1_gold_0                      97230\n",
      "r1_lh_0                        97230\n",
      "r1_kills_0                     97230\n",
      "r1_deaths_0                    97230\n",
      "r1_items_0                     97230\n",
      "r1_level_60                    97230\n",
      "r1_xp_60                       97230\n",
      "r1_gold_60                     97230\n",
      "r1_lh_60                       97230\n",
      "r1_kills_60                    97230\n",
      "r1_deaths_60                   97230\n",
      "r1_items_60                    97230\n",
      "r1_level_120                   97230\n",
      "r1_xp_120                      97230\n",
      "r1_gold_120                    97230\n",
      "r1_lh_120                      97230\n",
      "r1_kills_120                   97230\n",
      "r1_deaths_120                  97230\n",
      "r1_items_120                   97230\n",
      "r1_level_180                   97230\n",
      "r1_xp_180                      97230\n",
      "r1_gold_180                    97230\n",
      "r1_lh_180                      97230\n",
      "r1_kills_180                   97230\n",
      "                               ...  \n",
      "d5_lh_300                      97230\n",
      "d5_kills_300                   97230\n",
      "d5_deaths_300                  97230\n",
      "d5_items_300                   97230\n",
      "first_blood_time               77677\n",
      "first_blood_team               77677\n",
      "first_blood_player1            77677\n",
      "first_blood_player2            53243\n",
      "radiant_bottle_time            81539\n",
      "radiant_courier_time           96538\n",
      "radiant_flying_courier_time    69751\n",
      "radiant_tpscroll_count         97230\n",
      "radiant_boots_count            97230\n",
      "radiant_ward_observer_count    97230\n",
      "radiant_ward_sentry_count      97230\n",
      "radiant_first_ward_time        95394\n",
      "dire_bottle_time               81087\n",
      "dire_courier_time              96554\n",
      "dire_flying_courier_time       71132\n",
      "dire_tpscroll_count            97230\n",
      "dire_boots_count               97230\n",
      "dire_ward_observer_count       97230\n",
      "dire_ward_sentry_count         97230\n",
      "dire_first_ward_time           95404\n",
      "duration                       97230\n",
      "radiant_win                    97230\n",
      "tower_status_radiant           97230\n",
      "tower_status_dire              97230\n",
      "barracks_status_radiant        97230\n",
      "barracks_status_dire           97230\n",
      "dtype: int64\n"
     ]
    }
   ],
   "source": [
    "print count #выведем на экран"
   ]
  },
  {
   "cell_type": "markdown",
   "metadata": {},
   "source": [
    "# Целевая переменная в radiant win.\n",
    "\n",
    "Признаки с пропусками:\n",
    "\n",
    "first_blood_time               77677\n",
    "\n",
    "first_blood_team               77677\n",
    "\n",
    "first_blood_player1            77677\n",
    "\n",
    "first_blood_player2            53243\n",
    "\n",
    "radiant_bottle_time            81539\n",
    "\n",
    "radiant_courier_time           96538\n",
    "\n",
    "radiant_flying_courier_time    69751\n",
    "\n",
    "radiant_first_ward_time        95394\n",
    "\n",
    "dire_bottle_time               81087\n",
    "\n",
    "dire_courier_time              96554\n",
    "\n",
    "dire_flying_courier_time       71132\n",
    "\n",
    "dire_first_ward_time           95404\n",
    "\n",
    "Курьера можно и не покупать (но лучше его иметь, конечно),а уж летающего вообще не обязательно иметь.Поэтому столбцы, связанные с курьером имеют пропуски."
   ]
  },
  {
   "cell_type": "code",
   "execution_count": 9,
   "metadata": {
    "collapsed": false
   },
   "outputs": [],
   "source": [
    "features = features.fillna(value=0)#заполнение пустых полей\n",
    "features_test = features_test.fillna(value=0)#заполнение пустых полей"
   ]
  },
  {
   "cell_type": "code",
   "execution_count": 10,
   "metadata": {
    "collapsed": true
   },
   "outputs": [],
   "source": [
    "from sklearn import cross_validation#импорт кросс-валидации\n",
    "kf = cross_validation.KFold(len(features),n_folds=5,shuffle=True,random_state=241)#задаем кросс-валидацию"
   ]
  },
  {
   "cell_type": "code",
   "execution_count": 11,
   "metadata": {
    "collapsed": true
   },
   "outputs": [],
   "source": [
    "features_target = features['radiant_win']#выбираем целевой столбец"
   ]
  },
  {
   "cell_type": "code",
   "execution_count": 12,
   "metadata": {
    "collapsed": false
   },
   "outputs": [],
   "source": [
    "features_train = features.drop(['duration','radiant_win','tower_status_radiant','tower_status_dire','barracks_status_dire','barracks_status_radiant'],axis=1)#удаляем столбцы, которые заглядывают в будущее"
   ]
  },
  {
   "cell_type": "code",
   "execution_count": 13,
   "metadata": {
    "collapsed": false
   },
   "outputs": [
    {
     "data": {
      "text/html": [
       "<div>\n",
       "<table border=\"1\" class=\"dataframe\">\n",
       "  <thead>\n",
       "    <tr style=\"text-align: right;\">\n",
       "      <th></th>\n",
       "      <th>match_id</th>\n",
       "      <th>start_time</th>\n",
       "      <th>lobby_type</th>\n",
       "      <th>r1_hero</th>\n",
       "      <th>r1_level_0</th>\n",
       "      <th>r1_xp_0</th>\n",
       "      <th>r1_gold_0</th>\n",
       "      <th>r1_lh_0</th>\n",
       "      <th>r1_kills_0</th>\n",
       "      <th>r1_deaths_0</th>\n",
       "      <th>...</th>\n",
       "      <th>radiant_ward_sentry_count</th>\n",
       "      <th>radiant_first_ward_time</th>\n",
       "      <th>dire_bottle_time</th>\n",
       "      <th>dire_courier_time</th>\n",
       "      <th>dire_flying_courier_time</th>\n",
       "      <th>dire_tpscroll_count</th>\n",
       "      <th>dire_boots_count</th>\n",
       "      <th>dire_ward_observer_count</th>\n",
       "      <th>dire_ward_sentry_count</th>\n",
       "      <th>dire_first_ward_time</th>\n",
       "    </tr>\n",
       "  </thead>\n",
       "  <tbody>\n",
       "    <tr>\n",
       "      <th>0</th>\n",
       "      <td>0</td>\n",
       "      <td>1430198770</td>\n",
       "      <td>7</td>\n",
       "      <td>11</td>\n",
       "      <td>0</td>\n",
       "      <td>0</td>\n",
       "      <td>0</td>\n",
       "      <td>0</td>\n",
       "      <td>0</td>\n",
       "      <td>0</td>\n",
       "      <td>...</td>\n",
       "      <td>0</td>\n",
       "      <td>35</td>\n",
       "      <td>103</td>\n",
       "      <td>-84</td>\n",
       "      <td>221</td>\n",
       "      <td>3</td>\n",
       "      <td>4</td>\n",
       "      <td>2</td>\n",
       "      <td>2</td>\n",
       "      <td>-52</td>\n",
       "    </tr>\n",
       "    <tr>\n",
       "      <th>1</th>\n",
       "      <td>1</td>\n",
       "      <td>1430220345</td>\n",
       "      <td>0</td>\n",
       "      <td>42</td>\n",
       "      <td>1</td>\n",
       "      <td>0</td>\n",
       "      <td>0</td>\n",
       "      <td>0</td>\n",
       "      <td>0</td>\n",
       "      <td>0</td>\n",
       "      <td>...</td>\n",
       "      <td>0</td>\n",
       "      <td>-20</td>\n",
       "      <td>149</td>\n",
       "      <td>-84</td>\n",
       "      <td>195</td>\n",
       "      <td>5</td>\n",
       "      <td>4</td>\n",
       "      <td>3</td>\n",
       "      <td>1</td>\n",
       "      <td>-5</td>\n",
       "    </tr>\n",
       "    <tr>\n",
       "      <th>2</th>\n",
       "      <td>2</td>\n",
       "      <td>1430227081</td>\n",
       "      <td>7</td>\n",
       "      <td>33</td>\n",
       "      <td>0</td>\n",
       "      <td>0</td>\n",
       "      <td>0</td>\n",
       "      <td>0</td>\n",
       "      <td>0</td>\n",
       "      <td>0</td>\n",
       "      <td>...</td>\n",
       "      <td>1</td>\n",
       "      <td>-39</td>\n",
       "      <td>45</td>\n",
       "      <td>-77</td>\n",
       "      <td>221</td>\n",
       "      <td>3</td>\n",
       "      <td>4</td>\n",
       "      <td>3</td>\n",
       "      <td>1</td>\n",
       "      <td>13</td>\n",
       "    </tr>\n",
       "    <tr>\n",
       "      <th>3</th>\n",
       "      <td>3</td>\n",
       "      <td>1430263531</td>\n",
       "      <td>1</td>\n",
       "      <td>29</td>\n",
       "      <td>0</td>\n",
       "      <td>0</td>\n",
       "      <td>0</td>\n",
       "      <td>0</td>\n",
       "      <td>0</td>\n",
       "      <td>0</td>\n",
       "      <td>...</td>\n",
       "      <td>0</td>\n",
       "      <td>-30</td>\n",
       "      <td>124</td>\n",
       "      <td>-80</td>\n",
       "      <td>184</td>\n",
       "      <td>0</td>\n",
       "      <td>4</td>\n",
       "      <td>2</td>\n",
       "      <td>0</td>\n",
       "      <td>27</td>\n",
       "    </tr>\n",
       "    <tr>\n",
       "      <th>4</th>\n",
       "      <td>4</td>\n",
       "      <td>1430282290</td>\n",
       "      <td>7</td>\n",
       "      <td>13</td>\n",
       "      <td>1</td>\n",
       "      <td>0</td>\n",
       "      <td>0</td>\n",
       "      <td>0</td>\n",
       "      <td>0</td>\n",
       "      <td>0</td>\n",
       "      <td>...</td>\n",
       "      <td>0</td>\n",
       "      <td>46</td>\n",
       "      <td>182</td>\n",
       "      <td>-80</td>\n",
       "      <td>225</td>\n",
       "      <td>6</td>\n",
       "      <td>3</td>\n",
       "      <td>3</td>\n",
       "      <td>0</td>\n",
       "      <td>-16</td>\n",
       "    </tr>\n",
       "  </tbody>\n",
       "</table>\n",
       "<p>5 rows × 453 columns</p>\n",
       "</div>"
      ],
      "text/plain": [
       "   match_id  start_time  lobby_type  r1_hero  r1_level_0  r1_xp_0  r1_gold_0  \\\n",
       "0         0  1430198770           7       11           0        0          0   \n",
       "1         1  1430220345           0       42           1        0          0   \n",
       "2         2  1430227081           7       33           0        0          0   \n",
       "3         3  1430263531           1       29           0        0          0   \n",
       "4         4  1430282290           7       13           1        0          0   \n",
       "\n",
       "   r1_lh_0  r1_kills_0  r1_deaths_0          ...           \\\n",
       "0        0           0            0          ...            \n",
       "1        0           0            0          ...            \n",
       "2        0           0            0          ...            \n",
       "3        0           0            0          ...            \n",
       "4        0           0            0          ...            \n",
       "\n",
       "   radiant_ward_sentry_count  radiant_first_ward_time  dire_bottle_time  \\\n",
       "0                          0                       35               103   \n",
       "1                          0                      -20               149   \n",
       "2                          1                      -39                45   \n",
       "3                          0                      -30               124   \n",
       "4                          0                       46               182   \n",
       "\n",
       "   dire_courier_time  dire_flying_courier_time  dire_tpscroll_count  \\\n",
       "0                -84                       221                    3   \n",
       "1                -84                       195                    5   \n",
       "2                -77                       221                    3   \n",
       "3                -80                       184                    0   \n",
       "4                -80                       225                    6   \n",
       "\n",
       "   dire_boots_count  dire_ward_observer_count  dire_ward_sentry_count  \\\n",
       "0                 4                         2                       2   \n",
       "1                 4                         3                       1   \n",
       "2                 4                         3                       1   \n",
       "3                 4                         2                       0   \n",
       "4                 3                         3                       0   \n",
       "\n",
       "   dire_first_ward_time  \n",
       "0                   -52  \n",
       "1                    -5  \n",
       "2                    13  \n",
       "3                    27  \n",
       "4                   -16  \n",
       "\n",
       "[5 rows x 453 columns]"
      ]
     },
     "execution_count": 13,
     "metadata": {},
     "output_type": "execute_result"
    }
   ],
   "source": [
    "features_train.head()#новый датасет без столбцов, которые заглядывают в будущее"
   ]
  },
  {
   "cell_type": "code",
   "execution_count": 14,
   "metadata": {
    "collapsed": false
   },
   "outputs": [
    {
     "name": "stdout",
     "output_type": "stream",
     "text": [
      "<class 'pandas.core.frame.DataFrame'>\n",
      "Int64Index: 97230 entries, 0 to 97229\n",
      "Columns: 453 entries, match_id to dire_first_ward_time\n",
      "dtypes: float64(12), int64(441)\n",
      "memory usage: 336.8 MB\n"
     ]
    }
   ],
   "source": [
    "features_train.info()\n",
    "del(features)"
   ]
  },
  {
   "cell_type": "code",
   "execution_count": 15,
   "metadata": {
    "collapsed": false
   },
   "outputs": [],
   "source": [
    "#полезные фичи, дают 0.75540\n",
    "for i in [0,60,120,180,240,300]:\n",
    "    features_train['r_level_mean_'+str(i)] = features_train[['r1_level_'+str(i),'r2_level_'+str(i),'r3_level_'+str(i),'r4_level_'+str(i),'r5_level_'+str(i)]].mean(axis=1)\n",
    "    features_train['d_level_mean_'+str(i)] = features_train[['d1_level_'+str(i),'d2_level_'+str(i),'d3_level_'+str(i),'d4_level_'+str(i),'d5_level_'+str(i)]].mean(axis=1)\n",
    "    features_train['r_xp_mean_'+str(i)] = features_train[['r1_xp_'+str(i),'r2_xp_'+str(i),'r3_xp_'+str(i),'r4_xp_'+str(i),'r5_xp_'+str(i)]].mean(axis=1) \n",
    "    features_train['d_xp_mean_'+str(i)] = features_train[['d1_xp_'+str(i),'d2_xp_'+str(i),'d3_xp_'+str(i),'d4_xp_'+str(i),'d5_xp_'+str(i)]].mean(axis=1)\n",
    "    features_train['r_level_sum_'+str(i)] = features_train[['r1_level_'+str(i),'r2_level_'+str(i),'r3_level_'+str(i),'r4_level_'+str(i),'r5_level_'+str(i)]].sum(axis=1)\n",
    "    features_train['d_level_sum_'+str(i)] = features_train[['d1_level_'+str(i),'d2_level_'+str(i),'d3_level_'+str(i),'d4_level_'+str(i),'d5_level_'+str(i)]].sum(axis=1)\n",
    "    features_train['r_xp_sum_'+str(i)] = features_train[['r1_xp_'+str(i),'r2_xp_'+str(i),'r3_xp_'+str(i),'r4_xp_'+str(i),'r5_xp_'+str(i)]].sum(axis=1) \n",
    "    features_train['d_xp_sum_'+str(i)] = features_train[['d1_xp_'+str(i),'d2_xp_'+str(i),'d3_xp_'+str(i),'d4_xp_'+str(i),'d5_xp_'+str(i)]].sum(axis=1) \n",
    "    features_train['r_gold_mean_'+str(i)] = features_train[['r1_gold_'+str(i),'r2_gold_'+str(i),'r3_gold_'+str(i),'r4_gold_'+str(i),'r5_gold_'+str(i)]].mean(axis=1)\n",
    "    features_train['d_gold_mean_'+str(i)] = features_train[['d1_gold_'+str(i),'d2_gold_'+str(i),'d3_gold_'+str(i),'d4_gold_'+str(i),'d5_gold_'+str(i)]].mean(axis=1) \n",
    "    features_train['r_gold_sum_'+str(i)] = features_train[['r1_gold_'+str(i),'r2_gold_'+str(i),'r3_gold_'+str(i),'r4_gold_'+str(i),'r5_gold_'+str(i)]].sum(axis=1)\n",
    "    features_train['d_gold_sum_'+str(i)] = features_train[['d1_gold_'+str(i),'d2_gold_'+str(i),'d3_gold_'+str(i),'d4_gold_'+str(i),'d5_gold_'+str(i)]].sum(axis=1) \n",
    "    features_train['kills_diff_'+str(i)] = features_train[['r1_kills_'+str(i),'r2_kills_'+str(i),'r3_kills_'+str(i),'r4_kills_'+str(i),'r5_kills_'+str(i)]].sum(axis=1)-features_train[['d1_kills_'+str(i),'d2_kills_'+str(i),'d3_kills_'+str(i),'d4_kills_'+str(i),'d5_kills_'+str(i)]].sum(axis=1)\n",
    "    features_train['r_lh_mean_'+str(i)] = features_train[['r1_lh_'+str(i),'r2_lh_'+str(i),'r3_lh_'+str(i),'r4_lh_'+str(i),'r5_lh_'+str(i)]].mean(axis=1) \n",
    "    features_train['d_lh_mean_'+str(i)] = features_train[['d1_lh_'+str(i),'d2_lh_'+str(i),'d3_lh_'+str(i),'d4_lh_'+str(i),'d5_lh_'+str(i)]].mean(axis=1) \n",
    "    features_train['r_lh_sum_'+str(i)] = features_train[['r1_lh_'+str(i),'r2_lh_'+str(i),'r3_lh_'+str(i),'r4_lh_'+str(i),'r5_lh_'+str(i)]].sum(axis=1) \n",
    "    features_train['d_lh_sum_'+str(i)] = features_train[['d1_lh_'+str(i),'d2_lh_'+str(i),'d3_lh_'+str(i),'d4_lh_'+str(i),'d5_lh_'+str(i)]].sum(axis=1) \n",
    "    features_train['gold_sum_diff_'+str(i)] = features_train['r_gold_sum_'+str(i)] - features_train['d_gold_sum_'+str(i)]\n",
    "    features_train['gold_mean_diff_'+str(i)] = features_train['r_gold_mean_'+str(i)] - features_train['d_gold_mean_'+str(i)]\n",
    "    features_train['xp_sum_diff_'+str(i)] = features_train['r_xp_sum_'+str(i)] - features_train['d_xp_sum_'+str(i)]\n",
    "    features_train['xp_mean_diff_'+str(i)] = features_train['r_xp_mean_'+str(i)] - features_train['d_xp_mean_'+str(i)]\n",
    "    features_train['level_sum_diff_'+str(i)] = features_train['r_level_sum_'+str(i)] - features_train['d_level_sum_'+str(i)]\n",
    "    features_train['level_mean_diff_'+str(i)] = features_train['r_level_mean_'+str(i)] - features_train['d_level_mean_'+str(i)]\n",
    "    features_train['lh_sum_diff_'+str(i)] = features_train['r_lh_sum_'+str(i)] - features_train['d_lh_sum_'+str(i)]\n",
    "    features_train['lh_mean_diff_'+str(i)] = features_train['r_lh_mean_'+str(i)] - features_train['d_lh_mean_'+str(i)]"
   ]
  },
  {
   "cell_type": "code",
   "execution_count": 16,
   "metadata": {
    "collapsed": true
   },
   "outputs": [],
   "source": [
    "for i in [0,60,120,180,240,300]:\n",
    "    features_test['r_level_mean_'+str(i)] = features_test[['r1_level_'+str(i),'r2_level_'+str(i),'r3_level_'+str(i),'r4_level_'+str(i),'r5_level_'+str(i)]].mean(axis=1)\n",
    "    features_test['d_level_mean_'+str(i)] = features_test[['d1_level_'+str(i),'d2_level_'+str(i),'d3_level_'+str(i),'d4_level_'+str(i),'d5_level_'+str(i)]].mean(axis=1)\n",
    "    features_test['r_xp_mean_'+str(i)] = features_test[['r1_xp_'+str(i),'r2_xp_'+str(i),'r3_xp_'+str(i),'r4_xp_'+str(i),'r5_xp_'+str(i)]].mean(axis=1) \n",
    "    features_test['d_xp_mean_'+str(i)] = features_test[['d1_xp_'+str(i),'d2_xp_'+str(i),'d3_xp_'+str(i),'d4_xp_'+str(i),'d5_xp_'+str(i)]].mean(axis=1)\n",
    "    features_test['r_level_sum_'+str(i)] = features_test[['r1_level_'+str(i),'r2_level_'+str(i),'r3_level_'+str(i),'r4_level_'+str(i),'r5_level_'+str(i)]].sum(axis=1)\n",
    "    features_test['d_level_sum_'+str(i)] = features_test[['d1_level_'+str(i),'d2_level_'+str(i),'d3_level_'+str(i),'d4_level_'+str(i),'d5_level_'+str(i)]].sum(axis=1)\n",
    "    features_test['r_xp_sum_'+str(i)] = features_test[['r1_xp_'+str(i),'r2_xp_'+str(i),'r3_xp_'+str(i),'r4_xp_'+str(i),'r5_xp_'+str(i)]].sum(axis=1) \n",
    "    features_test['d_xp_sum_'+str(i)] = features_test[['d1_xp_'+str(i),'d2_xp_'+str(i),'d3_xp_'+str(i),'d4_xp_'+str(i),'d5_xp_'+str(i)]].sum(axis=1) \n",
    "    features_test['r_gold_mean_'+str(i)] = features_test[['r1_gold_'+str(i),'r2_gold_'+str(i),'r3_gold_'+str(i),'r4_gold_'+str(i),'r5_gold_'+str(i)]].mean(axis=1)\n",
    "    features_test['d_gold_mean_'+str(i)] = features_test[['d1_gold_'+str(i),'d2_gold_'+str(i),'d3_gold_'+str(i),'d4_gold_'+str(i),'d5_gold_'+str(i)]].mean(axis=1) \n",
    "    features_test['r_gold_sum_'+str(i)] = features_test[['r1_gold_'+str(i),'r2_gold_'+str(i),'r3_gold_'+str(i),'r4_gold_'+str(i),'r5_gold_'+str(i)]].sum(axis=1)\n",
    "    features_test['d_gold_sum_'+str(i)] = features_test[['d1_gold_'+str(i),'d2_gold_'+str(i),'d3_gold_'+str(i),'d4_gold_'+str(i),'d5_gold_'+str(i)]].sum(axis=1) \n",
    "    features_test['kills_diff_'+str(i)] = features_test[['r1_kills_'+str(i),'r2_kills_'+str(i),'r3_kills_'+str(i),'r4_kills_'+str(i),'r5_kills_'+str(i)]].sum(axis=1)-features_test[['d1_kills_'+str(i),'d2_kills_'+str(i),'d3_kills_'+str(i),'d4_kills_'+str(i),'d5_kills_'+str(i)]].sum(axis=1)\n",
    "    features_test['r_lh_mean_'+str(i)] = features_test[['r1_lh_'+str(i),'r2_lh_'+str(i),'r3_lh_'+str(i),'r4_lh_'+str(i),'r5_lh_'+str(i)]].mean(axis=1) \n",
    "    features_test['d_lh_mean_'+str(i)] = features_test[['d1_lh_'+str(i),'d2_lh_'+str(i),'d3_lh_'+str(i),'d4_lh_'+str(i),'d5_lh_'+str(i)]].mean(axis=1) \n",
    "    features_test['r_lh_sum_'+str(i)] = features_test[['r1_lh_'+str(i),'r2_lh_'+str(i),'r3_lh_'+str(i),'r4_lh_'+str(i),'r5_lh_'+str(i)]].sum(axis=1) \n",
    "    features_test['d_lh_sum_'+str(i)] = features_test[['d1_lh_'+str(i),'d2_lh_'+str(i),'d3_lh_'+str(i),'d4_lh_'+str(i),'d5_lh_'+str(i)]].sum(axis=1) \n",
    "    features_test['gold_sum_diff_'+str(i)] = features_test['r_gold_sum_'+str(i)] - features_test['d_gold_sum_'+str(i)]\n",
    "    features_test['gold_mean_diff_'+str(i)] = features_test['r_gold_mean_'+str(i)] - features_test['d_gold_mean_'+str(i)]\n",
    "    features_test['xp_sum_diff_'+str(i)] = features_test['r_xp_sum_'+str(i)] - features_test['d_xp_sum_'+str(i)]\n",
    "    features_test['xp_mean_diff_'+str(i)] = features_test['r_xp_mean_'+str(i)] - features_test['d_xp_mean_'+str(i)]\n",
    "    features_test['level_sum_diff_'+str(i)] = features_test['r_level_sum_'+str(i)] - features_test['d_level_sum_'+str(i)]\n",
    "    features_test['level_mean_diff_'+str(i)] = features_test['r_level_mean_'+str(i)] - features_test['d_level_mean_'+str(i)]\n",
    "    features_test['lh_sum_diff_'+str(i)] = features_test['r_lh_sum_'+str(i)] - features_test['d_lh_sum_'+str(i)]\n",
    "    features_test['lh_mean_diff_'+str(i)] = features_test['r_lh_mean_'+str(i)] - features_test['d_lh_mean_'+str(i)]"
   ]
  },
  {
   "cell_type": "code",
   "execution_count": 17,
   "metadata": {
    "collapsed": true
   },
   "outputs": [],
   "source": [
    "for i in [0,60,120,180,240,300]:\n",
    "    features_test['r_level_median_'+str(i)] = features_test[['r1_level_'+str(i),'r2_level_'+str(i),'r3_level_'+str(i),'r4_level_'+str(i),'r5_level_'+str(i)]].median(axis=1)\n",
    "    features_test['d_level_median_'+str(i)] = features_test[['d1_level_'+str(i),'d2_level_'+str(i),'d3_level_'+str(i),'d4_level_'+str(i),'d5_level_'+str(i)]].median(axis=1)\n",
    "    features_test['r_xp_median_'+str(i)] = features_test[['r1_xp_'+str(i),'r2_xp_'+str(i),'r3_xp_'+str(i),'r4_xp_'+str(i),'r5_xp_'+str(i)]].median(axis=1) \n",
    "    features_test['d_xp_median_'+str(i)] = features_test[['d1_xp_'+str(i),'d2_xp_'+str(i),'d3_xp_'+str(i),'d4_xp_'+str(i),'d5_xp_'+str(i)]].median(axis=1) \n",
    "    features_test['r_xp_std_'+str(i)] = features_test[['r1_xp_'+str(i),'r2_xp_'+str(i),'r3_xp_'+str(i),'r4_xp_'+str(i),'r5_xp_'+str(i)]].std(axis=1) \n",
    "    features_test['d_xp_std_'+str(i)] = features_test[['d1_xp_'+str(i),'d2_xp_'+str(i),'d3_xp_'+str(i),'d4_xp_'+str(i),'d5_xp_'+str(i)]].std(axis=1) \n",
    "    features_test['r_lh_median_'+str(i)] = features_test[['r1_lh_'+str(i),'r2_lh_'+str(i),'r3_lh_'+str(i),'r4_lh_'+str(i),'r5_lh_'+str(i)]].median(axis=1)\n",
    "    features_test['d_lh_median_'+str(i)] = features_test[['d1_lh_'+str(i),'d2_lh_'+str(i),'d3_lh_'+str(i),'d4_lh_'+str(i),'d5_lh_'+str(i)]].median(axis=1) \n",
    "    features_test['r_lh_std_'+str(i)] = features_test[['r1_lh_'+str(i),'r2_lh_'+str(i),'r3_lh_'+str(i),'r4_lh_'+str(i),'r5_lh_'+str(i)]].std(axis=1)\n",
    "    features_test['d_lh_std_'+str(i)] = features_test[['d1_lh_'+str(i),'d2_lh_'+str(i),'d3_lh_'+str(i),'d4_lh_'+str(i),'d5_lh_'+str(i)]].std(axis=1) \n",
    "    features_test['r_gold_median_'+str(i)] = features_test[['r1_gold_'+str(i),'r2_gold_'+str(i),'r3_gold_'+str(i),'r4_gold_'+str(i),'r5_gold_'+str(i)]].median(axis=1)\n",
    "    features_test['d_gold_median_'+str(i)] = features_test[['d1_gold_'+str(i),'d2_gold_'+str(i),'d3_gold_'+str(i),'d4_gold_'+str(i),'d5_gold_'+str(i)]].median(axis=1) \n",
    "    features_test['r_gold_std_'+str(i)] = features_test[['r1_gold_'+str(i),'r2_gold_'+str(i),'r3_gold_'+str(i),'r4_gold_'+str(i),'r5_gold_'+str(i)]].std(axis=1)\n",
    "    features_test['d_gold_std_'+str(i)] = features_test[['d1_gold_'+str(i),'d2_gold_'+str(i),'d3_gold_'+str(i),'d4_gold_'+str(i),'d5_gold_'+str(i)]].std(axis=1) "
   ]
  },
  {
   "cell_type": "code",
   "execution_count": 18,
   "metadata": {
    "collapsed": true
   },
   "outputs": [],
   "source": [
    "for i in [0,60,120,180,240,300]:\n",
    "    features_train['r_level_median_'+str(i)] = features_train[['r1_level_'+str(i),'r2_level_'+str(i),'r3_level_'+str(i),'r4_level_'+str(i),'r5_level_'+str(i)]].median(axis=1)\n",
    "    features_train['d_level_median_'+str(i)] = features_train[['d1_level_'+str(i),'d2_level_'+str(i),'d3_level_'+str(i),'d4_level_'+str(i),'d5_level_'+str(i)]].median(axis=1)\n",
    "    features_train['r_xp_median_'+str(i)] = features_train[['r1_xp_'+str(i),'r2_xp_'+str(i),'r3_xp_'+str(i),'r4_xp_'+str(i),'r5_xp_'+str(i)]].median(axis=1) \n",
    "    features_train['d_xp_median_'+str(i)] = features_train[['d1_xp_'+str(i),'d2_xp_'+str(i),'d3_xp_'+str(i),'d4_xp_'+str(i),'d5_xp_'+str(i)]].median(axis=1) \n",
    "    features_train['r_xp_std_'+str(i)] = features_train[['r1_xp_'+str(i),'r2_xp_'+str(i),'r3_xp_'+str(i),'r4_xp_'+str(i),'r5_xp_'+str(i)]].std(axis=1) \n",
    "    features_train['d_xp_std_'+str(i)] = features_train[['d1_xp_'+str(i),'d2_xp_'+str(i),'d3_xp_'+str(i),'d4_xp_'+str(i),'d5_xp_'+str(i)]].std(axis=1)\n",
    "    features_train['r_lh_median_'+str(i)] = features_train[['r1_lh_'+str(i),'r2_lh_'+str(i),'r3_lh_'+str(i),'r4_lh_'+str(i),'r5_lh_'+str(i)]].median(axis=1)\n",
    "    features_train['d_lh_median_'+str(i)] = features_train[['d1_lh_'+str(i),'d2_lh_'+str(i),'d3_lh_'+str(i),'d4_lh_'+str(i),'d5_lh_'+str(i)]].median(axis=1) \n",
    "    features_train['r_lh_std_'+str(i)] = features_train[['r1_lh_'+str(i),'r2_lh_'+str(i),'r3_lh_'+str(i),'r4_lh_'+str(i),'r5_lh_'+str(i)]].std(axis=1)\n",
    "    features_train['d_lh_std_'+str(i)] = features_train[['d1_lh_'+str(i),'d2_lh_'+str(i),'d3_lh_'+str(i),'d4_lh_'+str(i),'d5_lh_'+str(i)]].std(axis=1) \n",
    "    features_train['r_gold_median_'+str(i)] = features_train[['r1_gold_'+str(i),'r2_gold_'+str(i),'r3_gold_'+str(i),'r4_gold_'+str(i),'r5_gold_'+str(i)]].median(axis=1)\n",
    "    features_train['d_gold_median_'+str(i)] = features_train[['d1_gold_'+str(i),'d2_gold_'+str(i),'d3_gold_'+str(i),'d4_gold_'+str(i),'d5_gold_'+str(i)]].median(axis=1) \n",
    "    features_train['r_gold_std_'+str(i)] = features_train[['r1_gold_'+str(i),'r2_gold_'+str(i),'r3_gold_'+str(i),'r4_gold_'+str(i),'r5_gold_'+str(i)]].std(axis=1)\n",
    "    features_train['d_gold_std_'+str(i)] = features_train[['d1_gold_'+str(i),'d2_gold_'+str(i),'d3_gold_'+str(i),'d4_gold_'+str(i),'d5_gold_'+str(i)]].std(axis=1) "
   ]
  },
  {
   "cell_type": "code",
   "execution_count": 19,
   "metadata": {
    "collapsed": false
   },
   "outputs": [],
   "source": [
    "for i in [60,120,180,240,300]:\n",
    "    features_test['r_xp_mean_rate_'+str(i)] = features_test[['r1_xp_'+str(i),'r2_xp_'+str(i),'r3_xp_'+str(i),'r4_xp_'+str(i),'r5_xp_'+str(i)]].mean(axis=1)/(i/60.0) \n",
    "    features_test['d_xp_mean_rate_'+str(i)] = features_test[['d1_xp_'+str(i),'d2_xp_'+str(i),'d3_xp_'+str(i),'d4_xp_'+str(i),'d5_xp_'+str(i)]].mean(axis=1)/(i/60.0) \n",
    "    features_test['r_xp_sum_rate_'+str(i)] = features_test[['r1_xp_'+str(i),'r2_xp_'+str(i),'r3_xp_'+str(i),'r4_xp_'+str(i),'r5_xp_'+str(i)]].sum(axis=1)/(i/60.0) \n",
    "    features_test['d_xp_sum_rate_'+str(i)] = features_test[['d1_xp_'+str(i),'d2_xp_'+str(i),'d3_xp_'+str(i),'d4_xp_'+str(i),'d5_xp_'+str(i)]].sum(axis=1)/(i/60.0) \n",
    "    features_test['r_gold_mean_rate_'+str(i)] = features_test[['r1_gold_'+str(i),'r2_gold_'+str(i),'r3_gold_'+str(i),'r4_gold_'+str(i),'r5_gold_'+str(i)]].mean(axis=1)/(i/60.0)\n",
    "    features_test['d_gold_mean_rate_'+str(i)] = features_test[['d1_gold_'+str(i),'d2_gold_'+str(i),'d3_gold_'+str(i),'d4_gold_'+str(i),'d5_gold_'+str(i)]].mean(axis=1)/(i/60.0) \n",
    "    features_test['r_gold_sum_rate_'+str(i)] = features_test[['r1_gold_'+str(i),'r2_gold_'+str(i),'r3_gold_'+str(i),'r4_gold_'+str(i),'r5_gold_'+str(i)]].sum(axis=1)/(i/60.0)\n",
    "    features_test['d_gold_sum_rate_'+str(i)] = features_test[['d1_gold_'+str(i),'d2_gold_'+str(i),'d3_gold_'+str(i),'d4_gold_'+str(i),'d5_gold_'+str(i)]].sum(axis=1)/(i/60.0)\n",
    "    features_test['r_level_mean_rate_'+str(i)] = features_test[['r1_level_'+str(i),'r2_level_'+str(i),'r3_level_'+str(i),'r4_level_'+str(i),'r5_level_'+str(i)]].mean(axis=1)/(i/60.0)\n",
    "    features_test['d_level_mean_rate_'+str(i)] = features_test[['d1_level_'+str(i),'d2_level_'+str(i),'d3_level_'+str(i),'d4_level_'+str(i),'d5_level_'+str(i)]].mean(axis=1)/(i/60.0) \n",
    "    features_test['r_level_sum_rate_'+str(i)] = features_test[['r1_level_'+str(i),'r2_level_'+str(i),'r3_level_'+str(i),'r4_level_'+str(i),'r5_level_'+str(i)]].sum(axis=1)/(i/60.0)\n",
    "    features_test['d_level_sum_rate_'+str(i)] = features_test[['d1_level_'+str(i),'d2_level_'+str(i),'d3_level_'+str(i),'d4_level_'+str(i),'d5_level_'+str(i)]].sum(axis=1)/(i/60.0)\n",
    "    features_train['r_xp_mean_rate_'+str(i)] = features_train[['r1_xp_'+str(i),'r2_xp_'+str(i),'r3_xp_'+str(i),'r4_xp_'+str(i),'r5_xp_'+str(i)]].mean(axis=1)/(i/60.0) \n",
    "    features_train['d_xp_mean_rate_'+str(i)] = features_train[['d1_xp_'+str(i),'d2_xp_'+str(i),'d3_xp_'+str(i),'d4_xp_'+str(i),'d5_xp_'+str(i)]].mean(axis=1)/(i/60.0) \n",
    "    features_train['r_xp_sum_rate_'+str(i)] = features_train[['r1_xp_'+str(i),'r2_xp_'+str(i),'r3_xp_'+str(i),'r4_xp_'+str(i),'r5_xp_'+str(i)]].sum(axis=1)/(i/60.0) \n",
    "    features_train['d_xp_sum_rate_'+str(i)] = features_train[['d1_xp_'+str(i),'d2_xp_'+str(i),'d3_xp_'+str(i),'d4_xp_'+str(i),'d5_xp_'+str(i)]].sum(axis=1)/(i/60.0)\n",
    "    features_train['r_level_mean_rate_'+str(i)] = features_train[['r1_level_'+str(i),'r2_level_'+str(i),'r3_level_'+str(i),'r4_level_'+str(i),'r5_level_'+str(i)]].mean(axis=1)/(i/60.0)\n",
    "    features_train['d_level_mean_rate_'+str(i)] = features_train[['d1_level_'+str(i),'d2_level_'+str(i),'d3_level_'+str(i),'d4_level_'+str(i),'d5_level_'+str(i)]].mean(axis=1)/(i/60.0) \n",
    "    features_train['r_level_sum_rate_'+str(i)] = features_train[['r1_level_'+str(i),'r2_level_'+str(i),'r3_level_'+str(i),'r4_level_'+str(i),'r5_level_'+str(i)]].sum(axis=1)/(i/60.0)\n",
    "    features_train['d_level_sum_rate_'+str(i)] = features_train[['d1_level_'+str(i),'d2_level_'+str(i),'d3_level_'+str(i),'d4_level_'+str(i),'d5_level_'+str(i)]].sum(axis=1)/(i/60.0)\n",
    "    features_train['r_gold_mean_rate_'+str(i)] = features_train[['r1_gold_'+str(i),'r2_gold_'+str(i),'r3_gold_'+str(i),'r4_gold_'+str(i),'r5_gold_'+str(i)]].mean(axis=1)/(i/60.0)\n",
    "    features_train['d_gold_mean_rate_'+str(i)] = features_train[['d1_gold_'+str(i),'d2_gold_'+str(i),'d3_gold_'+str(i),'d4_gold_'+str(i),'d5_gold_'+str(i)]].mean(axis=1)/(i/60.0) \n",
    "    features_train['r_gold_sum_rate_'+str(i)] = features_train[['r1_gold_'+str(i),'r2_gold_'+str(i),'r3_gold_'+str(i),'r4_gold_'+str(i),'r5_gold_'+str(i)]].sum(axis=1)/(i/60.0)\n",
    "    features_train['d_gold_sum_rate_'+str(i)] = features_train[['d1_gold_'+str(i),'d2_gold_'+str(i),'d3_gold_'+str(i),'d4_gold_'+str(i),'d5_gold_'+str(i)]].sum(axis=1)/(i/60.0)"
   ]
  },
  {
   "cell_type": "markdown",
   "metadata": {},
   "source": [
    "## далее идут вредные фичи, которые снижают качество до 0.75 "
   ]
  },
  {
   "cell_type": "code",
   "execution_count": 20,
   "metadata": {
    "collapsed": true
   },
   "outputs": [],
   "source": [
    "from sklearn import ensemble #импортируем ensemble\n",
    "import sklearn.cross_validation #импортируем кросс-валидацию"
   ]
  },
  {
   "cell_type": "markdown",
   "metadata": {},
   "source": [
    "# Логистическая регрессия\n",
    "В это части рассматривается решение с помощью логистической регрессии."
   ]
  },
  {
   "cell_type": "code",
   "execution_count": 21,
   "metadata": {
    "collapsed": false
   },
   "outputs": [],
   "source": [
    "from sklearn.preprocessing import StandardScaler #импортируем Scaler для нормализации признаков"
   ]
  },
  {
   "cell_type": "code",
   "execution_count": 22,
   "metadata": {
    "collapsed": true
   },
   "outputs": [],
   "source": [
    "scaler = StandardScaler() #инициализируем scaler\n",
    "scaled_train = scaler.fit_transform(features_train) #нормализация train\n",
    "scaled_test = scaler.fit_transform(features_test) #нормализация test"
   ]
  },
  {
   "cell_type": "code",
   "execution_count": 23,
   "metadata": {
    "collapsed": true
   },
   "outputs": [],
   "source": [
    "from sklearn.linear_model import LogisticRegression #имортируем логисчтиескую регрессию"
   ]
  },
  {
   "cell_type": "code",
   "execution_count": 24,
   "metadata": {
    "collapsed": true
   },
   "outputs": [],
   "source": [
    "features_train_copy = features_train.drop(['lobby_type','r1_hero','r2_hero','r3_hero','r4_hero','r5_hero','d1_hero','d2_hero','d3_hero','d4_hero','d5_hero'],axis=1)\n",
    "#убрали тип лобби и выбранных героев из данных"
   ]
  },
  {
   "cell_type": "code",
   "execution_count": 25,
   "metadata": {
    "collapsed": true
   },
   "outputs": [],
   "source": [
    "scaled_train_copy = scaler.fit_transform(features_train_copy) #scaling для набора данных без информации о героях"
   ]
  },
  {
   "cell_type": "code",
   "execution_count": 26,
   "metadata": {
    "collapsed": false
   },
   "outputs": [
    {
     "name": "stdout",
     "output_type": "stream",
     "text": [
      "len of unique heroes sequence: 108\n",
      "min and max hero id: 1 - 112\n"
     ]
    }
   ],
   "source": [
    "unique_heroes = []\n",
    "for name in ['r1_hero','r2_hero','r3_hero','r4_hero','r5_hero','d1_hero','d2_hero','d3_hero','d4_hero','d5_hero']:\n",
    "    for u in pd.unique(features_train[name]):\n",
    "        if u not in unique_heroes:\n",
    "            unique_heroes.append(u)\n",
    "print 'len of unique heroes sequence:', len(unique_heroes)\n",
    "print 'min and max hero id:',min(unique_heroes),'-', max(unique_heroes)"
   ]
  },
  {
   "cell_type": "markdown",
   "metadata": {},
   "source": [
    "## Всего в игре 112 персонажей. Часть персонажей почему-то не была взята ни разу.\n",
    "## Id персонажей заканчивается на значении 112."
   ]
  },
  {
   "cell_type": "code",
   "execution_count": 27,
   "metadata": {
    "collapsed": false
   },
   "outputs": [],
   "source": [
    "#bag of words из примера\n",
    "X_pick = np.zeros((features_train.shape[0], 112))\n",
    "\n",
    "for i, match_id in enumerate(features_train.index):\n",
    "    for p in xrange(5):\n",
    "        X_pick[i, features_train.ix[match_id, 'r%d_hero' % (p+1)]-1] = 1\n",
    "        X_pick[i, features_train.ix[match_id, 'd%d_hero' % (p+1)]-1] = -1"
   ]
  },
  {
   "cell_type": "code",
   "execution_count": 26,
   "metadata": {
    "collapsed": false
   },
   "outputs": [],
   "source": [
    "X_pair_pick = np.zeros((features_train.shape[0], 6105))\n",
    "n_iter = 0\n",
    "\n",
    "for i in xrange(112):\n",
    "    for j in xrange(i+1,111):\n",
    "        X_pair_pick[:, n_iter] = X_pick[:,i] + X_pick[:,j]\n",
    "        n_iter += 1"
   ]
  },
  {
   "cell_type": "code",
   "execution_count": 27,
   "metadata": {
    "collapsed": false
   },
   "outputs": [],
   "source": [
    "X_pair_pick[X_pair_pick==1]=0\n",
    "X_pair_pick[X_pair_pick==-1]=0\n",
    "X_pair_pick[X_pair_pick==2]=1\n",
    "X_pair_pick[X_pair_pick==-2]=-1"
   ]
  },
  {
   "cell_type": "code",
   "execution_count": 28,
   "metadata": {
    "collapsed": false
   },
   "outputs": [],
   "source": [
    "scaled_pick = scaler.fit_transform(X_pick) #scaling для pick'а\n",
    "#scaled_pair_pick = scaler.fit_transform(X_pair_pick)"
   ]
  },
  {
   "cell_type": "code",
   "execution_count": 29,
   "metadata": {
    "collapsed": false
   },
   "outputs": [],
   "source": [
    "#scaled_train_bag = np.hstack((scaled_train_copy,scaled_pick,scaled_pair_pick)) #объединяем информацию\n",
    "scaled_train_bag = np.hstack((scaled_train_copy,scaled_pick))"
   ]
  },
  {
   "cell_type": "code",
   "execution_count": 30,
   "metadata": {
    "collapsed": true
   },
   "outputs": [],
   "source": [
    "del(features_train_copy)\n",
    "del(scaled_train_copy)"
   ]
  },
  {
   "cell_type": "code",
   "execution_count": 32,
   "metadata": {
    "collapsed": false
   },
   "outputs": [
    {
     "data": {
      "text/plain": [
       "array([[ -1.73252632e+00,  -2.54436416e+00,  -5.62011691e-01, ...,\n",
       "         -4.83865990e-03,   0.00000000e+00,   8.46061344e-04],\n",
       "       [ -1.73249602e+00,  -2.54045236e+00,   1.77932242e+00, ...,\n",
       "         -4.83865990e-03,   0.00000000e+00,   8.46061344e-04],\n",
       "       [ -1.73246573e+00,  -2.53923104e+00,  -5.62011691e-01, ...,\n",
       "         -4.83865990e-03,   0.00000000e+00,   8.46061344e-04],\n",
       "       ..., \n",
       "       [  1.73353115e+00,   1.09874571e+00,  -5.62011691e-01, ...,\n",
       "         -4.83865990e-03,   0.00000000e+00,   1.64609695e+00],\n",
       "       [  1.73356145e+00,   1.09895204e+00,  -5.62011691e-01, ...,\n",
       "         -4.83865990e-03,   0.00000000e+00,   8.46061344e-04],\n",
       "       [  1.73359175e+00,   1.10264790e+00,  -5.62011691e-01, ...,\n",
       "         -4.83865990e-03,   0.00000000e+00,  -1.64440483e+00]])"
      ]
     },
     "execution_count": 32,
     "metadata": {},
     "output_type": "execute_result"
    }
   ],
   "source": [
    "scaled_train_bag"
   ]
  },
  {
   "cell_type": "code",
   "execution_count": 33,
   "metadata": {
    "collapsed": true
   },
   "outputs": [],
   "source": [
    "from sklearn import ensemble #импортируем ensemble\n",
    "import sklearn.cross_validation #импортируем кросс-валидацию"
   ]
  },
  {
   "cell_type": "code",
   "execution_count": 34,
   "metadata": {
    "collapsed": false
   },
   "outputs": [],
   "source": [
    "#c_est1 = np.linspace(2.0,10.0,num=10)\n",
    "#c_est2 = np.linspace(0.0001,0.001,num=10)\n",
    "c_est3 = np.linspace(0.002,0.01,num=10)\n",
    "c_est4 = np.linspace(0.02,0.1,num=10)\n",
    "#c_est5 = np.linspace(0.2,1.0,num=10)\n",
    "#c_est6 = np.linspace(11.0,100,num=10)\n",
    "#c_est7 = np.linspace(101,1000,num=10)\n",
    "#c_est8 = np.linspace(1001,10000,num=10)"
   ]
  },
  {
   "cell_type": "code",
   "execution_count": 35,
   "metadata": {
    "collapsed": false
   },
   "outputs": [],
   "source": [
    "c_est = []\n",
    "#for i in c_est1:\n",
    "#    c_est.append(i)\n",
    "#for i in c_est2:\n",
    "#    c_est.append(i)\n",
    "for i in c_est3:\n",
    "    c_est.append(i)    \n",
    "for i in c_est4:\n",
    "    c_est.append(i)\n",
    "#for i in c_est5:\n",
    "#    c_est.append(i)\n",
    "#for i in c_est6:\n",
    "#    c_est.append(i)\n",
    "#for i in c_est7:\n",
    "#    c_est.append(i)\n",
    "#for i in c_est8:\n",
    "#    c_est.append(i)\n",
    "#print len(c_est)"
   ]
  },
  {
   "cell_type": "code",
   "execution_count": 36,
   "metadata": {
    "collapsed": false
   },
   "outputs": [
    {
     "name": "stdout",
     "output_type": "stream",
     "text": [
      "[LibLinear]Time elapsed for c = 0.002 : 0:00:56.851265\n",
      "[LibLinear]Time elapsed for c = 0.00288888888889 : 0:01:03.815284\n",
      "[LibLinear]Time elapsed for c = 0.00377777777778 : 0:01:07.862754\n",
      "[LibLinear]Time elapsed for c = 0.00466666666667 : 0:01:08.712091\n",
      "[LibLinear]Time elapsed for c = 0.00555555555556 : 0:01:15.737719\n",
      "[LibLinear]Time elapsed for c = 0.00644444444444 : 0:01:17.882037\n",
      "[LibLinear]Time elapsed for c = 0.00733333333333 : 0:01:21.165129\n",
      "[LibLinear]Time elapsed for c = 0.00822222222222 : 0:01:22.101299\n",
      "[LibLinear]Time elapsed for c = 0.00911111111111 : 0:01:22.001495\n",
      "[LibLinear]Time elapsed for c = 0.01 : 0:01:23.045296\n",
      "[LibLinear]Time elapsed for c = 0.02 : 0:01:35.739685\n",
      "[LibLinear]Time elapsed for c = 0.0288888888889 : 0:01:42.887511\n",
      "[LibLinear]Time elapsed for c = 0.0377777777778 : 0:01:50.495936\n",
      "[LibLinear]Time elapsed for c = 0.0466666666667 : 0:01:48.557039\n",
      "[LibLinear]Time elapsed for c = 0.0555555555556 : 0:01:52.067226\n",
      "[LibLinear]Time elapsed for c = 0.0644444444444 : 0:01:57.170970\n",
      "[LibLinear]Time elapsed for c = 0.0733333333333 : 0:01:56.599503\n",
      "[LibLinear]Time elapsed for c = 0.0822222222222 : 0:02:06.284798\n",
      "[LibLinear]Time elapsed for c = 0.0911111111111 : 0:02:00.145379\n",
      "[LibLinear]Time elapsed for c = 0.1 : 0:01:59.962672\n"
     ]
    }
   ],
   "source": [
    "import time\n",
    "import datetime\n",
    "#c = 0.00137777777778\n",
    "bag_score = []#список результатов\n",
    "c_est = np.array(c_est)#значения C для перебора\n",
    "#c_est = [0.0000001,0.000001,0.00001,0.0001]\n",
    "lr_models = []\n",
    "for c in c_est:\n",
    "    start_time = datetime.datetime.now()\n",
    "    logr = LogisticRegression(penalty='l2',C=c,tol=0.000001,verbose=True)#логистическая регрессия\n",
    "    lr_models.append(logr.fit(scaled_train_bag, features_target))#обучаем класификатор\n",
    "    #bag_score.append(sklearn.cross_validation.cross_val_score(logr,scaled_train_bag, features_target,cv=kf, scoring='roc_auc').mean())\n",
    "    #к списку результатов добавляем средний получившийся на кросс-валидации результат по roc_auc score\n",
    "    #print bag_score\n",
    "    print 'Time elapsed for c =', c,':', datetime.datetime.now() - start_time"
   ]
  },
  {
   "cell_type": "code",
   "execution_count": 36,
   "metadata": {
    "collapsed": true
   },
   "outputs": [],
   "source": [
    "#проделаем над тестовым набором те же преобразования, что и над обучающим"
   ]
  },
  {
   "cell_type": "code",
   "execution_count": 37,
   "metadata": {
    "collapsed": false
   },
   "outputs": [
    {
     "data": {
      "text/html": [
       "<div>\n",
       "<table border=\"1\" class=\"dataframe\">\n",
       "  <thead>\n",
       "    <tr style=\"text-align: right;\">\n",
       "      <th></th>\n",
       "      <th>match_id</th>\n",
       "      <th>start_time</th>\n",
       "      <th>lobby_type</th>\n",
       "      <th>r1_hero</th>\n",
       "      <th>r1_level_0</th>\n",
       "      <th>r1_xp_0</th>\n",
       "      <th>r1_gold_0</th>\n",
       "      <th>r1_lh_0</th>\n",
       "      <th>r1_kills_0</th>\n",
       "      <th>r1_deaths_0</th>\n",
       "      <th>...</th>\n",
       "      <th>r_xp_sum_rate_300</th>\n",
       "      <th>d_xp_sum_rate_300</th>\n",
       "      <th>r_level_mean_rate_300</th>\n",
       "      <th>d_level_mean_rate_300</th>\n",
       "      <th>r_level_sum_rate_300</th>\n",
       "      <th>d_level_sum_rate_300</th>\n",
       "      <th>r_gold_mean_rate_300</th>\n",
       "      <th>d_gold_mean_rate_300</th>\n",
       "      <th>r_gold_sum_rate_300</th>\n",
       "      <th>d_gold_sum_rate_300</th>\n",
       "    </tr>\n",
       "  </thead>\n",
       "  <tbody>\n",
       "    <tr>\n",
       "      <th>0</th>\n",
       "      <td>0</td>\n",
       "      <td>1430198770</td>\n",
       "      <td>7</td>\n",
       "      <td>11</td>\n",
       "      <td>0</td>\n",
       "      <td>0</td>\n",
       "      <td>0</td>\n",
       "      <td>0</td>\n",
       "      <td>0</td>\n",
       "      <td>0</td>\n",
       "      <td>...</td>\n",
       "      <td>1267.6</td>\n",
       "      <td>1179.0</td>\n",
       "      <td>0.76</td>\n",
       "      <td>0.72</td>\n",
       "      <td>3.8</td>\n",
       "      <td>3.6</td>\n",
       "      <td>200.88</td>\n",
       "      <td>200.84</td>\n",
       "      <td>1004.4</td>\n",
       "      <td>1004.2</td>\n",
       "    </tr>\n",
       "    <tr>\n",
       "      <th>1</th>\n",
       "      <td>1</td>\n",
       "      <td>1430220345</td>\n",
       "      <td>0</td>\n",
       "      <td>42</td>\n",
       "      <td>1</td>\n",
       "      <td>0</td>\n",
       "      <td>0</td>\n",
       "      <td>0</td>\n",
       "      <td>0</td>\n",
       "      <td>0</td>\n",
       "      <td>...</td>\n",
       "      <td>1074.8</td>\n",
       "      <td>1046.0</td>\n",
       "      <td>0.68</td>\n",
       "      <td>0.68</td>\n",
       "      <td>3.4</td>\n",
       "      <td>3.4</td>\n",
       "      <td>187.92</td>\n",
       "      <td>220.20</td>\n",
       "      <td>939.6</td>\n",
       "      <td>1101.0</td>\n",
       "    </tr>\n",
       "    <tr>\n",
       "      <th>2</th>\n",
       "      <td>2</td>\n",
       "      <td>1430227081</td>\n",
       "      <td>7</td>\n",
       "      <td>33</td>\n",
       "      <td>0</td>\n",
       "      <td>0</td>\n",
       "      <td>0</td>\n",
       "      <td>0</td>\n",
       "      <td>0</td>\n",
       "      <td>0</td>\n",
       "      <td>...</td>\n",
       "      <td>1537.0</td>\n",
       "      <td>1350.6</td>\n",
       "      <td>0.72</td>\n",
       "      <td>0.72</td>\n",
       "      <td>3.6</td>\n",
       "      <td>3.6</td>\n",
       "      <td>267.08</td>\n",
       "      <td>231.44</td>\n",
       "      <td>1335.4</td>\n",
       "      <td>1157.2</td>\n",
       "    </tr>\n",
       "    <tr>\n",
       "      <th>3</th>\n",
       "      <td>3</td>\n",
       "      <td>1430263531</td>\n",
       "      <td>1</td>\n",
       "      <td>29</td>\n",
       "      <td>0</td>\n",
       "      <td>0</td>\n",
       "      <td>0</td>\n",
       "      <td>0</td>\n",
       "      <td>0</td>\n",
       "      <td>0</td>\n",
       "      <td>...</td>\n",
       "      <td>1131.6</td>\n",
       "      <td>1095.0</td>\n",
       "      <td>0.64</td>\n",
       "      <td>0.64</td>\n",
       "      <td>3.2</td>\n",
       "      <td>3.2</td>\n",
       "      <td>172.32</td>\n",
       "      <td>189.16</td>\n",
       "      <td>861.6</td>\n",
       "      <td>945.8</td>\n",
       "    </tr>\n",
       "    <tr>\n",
       "      <th>4</th>\n",
       "      <td>4</td>\n",
       "      <td>1430282290</td>\n",
       "      <td>7</td>\n",
       "      <td>13</td>\n",
       "      <td>1</td>\n",
       "      <td>0</td>\n",
       "      <td>0</td>\n",
       "      <td>0</td>\n",
       "      <td>0</td>\n",
       "      <td>0</td>\n",
       "      <td>...</td>\n",
       "      <td>1070.2</td>\n",
       "      <td>1172.4</td>\n",
       "      <td>0.64</td>\n",
       "      <td>0.72</td>\n",
       "      <td>3.2</td>\n",
       "      <td>3.6</td>\n",
       "      <td>195.52</td>\n",
       "      <td>202.72</td>\n",
       "      <td>977.6</td>\n",
       "      <td>1013.6</td>\n",
       "    </tr>\n",
       "  </tbody>\n",
       "</table>\n",
       "<p>5 rows × 747 columns</p>\n",
       "</div>"
      ],
      "text/plain": [
       "   match_id  start_time  lobby_type  r1_hero  r1_level_0  r1_xp_0  r1_gold_0  \\\n",
       "0         0  1430198770           7       11           0        0          0   \n",
       "1         1  1430220345           0       42           1        0          0   \n",
       "2         2  1430227081           7       33           0        0          0   \n",
       "3         3  1430263531           1       29           0        0          0   \n",
       "4         4  1430282290           7       13           1        0          0   \n",
       "\n",
       "   r1_lh_0  r1_kills_0  r1_deaths_0         ...           r_xp_sum_rate_300  \\\n",
       "0        0           0            0         ...                      1267.6   \n",
       "1        0           0            0         ...                      1074.8   \n",
       "2        0           0            0         ...                      1537.0   \n",
       "3        0           0            0         ...                      1131.6   \n",
       "4        0           0            0         ...                      1070.2   \n",
       "\n",
       "   d_xp_sum_rate_300  r_level_mean_rate_300  d_level_mean_rate_300  \\\n",
       "0             1179.0                   0.76                   0.72   \n",
       "1             1046.0                   0.68                   0.68   \n",
       "2             1350.6                   0.72                   0.72   \n",
       "3             1095.0                   0.64                   0.64   \n",
       "4             1172.4                   0.64                   0.72   \n",
       "\n",
       "   r_level_sum_rate_300  d_level_sum_rate_300  r_gold_mean_rate_300  \\\n",
       "0                   3.8                   3.6                200.88   \n",
       "1                   3.4                   3.4                187.92   \n",
       "2                   3.6                   3.6                267.08   \n",
       "3                   3.2                   3.2                172.32   \n",
       "4                   3.2                   3.6                195.52   \n",
       "\n",
       "   d_gold_mean_rate_300  r_gold_sum_rate_300  d_gold_sum_rate_300  \n",
       "0                200.84               1004.4               1004.2  \n",
       "1                220.20                939.6               1101.0  \n",
       "2                231.44               1335.4               1157.2  \n",
       "3                189.16                861.6                945.8  \n",
       "4                202.72                977.6               1013.6  \n",
       "\n",
       "[5 rows x 747 columns]"
      ]
     },
     "execution_count": 37,
     "metadata": {},
     "output_type": "execute_result"
    }
   ],
   "source": [
    "features_train.head()"
   ]
  },
  {
   "cell_type": "code",
   "execution_count": 38,
   "metadata": {
    "collapsed": true
   },
   "outputs": [],
   "source": [
    "features_test_copy = features_test.drop(['lobby_type','r1_hero','r2_hero','r3_hero','r4_hero','r5_hero','d1_hero','d2_hero','d3_hero','d4_hero','d5_hero'],axis=1)"
   ]
  },
  {
   "cell_type": "code",
   "execution_count": 39,
   "metadata": {
    "collapsed": true
   },
   "outputs": [],
   "source": [
    "scaled_test_copy = scaler.fit_transform(features_test_copy) #scaling для набора данных без информации о героях"
   ]
  },
  {
   "cell_type": "code",
   "execution_count": 40,
   "metadata": {
    "collapsed": true
   },
   "outputs": [],
   "source": [
    "#bag of words из примера\n",
    "X_test_pick = np.zeros((features_test.shape[0], 112))\n",
    "\n",
    "for i, match_id in enumerate(features_test.index):\n",
    "    for p in xrange(5):\n",
    "        X_test_pick[i, features_test.ix[match_id, 'r%d_hero' % (p+1)]-1] = 1\n",
    "        X_test_pick[i, features_test.ix[match_id, 'd%d_hero' % (p+1)]-1] = -1"
   ]
  },
  {
   "cell_type": "code",
   "execution_count": 42,
   "metadata": {
    "collapsed": false
   },
   "outputs": [],
   "source": [
    "X_test_pair_pick = np.zeros((features_test.shape[0], 6105))\n",
    "n_iter = 0\n",
    "\n",
    "for i in xrange(112):\n",
    "    for j in xrange(i+1,111):\n",
    "        X_test_pair_pick[:, n_iter] = X_test_pick[:,i] + X_test_pick[:,j]\n",
    "        n_iter += 1"
   ]
  },
  {
   "cell_type": "code",
   "execution_count": 43,
   "metadata": {
    "collapsed": true
   },
   "outputs": [],
   "source": [
    "X_test_pair_pick[X_test_pair_pick==1]=0\n",
    "X_test_pair_pick[X_test_pair_pick==-1]=0\n",
    "X_test_pair_pick[X_test_pair_pick==2]=1\n",
    "X_test_pair_pick[X_test_pair_pick==-2]=-1"
   ]
  },
  {
   "cell_type": "code",
   "execution_count": 41,
   "metadata": {
    "collapsed": true
   },
   "outputs": [],
   "source": [
    "scaled_test_pick = scaler.fit_transform(X_test_pick) #scaling для pick'а\n",
    "#scaled_test_pair_pick = scaler.fit_transform(X_test_pair_pick)"
   ]
  },
  {
   "cell_type": "code",
   "execution_count": 42,
   "metadata": {
    "collapsed": true
   },
   "outputs": [],
   "source": [
    "#scaled_test_bag = np.hstack((scaled_test_copy,scaled_test_pick, scaled_test_pair_pick)) #объединяем информацию\n",
    "scaled_test_bag = np.hstack((scaled_test_copy,scaled_test_pick))"
   ]
  },
  {
   "cell_type": "code",
   "execution_count": 43,
   "metadata": {
    "collapsed": false
   },
   "outputs": [],
   "source": [
    "for i in range(len(lr_models)):\n",
    "    if i==0:\n",
    "        result = lr_models[i].predict_proba(scaled_test_bag)[:,1]\n",
    "    else:\n",
    "        probabilities = lr_models[i].predict_proba(scaled_test_bag)[:,1]\n",
    "        result += probabilities"
   ]
  },
  {
   "cell_type": "code",
   "execution_count": 44,
   "metadata": {
    "collapsed": false
   },
   "outputs": [],
   "source": [
    "result = result.transpose()      "
   ]
  },
  {
   "cell_type": "code",
   "execution_count": 45,
   "metadata": {
    "collapsed": false
   },
   "outputs": [
    {
     "data": {
      "text/plain": [
       "array([ 16.41360962,  15.6127974 ,   3.89469046, ...,   4.80060679,\n",
       "        14.98000624,   9.29979873])"
      ]
     },
     "execution_count": 45,
     "metadata": {},
     "output_type": "execute_result"
    }
   ],
   "source": [
    "result"
   ]
  },
  {
   "cell_type": "code",
   "execution_count": 46,
   "metadata": {
    "collapsed": false
   },
   "outputs": [],
   "source": [
    "result = result/len(lr_models)"
   ]
  },
  {
   "cell_type": "code",
   "execution_count": 47,
   "metadata": {
    "collapsed": false
   },
   "outputs": [
    {
     "data": {
      "text/plain": [
       "array([ 0.82068048,  0.78063987,  0.19473452, ...,  0.24003034,\n",
       "        0.74900031,  0.46498994])"
      ]
     },
     "execution_count": 47,
     "metadata": {},
     "output_type": "execute_result"
    }
   ],
   "source": [
    "result"
   ]
  },
  {
   "cell_type": "code",
   "execution_count": 48,
   "metadata": {
    "collapsed": true
   },
   "outputs": [],
   "source": [
    "#result=pd.DataFrame(result)"
   ]
  },
  {
   "cell_type": "code",
   "execution_count": 49,
   "metadata": {
    "collapsed": false
   },
   "outputs": [],
   "source": [
    "test = pd.read_csv('features_test.csv')#считывание test_features"
   ]
  },
  {
   "cell_type": "code",
   "execution_count": 50,
   "metadata": {
    "collapsed": true
   },
   "outputs": [],
   "source": [
    "test_id = test['match_id']"
   ]
  },
  {
   "cell_type": "code",
   "execution_count": 51,
   "metadata": {
    "collapsed": false
   },
   "outputs": [],
   "source": [
    "record = np.vstack((test_id,result)).transpose()"
   ]
  },
  {
   "cell_type": "code",
   "execution_count": 52,
   "metadata": {
    "collapsed": false
   },
   "outputs": [
    {
     "data": {
      "text/plain": [
       "array([[  6.00000000e+00,   8.20680481e-01],\n",
       "       [  7.00000000e+00,   7.80639870e-01],\n",
       "       [  1.00000000e+01,   1.94734523e-01],\n",
       "       ..., \n",
       "       [  1.14378000e+05,   2.40030339e-01],\n",
       "       [  1.14393000e+05,   7.49000312e-01],\n",
       "       [  1.14398000e+05,   4.64989936e-01]])"
      ]
     },
     "execution_count": 52,
     "metadata": {},
     "output_type": "execute_result"
    }
   ],
   "source": [
    "record"
   ]
  },
  {
   "cell_type": "code",
   "execution_count": 53,
   "metadata": {
    "collapsed": true
   },
   "outputs": [],
   "source": [
    "record=pd.DataFrame(record)"
   ]
  },
  {
   "cell_type": "code",
   "execution_count": 54,
   "metadata": {
    "collapsed": true
   },
   "outputs": [],
   "source": [
    "record[0]=record[0].astype(int)"
   ]
  },
  {
   "cell_type": "code",
   "execution_count": 55,
   "metadata": {
    "collapsed": true
   },
   "outputs": [],
   "source": [
    "record.to_csv('result.csv', header=[\"match_id\",\"radiant_win\"],index=False)"
   ]
  },
  {
   "cell_type": "code",
   "execution_count": null,
   "metadata": {
    "collapsed": true
   },
   "outputs": [],
   "source": []
  }
 ],
 "metadata": {
  "kernelspec": {
   "display_name": "Python 2",
   "language": "python",
   "name": "python2"
  },
  "language_info": {
   "codemirror_mode": {
    "name": "ipython",
    "version": 2
   },
   "file_extension": ".py",
   "mimetype": "text/x-python",
   "name": "python",
   "nbconvert_exporter": "python",
   "pygments_lexer": "ipython2",
   "version": "2.7.12"
  }
 },
 "nbformat": 4,
 "nbformat_minor": 0
}
